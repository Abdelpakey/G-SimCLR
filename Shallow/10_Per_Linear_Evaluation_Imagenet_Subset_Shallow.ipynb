{
  "nbformat": 4,
  "nbformat_minor": 0,
  "metadata": {
    "accelerator": "GPU",
    "colab": {
      "name": "10_Per_Linear_Evaluation_Imagenet_Subset_Shallow.ipynb",
      "provenance": [],
      "collapsed_sections": [],
      "include_colab_link": true
    },
    "kernelspec": {
      "display_name": "Python 3",
      "language": "python",
      "name": "python3"
    },
    "language_info": {
      "codemirror_mode": {
        "name": "ipython",
        "version": 3
      },
      "file_extension": ".py",
      "mimetype": "text/x-python",
      "name": "python",
      "nbconvert_exporter": "python",
      "pygments_lexer": "ipython3",
      "version": "3.7.1"
    }
  },
  "cells": [
    {
      "cell_type": "markdown",
      "metadata": {
        "id": "view-in-github",
        "colab_type": "text"
      },
      "source": [
        "<a href=\"https://colab.research.google.com/github/ariG23498/SimCLR_PseudoLabel/blob/master/Shallow/10_Per_Linear_Evaluation_Imagenet_Subset_Shallow.ipynb\" target=\"_parent\"><img src=\"https://colab.research.google.com/assets/colab-badge.svg\" alt=\"Open In Colab\"/></a>"
      ]
    },
    {
      "cell_type": "markdown",
      "metadata": {
        "id": "7ck3ljcss8R2",
        "colab_type": "text"
      },
      "source": [
        "## Initial setup"
      ]
    },
    {
      "cell_type": "code",
      "metadata": {
        "colab_type": "code",
        "id": "lIYdn1woOS1n",
        "colab": {
          "base_uri": "https://localhost:8080/",
          "height": 35
        },
        "outputId": "595004c6-1060-457b-ff5d-f30b37f72c08"
      },
      "source": [
        "import tensorflow as tf\n",
        "print(tf.__version__)"
      ],
      "execution_count": 1,
      "outputs": [
        {
          "output_type": "stream",
          "text": [
            "2.3.0\n"
          ],
          "name": "stdout"
        }
      ]
    },
    {
      "cell_type": "code",
      "metadata": {
        "colab_type": "code",
        "id": "M3obU9ZXpGR0",
        "colab": {
          "base_uri": "https://localhost:8080/",
          "height": 384
        },
        "outputId": "474d5637-d449-4d81-deb3-2bb450a0a66e"
      },
      "source": [
        "!nvidia-smi"
      ],
      "execution_count": 2,
      "outputs": [
        {
          "output_type": "stream",
          "text": [
            "Thu Aug 20 12:52:29 2020       \n",
            "+-----------------------------------------------------------------------------+\n",
            "| NVIDIA-SMI 450.57       Driver Version: 418.67       CUDA Version: 10.1     |\n",
            "|-------------------------------+----------------------+----------------------+\n",
            "| GPU  Name        Persistence-M| Bus-Id        Disp.A | Volatile Uncorr. ECC |\n",
            "| Fan  Temp  Perf  Pwr:Usage/Cap|         Memory-Usage | GPU-Util  Compute M. |\n",
            "|                               |                      |               MIG M. |\n",
            "|===============================+======================+======================|\n",
            "|   0  Tesla T4            Off  | 00000000:00:04.0 Off |                    0 |\n",
            "| N/A   64C    P8    11W /  70W |      0MiB / 15079MiB |      0%      Default |\n",
            "|                               |                      |                 ERR! |\n",
            "+-------------------------------+----------------------+----------------------+\n",
            "                                                                               \n",
            "+-----------------------------------------------------------------------------+\n",
            "| Processes:                                                                  |\n",
            "|  GPU   GI   CI        PID   Type   Process name                  GPU Memory |\n",
            "|        ID   ID                                                   Usage      |\n",
            "|=============================================================================|\n",
            "|  No running processes found                                                 |\n",
            "+-----------------------------------------------------------------------------+\n"
          ],
          "name": "stdout"
        }
      ]
    },
    {
      "cell_type": "markdown",
      "metadata": {
        "id": "hhE3wbuUtJC3",
        "colab_type": "text"
      },
      "source": [
        "### Restoring model weights"
      ]
    },
    {
      "cell_type": "code",
      "metadata": {
        "colab_type": "code",
        "id": "JoQSrT6gpbNM",
        "scrolled": true,
        "colab": {
          "base_uri": "https://localhost:8080/",
          "height": 129
        },
        "outputId": "c2161392-deee-4508-fc0e-8dba81513e9e"
      },
      "source": [
        "from google.colab import drive\n",
        "drive.mount('/content/drive')"
      ],
      "execution_count": 3,
      "outputs": [
        {
          "output_type": "stream",
          "text": [
            "Go to this URL in a browser: https://accounts.google.com/o/oauth2/auth?client_id=947318989803-6bn6qk8qdgf4n4g3pfee6491hc0brc4i.apps.googleusercontent.com&redirect_uri=urn%3aietf%3awg%3aoauth%3a2.0%3aoob&scope=email%20https%3a%2f%2fwww.googleapis.com%2fauth%2fdocs.test%20https%3a%2f%2fwww.googleapis.com%2fauth%2fdrive%20https%3a%2f%2fwww.googleapis.com%2fauth%2fdrive.photos.readonly%20https%3a%2f%2fwww.googleapis.com%2fauth%2fpeopleapi.readonly&response_type=code\n",
            "\n",
            "Enter your authorization code:\n",
            "··········\n",
            "Mounted at /content/drive\n"
          ],
          "name": "stdout"
        }
      ]
    },
    {
      "cell_type": "code",
      "metadata": {
        "id": "gGLF04gc7hru",
        "colab_type": "code",
        "colab": {}
      },
      "source": [
        "!cp -r /content/drive/My\\ Drive/Colab\\ Notebooks/Souradip\\ Sayak/SimCLR_PseudoLabels/Models/resnet_simclr_modified_ae_shallow.h5 ."
      ],
      "execution_count": 4,
      "outputs": []
    },
    {
      "cell_type": "code",
      "metadata": {
        "colab_type": "code",
        "id": "dCsK6zBRpmdo",
        "colab": {
          "base_uri": "https://localhost:8080/",
          "height": 74
        },
        "outputId": "493f5a77-357a-4544-8539-bc4d47206138"
      },
      "source": [
        "# Other imports\n",
        "from sklearn.preprocessing import LabelEncoder\n",
        "from tensorflow.keras.layers import *\n",
        "from tensorflow.keras.models import *\n",
        "import matplotlib.pyplot as plt\n",
        "from imutils import paths\n",
        "from tqdm import tqdm\n",
        "import tensorflow as tf\n",
        "import seaborn as sns\n",
        "import numpy as np\n",
        "import cv2\n",
        "\n",
        "# Random seed fixation\n",
        "tf.random.set_seed(666)\n",
        "np.random.seed(666)"
      ],
      "execution_count": 5,
      "outputs": [
        {
          "output_type": "stream",
          "text": [
            "/usr/local/lib/python3.6/dist-packages/statsmodels/tools/_testing.py:19: FutureWarning: pandas.util.testing is deprecated. Use the functions in the public API at pandas.testing instead.\n",
            "  import pandas.util.testing as tm\n"
          ],
          "name": "stderr"
        }
      ]
    },
    {
      "cell_type": "markdown",
      "metadata": {
        "id": "yP3vs53rs8SM",
        "colab_type": "text"
      },
      "source": [
        "## Dataset gathering and preparation"
      ]
    },
    {
      "cell_type": "code",
      "metadata": {
        "colab_type": "code",
        "id": "HJQZoWXYpjeN",
        "colab": {
          "base_uri": "https://localhost:8080/",
          "height": 109
        },
        "outputId": "bf923697-6a08-49c7-8685-e325aabd3678"
      },
      "source": [
        "# Gather dataset\n",
        "!git clone https://github.com/thunderInfy/imagenet-5-categories"
      ],
      "execution_count": 6,
      "outputs": [
        {
          "output_type": "stream",
          "text": [
            "Cloning into 'imagenet-5-categories'...\n",
            "remote: Enumerating objects: 1532, done.\u001b[K\n",
            "remote: Total 1532 (delta 0), reused 0 (delta 0), pack-reused 1532\u001b[K\n",
            "Receiving objects: 100% (1532/1532), 88.56 MiB | 47.11 MiB/s, done.\n",
            "Resolving deltas: 100% (1/1), done.\n"
          ],
          "name": "stdout"
        }
      ]
    },
    {
      "cell_type": "code",
      "metadata": {
        "colab_type": "code",
        "id": "2PRnOXCdppEg",
        "colab": {
          "base_uri": "https://localhost:8080/",
          "height": 35
        },
        "outputId": "990a126f-5297-4b6d-83b1-fa3e153e1fbc"
      },
      "source": [
        "# Train and test image paths\n",
        "train_images = list(paths.list_images(\"imagenet-5-categories/train\"))\n",
        "test_images = list(paths.list_images(\"imagenet-5-categories/test\"))\n",
        "print(len(train_images), len(test_images))"
      ],
      "execution_count": 7,
      "outputs": [
        {
          "output_type": "stream",
          "text": [
            "1250 250\n"
          ],
          "name": "stdout"
        }
      ]
    },
    {
      "cell_type": "code",
      "metadata": {
        "colab_type": "code",
        "id": "3-unR2HSqQJ0",
        "colab": {
          "base_uri": "https://localhost:8080/",
          "height": 35
        },
        "outputId": "7e1ed927-9826-46ad-bd3f-92faebda7d26"
      },
      "source": [
        "# 10% of the dataset\n",
        "train_images_10 = np.random.choice(train_images, len(train_images)//10)\n",
        "len(train_images_10)"
      ],
      "execution_count": 8,
      "outputs": [
        {
          "output_type": "execute_result",
          "data": {
            "text/plain": [
              "125"
            ]
          },
          "metadata": {
            "tags": []
          },
          "execution_count": 8
        }
      ]
    },
    {
      "cell_type": "code",
      "metadata": {
        "colab_type": "code",
        "id": "9giRP85TqizW",
        "colab": {}
      },
      "source": [
        "def prepare_images(image_paths):\n",
        "    images = []\n",
        "    labels = []\n",
        "\n",
        "    for image in tqdm(image_paths):\n",
        "        image_pixels = plt.imread(image)\n",
        "        image_pixels = cv2.resize(image_pixels, (224, 224))\n",
        "        image_pixels = image_pixels/255.\n",
        "\n",
        "        label = image.split(\"/\")[2].split(\"_\")[0]\n",
        "\n",
        "        images.append(image_pixels)\n",
        "        labels.append(label)\n",
        "\n",
        "    images = np.array(images)\n",
        "    labels = np.array(labels)\n",
        "\n",
        "    print(images.shape, labels.shape)\n",
        "\n",
        "    return images, labels"
      ],
      "execution_count": 9,
      "outputs": []
    },
    {
      "cell_type": "code",
      "metadata": {
        "colab_type": "code",
        "id": "YJL8IW6UsHkt",
        "colab": {
          "base_uri": "https://localhost:8080/",
          "height": 90
        },
        "outputId": "c618aee1-70e5-4eab-dd0c-920ca9dc8725"
      },
      "source": [
        "X_train, y_train = prepare_images(train_images_10)\n",
        "X_test, y_test = prepare_images(test_images)"
      ],
      "execution_count": 10,
      "outputs": [
        {
          "output_type": "stream",
          "text": [
            "100%|██████████| 125/125 [00:00<00:00, 198.39it/s]\n",
            "  5%|▌         | 13/250 [00:00<00:01, 124.29it/s]"
          ],
          "name": "stderr"
        },
        {
          "output_type": "stream",
          "text": [
            "(125, 224, 224, 3) (125,)\n"
          ],
          "name": "stdout"
        },
        {
          "output_type": "stream",
          "text": [
            "100%|██████████| 250/250 [00:01<00:00, 200.18it/s]\n"
          ],
          "name": "stderr"
        },
        {
          "output_type": "stream",
          "text": [
            "(250, 224, 224, 3) (250,)\n"
          ],
          "name": "stdout"
        }
      ]
    },
    {
      "cell_type": "code",
      "metadata": {
        "colab_type": "code",
        "id": "YAv47WlJvse5",
        "colab": {}
      },
      "source": [
        "le = LabelEncoder()\n",
        "y_train_enc = le.fit_transform(y_train)\n",
        "y_test_enc = le.transform(y_test)"
      ],
      "execution_count": 11,
      "outputs": []
    },
    {
      "cell_type": "markdown",
      "metadata": {
        "id": "vdM74W7Ws8Sl",
        "colab_type": "text"
      },
      "source": [
        "## Utilities"
      ]
    },
    {
      "cell_type": "code",
      "metadata": {
        "colab_type": "code",
        "id": "G8ha8pK7sSUO",
        "colab": {}
      },
      "source": [
        "# Architecture utils\n",
        "def get_resnet_simclr(hidden_1, hidden_2, hidden_3):\n",
        "    base_model = tf.keras.applications.ResNet50(include_top=False, weights=None, input_shape=(224, 224, 3))\n",
        "    base_model.trainabe = True\n",
        "    inputs = Input((224, 224, 3))\n",
        "    h = base_model(inputs, training=True)\n",
        "    h = GlobalAveragePooling2D()(h)\n",
        "\n",
        "    projection_1 = Dense(hidden_1)(h)\n",
        "    projection_1 = Activation(\"relu\")(projection_1)\n",
        "    projection_2 = Dense(hidden_2)(projection_1)\n",
        "    projection_2 = Activation(\"relu\")(projection_2)\n",
        "    projection_3 = Dense(hidden_3)(projection_2)\n",
        "\n",
        "    resnet_simclr = Model(inputs, projection_3)\n",
        "\n",
        "    return resnet_simclr"
      ],
      "execution_count": 12,
      "outputs": []
    },
    {
      "cell_type": "code",
      "metadata": {
        "colab_type": "code",
        "id": "X0GklYB-sZYz",
        "colab": {
          "base_uri": "https://localhost:8080/",
          "height": 458
        },
        "outputId": "66ea0252-394a-4b02-a919-a62e34650036"
      },
      "source": [
        "resnet_simclr = get_resnet_simclr(256, 128, 50)\n",
        "resnet_simclr.load_weights('resnet_simclr_modified_ae_shallow.h5')\n",
        "resnet_simclr.summary()"
      ],
      "execution_count": 13,
      "outputs": [
        {
          "output_type": "stream",
          "text": [
            "Model: \"functional_1\"\n",
            "_________________________________________________________________\n",
            "Layer (type)                 Output Shape              Param #   \n",
            "=================================================================\n",
            "input_2 (InputLayer)         [(None, 224, 224, 3)]     0         \n",
            "_________________________________________________________________\n",
            "resnet50 (Functional)        (None, 7, 7, 2048)        23587712  \n",
            "_________________________________________________________________\n",
            "global_average_pooling2d (Gl (None, 2048)              0         \n",
            "_________________________________________________________________\n",
            "dense (Dense)                (None, 256)               524544    \n",
            "_________________________________________________________________\n",
            "activation (Activation)      (None, 256)               0         \n",
            "_________________________________________________________________\n",
            "dense_1 (Dense)              (None, 128)               32896     \n",
            "_________________________________________________________________\n",
            "activation_1 (Activation)    (None, 128)               0         \n",
            "_________________________________________________________________\n",
            "dense_2 (Dense)              (None, 50)                6450      \n",
            "=================================================================\n",
            "Total params: 24,151,602\n",
            "Trainable params: 24,098,482\n",
            "Non-trainable params: 53,120\n",
            "_________________________________________________________________\n"
          ],
          "name": "stdout"
        }
      ]
    },
    {
      "cell_type": "code",
      "metadata": {
        "colab_type": "code",
        "id": "Z1tFKw-7ziaG",
        "colab": {}
      },
      "source": [
        "def plot_training(H):\n",
        "\tplt.plot(H.history[\"loss\"], label=\"train_loss\")\n",
        "\tplt.plot(H.history[\"val_loss\"], label=\"val_loss\")\n",
        "\tplt.plot(H.history[\"accuracy\"], label=\"train_acc\")\n",
        "\tplt.plot(H.history[\"val_accuracy\"], label=\"val_acc\")\n",
        "\tplt.title(\"Training Loss and Accuracy\")\n",
        "\tplt.xlabel(\"Epoch #\")\n",
        "\tplt.ylabel(\"Loss/Accuracy\")\n",
        "\tplt.legend(loc=\"lower left\")\n",
        "\tplt.show()"
      ],
      "execution_count": 14,
      "outputs": []
    },
    {
      "cell_type": "code",
      "metadata": {
        "colab_type": "code",
        "id": "7XojYORatX4p",
        "colab": {}
      },
      "source": [
        "def get_linear_model(features):\n",
        "    linear_model = Sequential([Dense(5, input_shape=(features, ), activation=\"softmax\")])\n",
        "    return linear_model"
      ],
      "execution_count": 15,
      "outputs": []
    },
    {
      "cell_type": "markdown",
      "metadata": {
        "id": "_s0nfTYos8Sy",
        "colab_type": "text"
      },
      "source": [
        "## Evaluation"
      ]
    },
    {
      "cell_type": "code",
      "metadata": {
        "colab_type": "code",
        "id": "qnNJ5BKPsj4u",
        "colab": {
          "base_uri": "https://localhost:8080/",
          "height": 35
        },
        "outputId": "8fde2452-764f-441f-ab78-b6f463823ebd"
      },
      "source": [
        "# Encoder model with non-linear projections\n",
        "projection = Model(resnet_simclr.input, resnet_simclr.layers[-2].output)\n",
        "\n",
        "# Extract train and test features\n",
        "train_features = projection.predict(X_train)\n",
        "test_features = projection.predict(X_test)\n",
        "\n",
        "print(train_features.shape, test_features.shape)"
      ],
      "execution_count": 16,
      "outputs": [
        {
          "output_type": "stream",
          "text": [
            "(125, 128) (250, 128)\n"
          ],
          "name": "stdout"
        }
      ]
    },
    {
      "cell_type": "code",
      "metadata": {
        "colab_type": "code",
        "id": "1B9C0a6003-O",
        "colab": {}
      },
      "source": [
        "# Early Stopping to prevent overfitting\n",
        "es = tf.keras.callbacks.EarlyStopping(monitor=\"val_loss\", patience=2, verbose=2, restore_best_weights=True)"
      ],
      "execution_count": 17,
      "outputs": []
    },
    {
      "cell_type": "code",
      "metadata": {
        "colab_type": "code",
        "id": "-Rb-lf8KvMtR",
        "colab": {
          "base_uri": "https://localhost:8080/",
          "height": 1000
        },
        "outputId": "e30931d3-ebe6-4f47-9a58-709abd7a81c9"
      },
      "source": [
        "# Linear model\n",
        "linear_model = get_linear_model(128)\n",
        "linear_model.compile(loss=\"sparse_categorical_crossentropy\", metrics=[\"accuracy\"],\n",
        "                     optimizer=\"adam\")\n",
        "history = linear_model.fit(train_features, y_train_enc,\n",
        "                 validation_data=(test_features, y_test_enc),\n",
        "                 batch_size=64,\n",
        "                 epochs=100,\n",
        "                 callbacks=[es])\n",
        "plot_training(history)"
      ],
      "execution_count": 18,
      "outputs": [
        {
          "output_type": "stream",
          "text": [
            "Epoch 1/100\n",
            "2/2 [==============================] - 0s 68ms/step - loss: 3.5511 - accuracy: 0.2080 - val_loss: 2.7294 - val_accuracy: 0.3160\n",
            "Epoch 2/100\n",
            "2/2 [==============================] - 0s 12ms/step - loss: 3.2174 - accuracy: 0.2080 - val_loss: 2.4944 - val_accuracy: 0.3200\n",
            "Epoch 3/100\n",
            "2/2 [==============================] - 0s 11ms/step - loss: 2.9402 - accuracy: 0.2080 - val_loss: 2.2998 - val_accuracy: 0.3400\n",
            "Epoch 4/100\n",
            "2/2 [==============================] - 0s 11ms/step - loss: 2.6945 - accuracy: 0.2320 - val_loss: 2.1397 - val_accuracy: 0.3640\n",
            "Epoch 5/100\n",
            "2/2 [==============================] - 0s 11ms/step - loss: 2.4727 - accuracy: 0.2320 - val_loss: 2.0147 - val_accuracy: 0.3680\n",
            "Epoch 6/100\n",
            "2/2 [==============================] - 0s 11ms/step - loss: 2.3004 - accuracy: 0.2400 - val_loss: 1.9164 - val_accuracy: 0.3760\n",
            "Epoch 7/100\n",
            "2/2 [==============================] - 0s 11ms/step - loss: 2.1418 - accuracy: 0.2480 - val_loss: 1.8411 - val_accuracy: 0.3920\n",
            "Epoch 8/100\n",
            "2/2 [==============================] - 0s 15ms/step - loss: 2.0242 - accuracy: 0.2960 - val_loss: 1.7811 - val_accuracy: 0.3920\n",
            "Epoch 9/100\n",
            "2/2 [==============================] - 0s 17ms/step - loss: 1.9261 - accuracy: 0.2960 - val_loss: 1.7349 - val_accuracy: 0.3920\n",
            "Epoch 10/100\n",
            "2/2 [==============================] - 0s 11ms/step - loss: 1.8269 - accuracy: 0.3200 - val_loss: 1.6987 - val_accuracy: 0.3960\n",
            "Epoch 11/100\n",
            "2/2 [==============================] - 0s 11ms/step - loss: 1.7565 - accuracy: 0.3600 - val_loss: 1.6705 - val_accuracy: 0.4040\n",
            "Epoch 12/100\n",
            "2/2 [==============================] - 0s 11ms/step - loss: 1.6924 - accuracy: 0.3760 - val_loss: 1.6474 - val_accuracy: 0.4120\n",
            "Epoch 13/100\n",
            "2/2 [==============================] - 0s 12ms/step - loss: 1.6345 - accuracy: 0.3920 - val_loss: 1.6298 - val_accuracy: 0.4160\n",
            "Epoch 14/100\n",
            "2/2 [==============================] - 0s 11ms/step - loss: 1.5863 - accuracy: 0.4080 - val_loss: 1.6150 - val_accuracy: 0.4200\n",
            "Epoch 15/100\n",
            "2/2 [==============================] - 0s 11ms/step - loss: 1.5476 - accuracy: 0.4240 - val_loss: 1.6026 - val_accuracy: 0.4240\n",
            "Epoch 16/100\n",
            "2/2 [==============================] - 0s 11ms/step - loss: 1.5090 - accuracy: 0.4800 - val_loss: 1.5901 - val_accuracy: 0.4240\n",
            "Epoch 17/100\n",
            "2/2 [==============================] - 0s 11ms/step - loss: 1.4774 - accuracy: 0.4800 - val_loss: 1.5789 - val_accuracy: 0.4240\n",
            "Epoch 18/100\n",
            "2/2 [==============================] - 0s 13ms/step - loss: 1.4442 - accuracy: 0.4880 - val_loss: 1.5673 - val_accuracy: 0.4360\n",
            "Epoch 19/100\n",
            "2/2 [==============================] - 0s 11ms/step - loss: 1.4186 - accuracy: 0.4960 - val_loss: 1.5570 - val_accuracy: 0.4400\n",
            "Epoch 20/100\n",
            "2/2 [==============================] - 0s 11ms/step - loss: 1.3901 - accuracy: 0.5040 - val_loss: 1.5458 - val_accuracy: 0.4600\n",
            "Epoch 21/100\n",
            "2/2 [==============================] - 0s 11ms/step - loss: 1.3667 - accuracy: 0.5040 - val_loss: 1.5353 - val_accuracy: 0.4600\n",
            "Epoch 22/100\n",
            "2/2 [==============================] - 0s 11ms/step - loss: 1.3456 - accuracy: 0.5200 - val_loss: 1.5238 - val_accuracy: 0.4720\n",
            "Epoch 23/100\n",
            "2/2 [==============================] - 0s 11ms/step - loss: 1.3253 - accuracy: 0.5280 - val_loss: 1.5123 - val_accuracy: 0.4760\n",
            "Epoch 24/100\n",
            "2/2 [==============================] - 0s 13ms/step - loss: 1.3058 - accuracy: 0.5280 - val_loss: 1.5017 - val_accuracy: 0.4840\n",
            "Epoch 25/100\n",
            "2/2 [==============================] - 0s 11ms/step - loss: 1.2894 - accuracy: 0.5280 - val_loss: 1.4909 - val_accuracy: 0.4880\n",
            "Epoch 26/100\n",
            "2/2 [==============================] - 0s 12ms/step - loss: 1.2740 - accuracy: 0.5440 - val_loss: 1.4805 - val_accuracy: 0.4880\n",
            "Epoch 27/100\n",
            "2/2 [==============================] - 0s 11ms/step - loss: 1.2595 - accuracy: 0.5440 - val_loss: 1.4706 - val_accuracy: 0.4920\n",
            "Epoch 28/100\n",
            "2/2 [==============================] - 0s 11ms/step - loss: 1.2448 - accuracy: 0.5360 - val_loss: 1.4612 - val_accuracy: 0.4960\n",
            "Epoch 29/100\n",
            "2/2 [==============================] - 0s 11ms/step - loss: 1.2320 - accuracy: 0.5520 - val_loss: 1.4532 - val_accuracy: 0.4960\n",
            "Epoch 30/100\n",
            "2/2 [==============================] - 0s 13ms/step - loss: 1.2212 - accuracy: 0.5520 - val_loss: 1.4446 - val_accuracy: 0.4960\n",
            "Epoch 31/100\n",
            "2/2 [==============================] - 0s 11ms/step - loss: 1.2108 - accuracy: 0.5440 - val_loss: 1.4369 - val_accuracy: 0.4960\n",
            "Epoch 32/100\n",
            "2/2 [==============================] - 0s 12ms/step - loss: 1.2002 - accuracy: 0.5520 - val_loss: 1.4298 - val_accuracy: 0.4960\n",
            "Epoch 33/100\n",
            "2/2 [==============================] - 0s 11ms/step - loss: 1.1908 - accuracy: 0.5360 - val_loss: 1.4233 - val_accuracy: 0.4840\n",
            "Epoch 34/100\n",
            "2/2 [==============================] - 0s 11ms/step - loss: 1.1817 - accuracy: 0.5280 - val_loss: 1.4178 - val_accuracy: 0.4800\n",
            "Epoch 35/100\n",
            "2/2 [==============================] - 0s 11ms/step - loss: 1.1735 - accuracy: 0.5280 - val_loss: 1.4127 - val_accuracy: 0.4840\n",
            "Epoch 36/100\n",
            "2/2 [==============================] - 0s 11ms/step - loss: 1.1646 - accuracy: 0.5360 - val_loss: 1.4096 - val_accuracy: 0.4880\n",
            "Epoch 37/100\n",
            "2/2 [==============================] - 0s 11ms/step - loss: 1.1561 - accuracy: 0.5520 - val_loss: 1.4065 - val_accuracy: 0.4880\n",
            "Epoch 38/100\n",
            "2/2 [==============================] - 0s 11ms/step - loss: 1.1481 - accuracy: 0.5520 - val_loss: 1.4030 - val_accuracy: 0.4880\n",
            "Epoch 39/100\n",
            "2/2 [==============================] - 0s 11ms/step - loss: 1.1413 - accuracy: 0.5520 - val_loss: 1.4000 - val_accuracy: 0.4880\n",
            "Epoch 40/100\n",
            "2/2 [==============================] - 0s 11ms/step - loss: 1.1334 - accuracy: 0.5520 - val_loss: 1.3982 - val_accuracy: 0.4880\n",
            "Epoch 41/100\n",
            "2/2 [==============================] - 0s 11ms/step - loss: 1.1265 - accuracy: 0.5520 - val_loss: 1.3961 - val_accuracy: 0.4880\n",
            "Epoch 42/100\n",
            "2/2 [==============================] - 0s 11ms/step - loss: 1.1192 - accuracy: 0.5520 - val_loss: 1.3948 - val_accuracy: 0.4840\n",
            "Epoch 43/100\n",
            "2/2 [==============================] - 0s 11ms/step - loss: 1.1123 - accuracy: 0.5520 - val_loss: 1.3919 - val_accuracy: 0.4840\n",
            "Epoch 44/100\n",
            "2/2 [==============================] - 0s 11ms/step - loss: 1.1059 - accuracy: 0.5520 - val_loss: 1.3895 - val_accuracy: 0.4840\n",
            "Epoch 45/100\n",
            "2/2 [==============================] - 0s 12ms/step - loss: 1.0993 - accuracy: 0.5600 - val_loss: 1.3889 - val_accuracy: 0.4840\n",
            "Epoch 46/100\n",
            "2/2 [==============================] - 0s 11ms/step - loss: 1.0931 - accuracy: 0.5600 - val_loss: 1.3878 - val_accuracy: 0.4840\n",
            "Epoch 47/100\n",
            "2/2 [==============================] - 0s 11ms/step - loss: 1.0870 - accuracy: 0.5600 - val_loss: 1.3863 - val_accuracy: 0.4840\n",
            "Epoch 48/100\n",
            "2/2 [==============================] - 0s 11ms/step - loss: 1.0809 - accuracy: 0.5600 - val_loss: 1.3843 - val_accuracy: 0.4840\n",
            "Epoch 49/100\n",
            "2/2 [==============================] - 0s 11ms/step - loss: 1.0745 - accuracy: 0.5680 - val_loss: 1.3826 - val_accuracy: 0.4840\n",
            "Epoch 50/100\n",
            "2/2 [==============================] - 0s 12ms/step - loss: 1.0685 - accuracy: 0.5680 - val_loss: 1.3814 - val_accuracy: 0.4840\n",
            "Epoch 51/100\n",
            "2/2 [==============================] - 0s 11ms/step - loss: 1.0624 - accuracy: 0.5760 - val_loss: 1.3805 - val_accuracy: 0.4840\n",
            "Epoch 52/100\n",
            "2/2 [==============================] - 0s 11ms/step - loss: 1.0573 - accuracy: 0.5760 - val_loss: 1.3790 - val_accuracy: 0.4840\n",
            "Epoch 53/100\n",
            "2/2 [==============================] - 0s 12ms/step - loss: 1.0516 - accuracy: 0.5760 - val_loss: 1.3778 - val_accuracy: 0.4840\n",
            "Epoch 54/100\n",
            "2/2 [==============================] - 0s 11ms/step - loss: 1.0472 - accuracy: 0.5760 - val_loss: 1.3772 - val_accuracy: 0.4840\n",
            "Epoch 55/100\n",
            "2/2 [==============================] - 0s 11ms/step - loss: 1.0405 - accuracy: 0.5680 - val_loss: 1.3754 - val_accuracy: 0.4760\n",
            "Epoch 56/100\n",
            "2/2 [==============================] - 0s 11ms/step - loss: 1.0359 - accuracy: 0.5760 - val_loss: 1.3737 - val_accuracy: 0.4760\n",
            "Epoch 57/100\n",
            "2/2 [==============================] - 0s 11ms/step - loss: 1.0305 - accuracy: 0.5760 - val_loss: 1.3723 - val_accuracy: 0.4760\n",
            "Epoch 58/100\n",
            "2/2 [==============================] - 0s 11ms/step - loss: 1.0261 - accuracy: 0.5760 - val_loss: 1.3719 - val_accuracy: 0.4800\n",
            "Epoch 59/100\n",
            "2/2 [==============================] - 0s 13ms/step - loss: 1.0203 - accuracy: 0.5760 - val_loss: 1.3699 - val_accuracy: 0.4760\n",
            "Epoch 60/100\n",
            "2/2 [==============================] - 0s 11ms/step - loss: 1.0167 - accuracy: 0.5760 - val_loss: 1.3677 - val_accuracy: 0.4760\n",
            "Epoch 61/100\n",
            "2/2 [==============================] - 0s 11ms/step - loss: 1.0113 - accuracy: 0.5760 - val_loss: 1.3660 - val_accuracy: 0.4720\n",
            "Epoch 62/100\n",
            "2/2 [==============================] - 0s 13ms/step - loss: 1.0065 - accuracy: 0.5840 - val_loss: 1.3655 - val_accuracy: 0.4720\n",
            "Epoch 63/100\n",
            "2/2 [==============================] - 0s 11ms/step - loss: 1.0016 - accuracy: 0.5840 - val_loss: 1.3653 - val_accuracy: 0.4800\n",
            "Epoch 64/100\n",
            "2/2 [==============================] - 0s 11ms/step - loss: 0.9972 - accuracy: 0.5920 - val_loss: 1.3641 - val_accuracy: 0.4800\n",
            "Epoch 65/100\n",
            "2/2 [==============================] - 0s 11ms/step - loss: 0.9928 - accuracy: 0.5920 - val_loss: 1.3639 - val_accuracy: 0.4800\n",
            "Epoch 66/100\n",
            "2/2 [==============================] - 0s 11ms/step - loss: 0.9881 - accuracy: 0.5920 - val_loss: 1.3622 - val_accuracy: 0.4760\n",
            "Epoch 67/100\n",
            "2/2 [==============================] - 0s 11ms/step - loss: 0.9846 - accuracy: 0.5920 - val_loss: 1.3611 - val_accuracy: 0.4760\n",
            "Epoch 68/100\n",
            "2/2 [==============================] - 0s 11ms/step - loss: 0.9798 - accuracy: 0.5920 - val_loss: 1.3599 - val_accuracy: 0.4760\n",
            "Epoch 69/100\n",
            "2/2 [==============================] - 0s 11ms/step - loss: 0.9754 - accuracy: 0.5920 - val_loss: 1.3590 - val_accuracy: 0.4760\n",
            "Epoch 70/100\n",
            "2/2 [==============================] - 0s 10ms/step - loss: 0.9706 - accuracy: 0.5920 - val_loss: 1.3583 - val_accuracy: 0.4800\n",
            "Epoch 71/100\n",
            "2/2 [==============================] - 0s 10ms/step - loss: 0.9673 - accuracy: 0.5920 - val_loss: 1.3567 - val_accuracy: 0.4800\n",
            "Epoch 72/100\n",
            "2/2 [==============================] - 0s 11ms/step - loss: 0.9629 - accuracy: 0.5920 - val_loss: 1.3564 - val_accuracy: 0.4840\n",
            "Epoch 73/100\n",
            "2/2 [==============================] - 0s 11ms/step - loss: 0.9591 - accuracy: 0.6000 - val_loss: 1.3553 - val_accuracy: 0.4880\n",
            "Epoch 74/100\n",
            "2/2 [==============================] - 0s 11ms/step - loss: 0.9547 - accuracy: 0.6000 - val_loss: 1.3555 - val_accuracy: 0.4880\n",
            "Epoch 75/100\n",
            "2/2 [==============================] - 0s 13ms/step - loss: 0.9508 - accuracy: 0.6000 - val_loss: 1.3545 - val_accuracy: 0.4840\n",
            "Epoch 76/100\n",
            "2/2 [==============================] - 0s 13ms/step - loss: 0.9478 - accuracy: 0.6000 - val_loss: 1.3557 - val_accuracy: 0.4760\n",
            "Epoch 77/100\n",
            "1/2 [==============>...............] - ETA: 0s - loss: 0.8660 - accuracy: 0.6719Restoring model weights from the end of the best epoch.\n",
            "2/2 [==============================] - 0s 12ms/step - loss: 0.9429 - accuracy: 0.6160 - val_loss: 1.3554 - val_accuracy: 0.4760\n",
            "Epoch 00077: early stopping\n"
          ],
          "name": "stdout"
        },
        {
          "output_type": "display_data",
          "data": {
            "image/png": "[encoded data removed]",
            "text/plain": [
              "<Figure size 432x288 with 1 Axes>"
            ]
          },
          "metadata": {
            "tags": [],
            "needs_background": "light"
          }
        }
      ]
    },
    {
      "cell_type": "code",
      "metadata": {
        "colab_type": "code",
        "id": "pNQxjmTsvd_u",
        "colab": {
          "base_uri": "https://localhost:8080/",
          "height": 35
        },
        "outputId": "e1eb2aaa-dd85-41aa-a47c-4a2c06c1468d"
      },
      "source": [
        "# Encoder model with lesser non-linearity\n",
        "projection = Model(resnet_simclr.input, resnet_simclr.layers[-4].output)\n",
        "\n",
        "# Extract train and test features\n",
        "train_features = projection.predict(X_train)\n",
        "test_features = projection.predict(X_test)\n",
        "\n",
        "print(train_features.shape, test_features.shape)"
      ],
      "execution_count": 19,
      "outputs": [
        {
          "output_type": "stream",
          "text": [
            "(125, 256) (250, 256)\n"
          ],
          "name": "stdout"
        }
      ]
    },
    {
      "cell_type": "code",
      "metadata": {
        "colab_type": "code",
        "id": "N4YLxLpw1rWK",
        "colab": {
          "base_uri": "https://localhost:8080/",
          "height": 515
        },
        "outputId": "b86c442c-d868-455b-f84c-2166170121c1"
      },
      "source": [
        "linear_model = get_linear_model(256)\n",
        "linear_model.compile(loss=\"sparse_categorical_crossentropy\", metrics=[\"accuracy\"],\n",
        "                     optimizer=\"adam\")\n",
        "history = linear_model.fit(train_features, y_train_enc,\n",
        "                 validation_data=(test_features, y_test_enc),\n",
        "                 batch_size=64,\n",
        "                 epochs=35,\n",
        "                 callbacks=[es])\n",
        "plot_training(history)"
      ],
      "execution_count": 20,
      "outputs": [
        {
          "output_type": "stream",
          "text": [
            "Epoch 1/35\n",
            "2/2 [==============================] - 0s 52ms/step - loss: 3.0682 - accuracy: 0.2480 - val_loss: 2.4553 - val_accuracy: 0.2880\n",
            "Epoch 2/35\n",
            "2/2 [==============================] - 0s 11ms/step - loss: 2.4965 - accuracy: 0.2800 - val_loss: 2.1490 - val_accuracy: 0.2560\n",
            "Epoch 3/35\n",
            "2/2 [==============================] - 0s 11ms/step - loss: 2.1719 - accuracy: 0.3280 - val_loss: 2.0690 - val_accuracy: 0.2720\n",
            "Epoch 4/35\n",
            "2/2 [==============================] - 0s 11ms/step - loss: 2.0535 - accuracy: 0.3360 - val_loss: 2.1035 - val_accuracy: 0.2960\n",
            "Epoch 5/35\n",
            "1/2 [==============>...............] - ETA: 0s - loss: 1.7917 - accuracy: 0.4375Restoring model weights from the end of the best epoch.\n",
            "2/2 [==============================] - 0s 11ms/step - loss: 2.0121 - accuracy: 0.3760 - val_loss: 2.1328 - val_accuracy: 0.3240\n",
            "Epoch 00005: early stopping\n"
          ],
          "name": "stdout"
        },
        {
          "output_type": "display_data",
          "data": {
            "image/png": "[encoded data removed]",
            "text/plain": [
              "<Figure size 432x288 with 1 Axes>"
            ]
          },
          "metadata": {
            "tags": [],
            "needs_background": "light"
          }
        }
      ]
    },
    {
      "cell_type": "code",
      "metadata": {
        "colab_type": "code",
        "id": "AIjHhSofSUWl",
        "colab": {
          "base_uri": "https://localhost:8080/",
          "height": 35
        },
        "outputId": "6e257f45-856f-4d54-ae71-6880ce0245ba"
      },
      "source": [
        "# Encoder model with no projection\n",
        "projection = Model(resnet_simclr.input, resnet_simclr.layers[-6].output)\n",
        "\n",
        "# Extract train and test features\n",
        "train_features = projection.predict(X_train)\n",
        "test_features = projection.predict(X_test)\n",
        "\n",
        "print(train_features.shape, test_features.shape)"
      ],
      "execution_count": 21,
      "outputs": [
        {
          "output_type": "stream",
          "text": [
            "(125, 2048) (250, 2048)\n"
          ],
          "name": "stdout"
        }
      ]
    },
    {
      "cell_type": "code",
      "metadata": {
        "colab_type": "code",
        "id": "iDFeqRqVSqzs",
        "colab": {
          "base_uri": "https://localhost:8080/",
          "height": 589
        },
        "outputId": "5d406b51-610b-41bc-e6b6-5b5959ee7a68"
      },
      "source": [
        "linear_model = get_linear_model(2048)\n",
        "linear_model.compile(loss=\"sparse_categorical_crossentropy\", metrics=[\"accuracy\"],\n",
        "                     optimizer=\"adam\")\n",
        "history = linear_model.fit(train_features, y_train_enc,\n",
        "                 validation_data=(test_features, y_test_enc),\n",
        "                 batch_size=64,\n",
        "                 epochs=35,\n",
        "                 callbacks=[es])\n",
        "plot_training(history)"
      ],
      "execution_count": 22,
      "outputs": [
        {
          "output_type": "stream",
          "text": [
            "Epoch 1/35\n",
            "2/2 [==============================] - 0s 53ms/step - loss: 2.4121 - accuracy: 0.2240 - val_loss: 2.3577 - val_accuracy: 0.1640\n",
            "Epoch 2/35\n",
            "2/2 [==============================] - 0s 13ms/step - loss: 2.2345 - accuracy: 0.2320 - val_loss: 1.8293 - val_accuracy: 0.2760\n",
            "Epoch 3/35\n",
            "2/2 [==============================] - 0s 12ms/step - loss: 1.6834 - accuracy: 0.2320 - val_loss: 1.6835 - val_accuracy: 0.2120\n",
            "Epoch 4/35\n",
            "2/2 [==============================] - 0s 12ms/step - loss: 1.6401 - accuracy: 0.2720 - val_loss: 1.5664 - val_accuracy: 0.3120\n",
            "Epoch 5/35\n",
            "2/2 [==============================] - 0s 12ms/step - loss: 1.4192 - accuracy: 0.4400 - val_loss: 1.3891 - val_accuracy: 0.4320\n",
            "Epoch 6/35\n",
            "2/2 [==============================] - 0s 11ms/step - loss: 1.2701 - accuracy: 0.4400 - val_loss: 1.4299 - val_accuracy: 0.4080\n",
            "Epoch 7/35\n",
            "1/2 [==============>...............] - ETA: 0s - loss: 1.1246 - accuracy: 0.4844Restoring model weights from the end of the best epoch.\n",
            "2/2 [==============================] - 0s 12ms/step - loss: 1.2650 - accuracy: 0.4080 - val_loss: 1.4825 - val_accuracy: 0.3720\n",
            "Epoch 00007: early stopping\n"
          ],
          "name": "stdout"
        },
        {
          "output_type": "display_data",
          "data": {
            "image/png": "[encoded data removed]",
            "text/plain": [
              "<Figure size 432x288 with 1 Axes>"
            ]
          },
          "metadata": {
            "tags": [],
            "needs_background": "light"
          }
        }
      ]
    }
  ]
}