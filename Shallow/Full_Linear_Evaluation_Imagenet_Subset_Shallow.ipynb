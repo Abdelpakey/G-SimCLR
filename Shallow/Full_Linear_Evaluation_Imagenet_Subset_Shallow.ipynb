{
  "nbformat": 4,
  "nbformat_minor": 0,
  "metadata": {
    "accelerator": "GPU",
    "colab": {
      "name": "Full_Linear_Evaluation_Imagenet_Subset_Shallow.ipynb",
      "provenance": [],
      "collapsed_sections": [],
      "include_colab_link": true
    },
    "kernelspec": {
      "display_name": "Python 3",
      "language": "python",
      "name": "python3"
    },
    "language_info": {
      "codemirror_mode": {
        "name": "ipython",
        "version": 3
      },
      "file_extension": ".py",
      "mimetype": "text/x-python",
      "name": "python",
      "nbconvert_exporter": "python",
      "pygments_lexer": "ipython3",
      "version": "3.7.1"
    }
  },
  "cells": [
    {
      "cell_type": "markdown",
      "metadata": {
        "id": "view-in-github",
        "colab_type": "text"
      },
      "source": [
        "<a href=\"https://colab.research.google.com/github/ariG23498/SimCLR_PseudoLabel/blob/master/Shallow/Full_Linear_Evaluation_Imagenet_Subset_Shallow.ipynb\" target=\"_parent\"><img src=\"https://colab.research.google.com/assets/colab-badge.svg\" alt=\"Open In Colab\"/></a>"
      ]
    },
    {
      "cell_type": "markdown",
      "metadata": {
        "id": "7ck3ljcss8R2",
        "colab_type": "text"
      },
      "source": [
        "## Initial setup"
      ]
    },
    {
      "cell_type": "code",
      "metadata": {
        "colab_type": "code",
        "id": "lIYdn1woOS1n",
        "colab": {
          "base_uri": "https://localhost:8080/",
          "height": 35
        },
        "outputId": "85a5e3c8-ac03-4357-f968-b2ba223b1f9b"
      },
      "source": [
        "import tensorflow as tf\n",
        "print(tf.__version__)"
      ],
      "execution_count": 1,
      "outputs": [
        {
          "output_type": "stream",
          "text": [
            "2.3.0\n"
          ],
          "name": "stdout"
        }
      ]
    },
    {
      "cell_type": "code",
      "metadata": {
        "colab_type": "code",
        "id": "M3obU9ZXpGR0",
        "colab": {
          "base_uri": "https://localhost:8080/",
          "height": 384
        },
        "outputId": "f348914c-e9a6-41af-b0e3-d4b55442a246"
      },
      "source": [
        "!nvidia-smi"
      ],
      "execution_count": 2,
      "outputs": [
        {
          "output_type": "stream",
          "text": [
            "Thu Aug 20 14:06:40 2020       \n",
            "+-----------------------------------------------------------------------------+\n",
            "| NVIDIA-SMI 450.57       Driver Version: 418.67       CUDA Version: 10.1     |\n",
            "|-------------------------------+----------------------+----------------------+\n",
            "| GPU  Name        Persistence-M| Bus-Id        Disp.A | Volatile Uncorr. ECC |\n",
            "| Fan  Temp  Perf  Pwr:Usage/Cap|         Memory-Usage | GPU-Util  Compute M. |\n",
            "|                               |                      |               MIG M. |\n",
            "|===============================+======================+======================|\n",
            "|   0  Tesla K80           Off  | 00000000:00:04.0 Off |                    0 |\n",
            "| N/A   35C    P8    26W / 149W |      0MiB / 11441MiB |      0%      Default |\n",
            "|                               |                      |                 ERR! |\n",
            "+-------------------------------+----------------------+----------------------+\n",
            "                                                                               \n",
            "+-----------------------------------------------------------------------------+\n",
            "| Processes:                                                                  |\n",
            "|  GPU   GI   CI        PID   Type   Process name                  GPU Memory |\n",
            "|        ID   ID                                                   Usage      |\n",
            "|=============================================================================|\n",
            "|  No running processes found                                                 |\n",
            "+-----------------------------------------------------------------------------+\n"
          ],
          "name": "stdout"
        }
      ]
    },
    {
      "cell_type": "markdown",
      "metadata": {
        "id": "hhE3wbuUtJC3",
        "colab_type": "text"
      },
      "source": [
        "### Restoring model weights"
      ]
    },
    {
      "cell_type": "code",
      "metadata": {
        "id": "BRqUQMiZ4p64",
        "colab_type": "code",
        "colab": {
          "base_uri": "https://localhost:8080/",
          "height": 129
        },
        "outputId": "7df601a4-789a-456a-ea60-c0a0fbc882b9"
      },
      "source": [
        "from google.colab import drive\n",
        "drive.mount('/content/drive')"
      ],
      "execution_count": 3,
      "outputs": [
        {
          "output_type": "stream",
          "text": [
            "Go to this URL in a browser: https://accounts.google.com/o/oauth2/auth?client_id=947318989803-6bn6qk8qdgf4n4g3pfee6491hc0brc4i.apps.googleusercontent.com&redirect_uri=urn%3aietf%3awg%3aoauth%3a2.0%3aoob&scope=email%20https%3a%2f%2fwww.googleapis.com%2fauth%2fdocs.test%20https%3a%2f%2fwww.googleapis.com%2fauth%2fdrive%20https%3a%2f%2fwww.googleapis.com%2fauth%2fdrive.photos.readonly%20https%3a%2f%2fwww.googleapis.com%2fauth%2fpeopleapi.readonly&response_type=code\n",
            "\n",
            "Enter your authorization code:\n",
            "··········\n",
            "Mounted at /content/drive\n"
          ],
          "name": "stdout"
        }
      ]
    },
    {
      "cell_type": "code",
      "metadata": {
        "id": "ys7cnPC240eL",
        "colab_type": "code",
        "colab": {}
      },
      "source": [
        "!cp -r /content/drive/My\\ Drive/Colab\\ Notebooks/Souradip\\ Sayak/SimCLR_PseudoLabels/Models/resnet_simclr_modified_ae_shallow.h5 ."
      ],
      "execution_count": 4,
      "outputs": []
    },
    {
      "cell_type": "code",
      "metadata": {
        "colab_type": "code",
        "id": "dCsK6zBRpmdo",
        "colab": {
          "base_uri": "https://localhost:8080/",
          "height": 74
        },
        "outputId": "5529c375-6aff-4bdb-a166-5d73c0965f4f"
      },
      "source": [
        "# Other imports\n",
        "from sklearn.preprocessing import LabelEncoder\n",
        "from tensorflow.keras.layers import *\n",
        "from tensorflow.keras.models import *\n",
        "import matplotlib.pyplot as plt\n",
        "from imutils import paths\n",
        "from tqdm import tqdm\n",
        "import tensorflow as tf\n",
        "import seaborn as sns\n",
        "import numpy as np\n",
        "import cv2\n",
        "\n",
        "# Random seed fixation\n",
        "tf.random.set_seed(666)\n",
        "np.random.seed(666)"
      ],
      "execution_count": 5,
      "outputs": [
        {
          "output_type": "stream",
          "text": [
            "/usr/local/lib/python3.6/dist-packages/statsmodels/tools/_testing.py:19: FutureWarning: pandas.util.testing is deprecated. Use the functions in the public API at pandas.testing instead.\n",
            "  import pandas.util.testing as tm\n"
          ],
          "name": "stderr"
        }
      ]
    },
    {
      "cell_type": "markdown",
      "metadata": {
        "id": "yP3vs53rs8SM",
        "colab_type": "text"
      },
      "source": [
        "## Dataset gathering and preparation"
      ]
    },
    {
      "cell_type": "code",
      "metadata": {
        "colab_type": "code",
        "id": "HJQZoWXYpjeN",
        "colab": {
          "base_uri": "https://localhost:8080/",
          "height": 109
        },
        "outputId": "72a46d2e-d693-4a5e-f36d-2041cdac1ece"
      },
      "source": [
        "# Gather dataset\n",
        "!git clone https://github.com/thunderInfy/imagenet-5-categories"
      ],
      "execution_count": 6,
      "outputs": [
        {
          "output_type": "stream",
          "text": [
            "Cloning into 'imagenet-5-categories'...\n",
            "remote: Enumerating objects: 1532, done.\u001b[K\n",
            "remote: Total 1532 (delta 0), reused 0 (delta 0), pack-reused 1532\u001b[K\n",
            "Receiving objects: 100% (1532/1532), 88.56 MiB | 10.51 MiB/s, done.\n",
            "Resolving deltas: 100% (1/1), done.\n"
          ],
          "name": "stdout"
        }
      ]
    },
    {
      "cell_type": "code",
      "metadata": {
        "colab_type": "code",
        "id": "2PRnOXCdppEg",
        "colab": {
          "base_uri": "https://localhost:8080/",
          "height": 35
        },
        "outputId": "4feee8a0-86f9-468d-d168-e92174b38e42"
      },
      "source": [
        "# Train and test image paths\n",
        "train_images = list(paths.list_images(\"imagenet-5-categories/train\"))\n",
        "test_images = list(paths.list_images(\"imagenet-5-categories/test\"))\n",
        "print(len(train_images), len(test_images))"
      ],
      "execution_count": 7,
      "outputs": [
        {
          "output_type": "stream",
          "text": [
            "1250 250\n"
          ],
          "name": "stdout"
        }
      ]
    },
    {
      "cell_type": "code",
      "metadata": {
        "colab_type": "code",
        "id": "9giRP85TqizW",
        "colab": {}
      },
      "source": [
        "def prepare_images(image_paths):\n",
        "    images = []\n",
        "    labels = []\n",
        "\n",
        "    for image in tqdm(image_paths):\n",
        "        image_pixels = plt.imread(image)\n",
        "        image_pixels = cv2.resize(image_pixels, (224, 224))\n",
        "        image_pixels = image_pixels/255.\n",
        "\n",
        "        label = image.split(\"/\")[2].split(\"_\")[0]\n",
        "\n",
        "        images.append(image_pixels)\n",
        "        labels.append(label)\n",
        "\n",
        "    images = np.array(images)\n",
        "    labels = np.array(labels)\n",
        "\n",
        "    print(images.shape, labels.shape)\n",
        "\n",
        "    return images, labels"
      ],
      "execution_count": 8,
      "outputs": []
    },
    {
      "cell_type": "code",
      "metadata": {
        "colab_type": "code",
        "id": "YJL8IW6UsHkt",
        "colab": {
          "base_uri": "https://localhost:8080/",
          "height": 90
        },
        "outputId": "7decd4a5-fa93-4d34-da8f-409f6210aca8"
      },
      "source": [
        "X_train, y_train = prepare_images(train_images)\n",
        "X_test, y_test = prepare_images(test_images)"
      ],
      "execution_count": 9,
      "outputs": [
        {
          "output_type": "stream",
          "text": [
            "100%|██████████| 1250/1250 [00:06<00:00, 180.11it/s]\n",
            "  4%|▍         | 11/250 [00:00<00:02, 109.58it/s]"
          ],
          "name": "stderr"
        },
        {
          "output_type": "stream",
          "text": [
            "(1250, 224, 224, 3) (1250,)\n"
          ],
          "name": "stdout"
        },
        {
          "output_type": "stream",
          "text": [
            "100%|██████████| 250/250 [00:01<00:00, 186.36it/s]\n"
          ],
          "name": "stderr"
        },
        {
          "output_type": "stream",
          "text": [
            "(250, 224, 224, 3) (250,)\n"
          ],
          "name": "stdout"
        }
      ]
    },
    {
      "cell_type": "code",
      "metadata": {
        "colab_type": "code",
        "id": "YAv47WlJvse5",
        "colab": {}
      },
      "source": [
        "le = LabelEncoder()\n",
        "y_train_enc = le.fit_transform(y_train)\n",
        "y_test_enc = le.transform(y_test)"
      ],
      "execution_count": 10,
      "outputs": []
    },
    {
      "cell_type": "markdown",
      "metadata": {
        "id": "vdM74W7Ws8Sl",
        "colab_type": "text"
      },
      "source": [
        "## Utilities"
      ]
    },
    {
      "cell_type": "code",
      "metadata": {
        "colab_type": "code",
        "id": "G8ha8pK7sSUO",
        "colab": {}
      },
      "source": [
        "# Architecture utils\n",
        "def get_resnet_simclr(hidden_1, hidden_2, hidden_3):\n",
        "    base_model = tf.keras.applications.ResNet50(include_top=False, weights=None, input_shape=(224, 224, 3))\n",
        "    base_model.trainable = True\n",
        "    inputs = Input((224, 224, 3))\n",
        "    h = base_model(inputs, training=False)\n",
        "    h = GlobalAveragePooling2D()(h)\n",
        "\n",
        "    projection_1 = Dense(hidden_1)(h)\n",
        "    projection_1 = Activation(\"relu\")(projection_1)\n",
        "    projection_2 = Dense(hidden_2)(projection_1)\n",
        "    projection_2 = Activation(\"relu\")(projection_2)\n",
        "    projection_3 = Dense(hidden_3)(projection_2)\n",
        "\n",
        "    resnet_simclr = Model(inputs, projection_3)\n",
        "\n",
        "    return resnet_simclr"
      ],
      "execution_count": 11,
      "outputs": []
    },
    {
      "cell_type": "code",
      "metadata": {
        "colab_type": "code",
        "id": "X0GklYB-sZYz",
        "colab": {
          "base_uri": "https://localhost:8080/",
          "height": 458
        },
        "outputId": "538a2d81-8e59-4c1a-e9be-9a9422deae97"
      },
      "source": [
        "resnet_simclr = get_resnet_simclr(256, 128, 50)\n",
        "resnet_simclr.load_weights('resnet_simclr_modified_ae_shallow.h5')\n",
        "resnet_simclr.summary()"
      ],
      "execution_count": 12,
      "outputs": [
        {
          "output_type": "stream",
          "text": [
            "Model: \"functional_1\"\n",
            "_________________________________________________________________\n",
            "Layer (type)                 Output Shape              Param #   \n",
            "=================================================================\n",
            "input_2 (InputLayer)         [(None, 224, 224, 3)]     0         \n",
            "_________________________________________________________________\n",
            "resnet50 (Functional)        (None, 7, 7, 2048)        23587712  \n",
            "_________________________________________________________________\n",
            "global_average_pooling2d (Gl (None, 2048)              0         \n",
            "_________________________________________________________________\n",
            "dense (Dense)                (None, 256)               524544    \n",
            "_________________________________________________________________\n",
            "activation (Activation)      (None, 256)               0         \n",
            "_________________________________________________________________\n",
            "dense_1 (Dense)              (None, 128)               32896     \n",
            "_________________________________________________________________\n",
            "activation_1 (Activation)    (None, 128)               0         \n",
            "_________________________________________________________________\n",
            "dense_2 (Dense)              (None, 50)                6450      \n",
            "=================================================================\n",
            "Total params: 24,151,602\n",
            "Trainable params: 24,098,482\n",
            "Non-trainable params: 53,120\n",
            "_________________________________________________________________\n"
          ],
          "name": "stdout"
        }
      ]
    },
    {
      "cell_type": "code",
      "metadata": {
        "colab_type": "code",
        "id": "Z1tFKw-7ziaG",
        "colab": {}
      },
      "source": [
        "def plot_training(H):\n",
        "\tplt.plot(H.history[\"loss\"], label=\"train_loss\")\n",
        "\tplt.plot(H.history[\"val_loss\"], label=\"val_loss\")\n",
        "\tplt.plot(H.history[\"accuracy\"], label=\"train_acc\")\n",
        "\tplt.plot(H.history[\"val_accuracy\"], label=\"val_acc\")\n",
        "\tplt.title(\"Training Loss and Accuracy\")\n",
        "\tplt.xlabel(\"Epoch #\")\n",
        "\tplt.ylabel(\"Loss/Accuracy\")\n",
        "\tplt.legend(loc=\"lower left\")\n",
        "\tplt.show()"
      ],
      "execution_count": 13,
      "outputs": []
    },
    {
      "cell_type": "code",
      "metadata": {
        "colab_type": "code",
        "id": "7XojYORatX4p",
        "colab": {}
      },
      "source": [
        "def get_linear_model(features):\n",
        "    linear_model = Sequential([Dense(5, input_shape=(features, ), activation=\"softmax\")])\n",
        "    return linear_model"
      ],
      "execution_count": 14,
      "outputs": []
    },
    {
      "cell_type": "markdown",
      "metadata": {
        "id": "_s0nfTYos8Sy",
        "colab_type": "text"
      },
      "source": [
        "## Evaluation"
      ]
    },
    {
      "cell_type": "code",
      "metadata": {
        "id": "RTt8_dcDNB5M",
        "colab_type": "code",
        "colab": {
          "base_uri": "https://localhost:8080/",
          "height": 458
        },
        "outputId": "f18b3002-35e3-4d7a-9bfc-bb2614c2bb9d"
      },
      "source": [
        "resnet_simclr.layers[1].trainable = False\n",
        "resnet_simclr.summary()"
      ],
      "execution_count": 15,
      "outputs": [
        {
          "output_type": "stream",
          "text": [
            "Model: \"functional_1\"\n",
            "_________________________________________________________________\n",
            "Layer (type)                 Output Shape              Param #   \n",
            "=================================================================\n",
            "input_2 (InputLayer)         [(None, 224, 224, 3)]     0         \n",
            "_________________________________________________________________\n",
            "resnet50 (Functional)        (None, 7, 7, 2048)        23587712  \n",
            "_________________________________________________________________\n",
            "global_average_pooling2d (Gl (None, 2048)              0         \n",
            "_________________________________________________________________\n",
            "dense (Dense)                (None, 256)               524544    \n",
            "_________________________________________________________________\n",
            "activation (Activation)      (None, 256)               0         \n",
            "_________________________________________________________________\n",
            "dense_1 (Dense)              (None, 128)               32896     \n",
            "_________________________________________________________________\n",
            "activation_1 (Activation)    (None, 128)               0         \n",
            "_________________________________________________________________\n",
            "dense_2 (Dense)              (None, 50)                6450      \n",
            "=================================================================\n",
            "Total params: 24,151,602\n",
            "Trainable params: 563,890\n",
            "Non-trainable params: 23,587,712\n",
            "_________________________________________________________________\n"
          ],
          "name": "stdout"
        }
      ]
    },
    {
      "cell_type": "code",
      "metadata": {
        "colab_type": "code",
        "id": "qnNJ5BKPsj4u",
        "colab": {
          "base_uri": "https://localhost:8080/",
          "height": 35
        },
        "outputId": "018e3d21-87fb-4c74-890b-6febd1b402d3"
      },
      "source": [
        "# Encoder model with non-linear projections\n",
        "projection = Model(resnet_simclr.input, resnet_simclr.layers[-2].output)\n",
        "\n",
        "# Extract train and test features\n",
        "train_features = projection.predict(X_train)\n",
        "test_features = projection.predict(X_test)\n",
        "\n",
        "print(train_features.shape, test_features.shape)"
      ],
      "execution_count": 16,
      "outputs": [
        {
          "output_type": "stream",
          "text": [
            "(1250, 128) (250, 128)\n"
          ],
          "name": "stdout"
        }
      ]
    },
    {
      "cell_type": "code",
      "metadata": {
        "colab_type": "code",
        "id": "1B9C0a6003-O",
        "colab": {}
      },
      "source": [
        "# Early Stopping to prevent overfitting\n",
        "es = tf.keras.callbacks.EarlyStopping(monitor=\"val_loss\", patience=2, verbose=2, restore_best_weights=True)"
      ],
      "execution_count": 17,
      "outputs": []
    },
    {
      "cell_type": "code",
      "metadata": {
        "colab_type": "code",
        "id": "-Rb-lf8KvMtR",
        "colab": {
          "base_uri": "https://localhost:8080/",
          "height": 1000
        },
        "outputId": "6d585a21-1661-4c6e-a5ae-60a0c2cc8d3d"
      },
      "source": [
        "# Linear model\n",
        "linear_model = get_linear_model(128)\n",
        "linear_model.compile(loss=\"sparse_categorical_crossentropy\", metrics=[\"accuracy\"],\n",
        "                     optimizer=\"adam\")\n",
        "history = linear_model.fit(train_features, y_train_enc,\n",
        "                 validation_data=(test_features, y_test_enc),\n",
        "                 batch_size=64,\n",
        "                 epochs=100,\n",
        "                 callbacks=[es])\n",
        "plot_training(history)"
      ],
      "execution_count": 18,
      "outputs": [
        {
          "output_type": "stream",
          "text": [
            "Epoch 1/100\n",
            "20/20 [==============================] - 0s 12ms/step - loss: 2.4724 - accuracy: 0.2888 - val_loss: 1.8491 - val_accuracy: 0.3080\n",
            "Epoch 2/100\n",
            "20/20 [==============================] - 0s 3ms/step - loss: 1.8161 - accuracy: 0.3384 - val_loss: 1.5424 - val_accuracy: 0.4040\n",
            "Epoch 3/100\n",
            "20/20 [==============================] - 0s 3ms/step - loss: 1.6006 - accuracy: 0.3920 - val_loss: 1.4506 - val_accuracy: 0.4280\n",
            "Epoch 4/100\n",
            "20/20 [==============================] - 0s 4ms/step - loss: 1.5197 - accuracy: 0.4184 - val_loss: 1.4079 - val_accuracy: 0.4600\n",
            "Epoch 5/100\n",
            "20/20 [==============================] - 0s 4ms/step - loss: 1.4642 - accuracy: 0.4320 - val_loss: 1.3757 - val_accuracy: 0.4640\n",
            "Epoch 6/100\n",
            "20/20 [==============================] - 0s 3ms/step - loss: 1.4318 - accuracy: 0.4392 - val_loss: 1.3602 - val_accuracy: 0.4640\n",
            "Epoch 7/100\n",
            "20/20 [==============================] - 0s 3ms/step - loss: 1.3961 - accuracy: 0.4544 - val_loss: 1.3277 - val_accuracy: 0.4760\n",
            "Epoch 8/100\n",
            "20/20 [==============================] - 0s 4ms/step - loss: 1.3665 - accuracy: 0.4632 - val_loss: 1.3197 - val_accuracy: 0.4720\n",
            "Epoch 9/100\n",
            "20/20 [==============================] - 0s 3ms/step - loss: 1.3500 - accuracy: 0.4496 - val_loss: 1.2942 - val_accuracy: 0.4800\n",
            "Epoch 10/100\n",
            "20/20 [==============================] - 0s 3ms/step - loss: 1.3322 - accuracy: 0.4624 - val_loss: 1.2851 - val_accuracy: 0.4720\n",
            "Epoch 11/100\n",
            "20/20 [==============================] - 0s 4ms/step - loss: 1.3093 - accuracy: 0.4816 - val_loss: 1.2821 - val_accuracy: 0.4840\n",
            "Epoch 12/100\n",
            "20/20 [==============================] - 0s 4ms/step - loss: 1.2961 - accuracy: 0.4760 - val_loss: 1.2632 - val_accuracy: 0.4840\n",
            "Epoch 13/100\n",
            "20/20 [==============================] - 0s 3ms/step - loss: 1.2824 - accuracy: 0.4760 - val_loss: 1.2586 - val_accuracy: 0.4920\n",
            "Epoch 14/100\n",
            "20/20 [==============================] - 0s 4ms/step - loss: 1.2728 - accuracy: 0.4752 - val_loss: 1.2497 - val_accuracy: 0.4960\n",
            "Epoch 15/100\n",
            "20/20 [==============================] - 0s 3ms/step - loss: 1.2594 - accuracy: 0.4792 - val_loss: 1.2457 - val_accuracy: 0.4880\n",
            "Epoch 16/100\n",
            "20/20 [==============================] - 0s 4ms/step - loss: 1.2498 - accuracy: 0.4840 - val_loss: 1.2475 - val_accuracy: 0.4920\n",
            "Epoch 17/100\n",
            "20/20 [==============================] - 0s 4ms/step - loss: 1.2443 - accuracy: 0.4872 - val_loss: 1.2327 - val_accuracy: 0.4920\n",
            "Epoch 18/100\n",
            "20/20 [==============================] - 0s 4ms/step - loss: 1.2343 - accuracy: 0.4960 - val_loss: 1.2297 - val_accuracy: 0.4920\n",
            "Epoch 19/100\n",
            "20/20 [==============================] - 0s 3ms/step - loss: 1.2297 - accuracy: 0.4888 - val_loss: 1.2216 - val_accuracy: 0.4960\n",
            "Epoch 20/100\n",
            "20/20 [==============================] - 0s 3ms/step - loss: 1.2196 - accuracy: 0.4888 - val_loss: 1.2297 - val_accuracy: 0.4760\n",
            "Epoch 21/100\n",
            "20/20 [==============================] - 0s 4ms/step - loss: 1.2219 - accuracy: 0.4976 - val_loss: 1.2206 - val_accuracy: 0.4880\n",
            "Epoch 22/100\n",
            "20/20 [==============================] - 0s 4ms/step - loss: 1.2229 - accuracy: 0.4952 - val_loss: 1.2202 - val_accuracy: 0.5120\n",
            "Epoch 23/100\n",
            "20/20 [==============================] - 0s 4ms/step - loss: 1.2068 - accuracy: 0.5024 - val_loss: 1.2138 - val_accuracy: 0.5120\n",
            "Epoch 24/100\n",
            "20/20 [==============================] - 0s 4ms/step - loss: 1.2025 - accuracy: 0.5096 - val_loss: 1.2251 - val_accuracy: 0.4960\n",
            "Epoch 25/100\n",
            "20/20 [==============================] - ETA: 0s - loss: 1.2017 - accuracy: 0.5088Restoring model weights from the end of the best epoch.\n",
            "20/20 [==============================] - 0s 4ms/step - loss: 1.2017 - accuracy: 0.5088 - val_loss: 1.2162 - val_accuracy: 0.5320\n",
            "Epoch 00025: early stopping\n"
          ],
          "name": "stdout"
        },
        {
          "output_type": "display_data",
          "data": {
            "image/png": "[encoded data removed]",
            "text/plain": [
              "<Figure size 432x288 with 1 Axes>"
            ]
          },
          "metadata": {
            "tags": [],
            "needs_background": "light"
          }
        }
      ]
    },
    {
      "cell_type": "code",
      "metadata": {
        "colab_type": "code",
        "id": "pNQxjmTsvd_u",
        "colab": {
          "base_uri": "https://localhost:8080/",
          "height": 35
        },
        "outputId": "5065eca9-a0b4-409e-a102-6761849884af"
      },
      "source": [
        "# Encoder model with lesser non-linearity\n",
        "projection = Model(resnet_simclr.input, resnet_simclr.layers[-4].output)\n",
        "\n",
        "# Extract train and test features\n",
        "train_features = projection.predict(X_train)\n",
        "test_features = projection.predict(X_test)\n",
        "\n",
        "print(train_features.shape, test_features.shape)"
      ],
      "execution_count": 19,
      "outputs": [
        {
          "output_type": "stream",
          "text": [
            "(1250, 256) (250, 256)\n"
          ],
          "name": "stdout"
        }
      ]
    },
    {
      "cell_type": "code",
      "metadata": {
        "colab_type": "code",
        "id": "N4YLxLpw1rWK",
        "colab": {
          "base_uri": "https://localhost:8080/",
          "height": 883
        },
        "outputId": "4b2e1b00-ad05-4c23-fabc-7a5b5e877c65"
      },
      "source": [
        "linear_model = get_linear_model(256)\n",
        "linear_model.compile(loss=\"sparse_categorical_crossentropy\", metrics=[\"accuracy\"],\n",
        "                     optimizer=\"adam\")\n",
        "history = linear_model.fit(train_features, y_train_enc,\n",
        "                 validation_data=(test_features, y_test_enc),\n",
        "                 batch_size=64,\n",
        "                 epochs=35,\n",
        "                 callbacks=[es])\n",
        "plot_training(history)"
      ],
      "execution_count": 20,
      "outputs": [
        {
          "output_type": "stream",
          "text": [
            "Epoch 1/35\n",
            "20/20 [==============================] - 0s 9ms/step - loss: 2.3315 - accuracy: 0.3048 - val_loss: 1.7603 - val_accuracy: 0.3520\n",
            "Epoch 2/35\n",
            "20/20 [==============================] - 0s 3ms/step - loss: 1.7302 - accuracy: 0.3808 - val_loss: 1.4465 - val_accuracy: 0.4120\n",
            "Epoch 3/35\n",
            "20/20 [==============================] - 0s 3ms/step - loss: 1.4691 - accuracy: 0.4224 - val_loss: 1.3500 - val_accuracy: 0.4160\n",
            "Epoch 4/35\n",
            "20/20 [==============================] - 0s 3ms/step - loss: 1.3546 - accuracy: 0.4600 - val_loss: 1.2702 - val_accuracy: 0.4680\n",
            "Epoch 5/35\n",
            "20/20 [==============================] - 0s 3ms/step - loss: 1.2968 - accuracy: 0.4688 - val_loss: 1.2408 - val_accuracy: 0.4800\n",
            "Epoch 6/35\n",
            "20/20 [==============================] - 0s 3ms/step - loss: 1.2740 - accuracy: 0.4872 - val_loss: 1.2603 - val_accuracy: 0.4720\n",
            "Epoch 7/35\n",
            "20/20 [==============================] - 0s 4ms/step - loss: 1.2523 - accuracy: 0.4840 - val_loss: 1.2238 - val_accuracy: 0.5120\n",
            "Epoch 8/35\n",
            "20/20 [==============================] - 0s 3ms/step - loss: 1.2351 - accuracy: 0.4960 - val_loss: 1.2225 - val_accuracy: 0.5000\n",
            "Epoch 9/35\n",
            "20/20 [==============================] - 0s 3ms/step - loss: 1.2261 - accuracy: 0.4992 - val_loss: 1.2429 - val_accuracy: 0.4600\n",
            "Epoch 10/35\n",
            "20/20 [==============================] - 0s 4ms/step - loss: 1.2358 - accuracy: 0.4984 - val_loss: 1.2051 - val_accuracy: 0.5000\n",
            "Epoch 11/35\n",
            "20/20 [==============================] - 0s 4ms/step - loss: 1.2131 - accuracy: 0.4952 - val_loss: 1.1951 - val_accuracy: 0.4840\n",
            "Epoch 12/35\n",
            "20/20 [==============================] - 0s 4ms/step - loss: 1.2005 - accuracy: 0.5120 - val_loss: 1.1970 - val_accuracy: 0.5080\n",
            "Epoch 13/35\n",
            "20/20 [==============================] - 0s 4ms/step - loss: 1.1980 - accuracy: 0.5104 - val_loss: 1.1923 - val_accuracy: 0.5200\n",
            "Epoch 14/35\n",
            "20/20 [==============================] - 0s 3ms/step - loss: 1.1972 - accuracy: 0.5064 - val_loss: 1.2119 - val_accuracy: 0.5080\n",
            "Epoch 15/35\n",
            " 1/20 [>.............................] - ETA: 0s - loss: 1.3250 - accuracy: 0.5000Restoring model weights from the end of the best epoch.\n",
            "20/20 [==============================] - 0s 4ms/step - loss: 1.2037 - accuracy: 0.5096 - val_loss: 1.2003 - val_accuracy: 0.5080\n",
            "Epoch 00015: early stopping\n"
          ],
          "name": "stdout"
        },
        {
          "output_type": "display_data",
          "data": {
            "image/png": "[encoded data removed]",
            "text/plain": [
              "<Figure size 432x288 with 1 Axes>"
            ]
          },
          "metadata": {
            "tags": [],
            "needs_background": "light"
          }
        }
      ]
    },
    {
      "cell_type": "code",
      "metadata": {
        "colab_type": "code",
        "id": "AIjHhSofSUWl",
        "colab": {
          "base_uri": "https://localhost:8080/",
          "height": 35
        },
        "outputId": "e1506a61-041e-412c-f234-d25f053bce21"
      },
      "source": [
        "# Encoder model with no projection\n",
        "projection = Model(resnet_simclr.input, resnet_simclr.layers[-6].output)\n",
        "\n",
        "# Extract train and test features\n",
        "train_features = projection.predict(X_train)\n",
        "test_features = projection.predict(X_test)\n",
        "\n",
        "print(train_features.shape, test_features.shape)"
      ],
      "execution_count": 21,
      "outputs": [
        {
          "output_type": "stream",
          "text": [
            "(1250, 2048) (250, 2048)\n"
          ],
          "name": "stdout"
        }
      ]
    },
    {
      "cell_type": "code",
      "metadata": {
        "colab_type": "code",
        "id": "iDFeqRqVSqzs",
        "colab": {
          "base_uri": "https://localhost:8080/",
          "height": 736
        },
        "outputId": "d8fa81e2-daa1-4540-c3db-79ee58264ab7"
      },
      "source": [
        "linear_model = get_linear_model(2048)\n",
        "linear_model.compile(loss=\"sparse_categorical_crossentropy\", metrics=[\"accuracy\"],\n",
        "                     optimizer=\"adam\")\n",
        "history = linear_model.fit(train_features, y_train_enc,\n",
        "                 validation_data=(test_features, y_test_enc),\n",
        "                 batch_size=64,\n",
        "                 epochs=35,\n",
        "                 callbacks=[es])\n",
        "plot_training(history)"
      ],
      "execution_count": 22,
      "outputs": [
        {
          "output_type": "stream",
          "text": [
            "Epoch 1/35\n",
            "20/20 [==============================] - 0s 10ms/step - loss: 1.8500 - accuracy: 0.3072 - val_loss: 1.4782 - val_accuracy: 0.3760\n",
            "Epoch 2/35\n",
            "20/20 [==============================] - 0s 4ms/step - loss: 1.4005 - accuracy: 0.4336 - val_loss: 1.2616 - val_accuracy: 0.4840\n",
            "Epoch 3/35\n",
            "20/20 [==============================] - 0s 4ms/step - loss: 1.2601 - accuracy: 0.4840 - val_loss: 1.2555 - val_accuracy: 0.4600\n",
            "Epoch 4/35\n",
            "20/20 [==============================] - 0s 4ms/step - loss: 1.2452 - accuracy: 0.5000 - val_loss: 1.2392 - val_accuracy: 0.4440\n",
            "Epoch 5/35\n",
            "20/20 [==============================] - 0s 5ms/step - loss: 1.2011 - accuracy: 0.5032 - val_loss: 1.2039 - val_accuracy: 0.4760\n",
            "Epoch 6/35\n",
            "20/20 [==============================] - 0s 4ms/step - loss: 1.2287 - accuracy: 0.5072 - val_loss: 1.2540 - val_accuracy: 0.4520\n",
            "Epoch 7/35\n",
            "20/20 [==============================] - 0s 4ms/step - loss: 1.2444 - accuracy: 0.4848 - val_loss: 1.1997 - val_accuracy: 0.5000\n",
            "Epoch 8/35\n",
            "20/20 [==============================] - 0s 4ms/step - loss: 1.1949 - accuracy: 0.5056 - val_loss: 1.1566 - val_accuracy: 0.5280\n",
            "Epoch 9/35\n",
            "20/20 [==============================] - 0s 4ms/step - loss: 1.1506 - accuracy: 0.5328 - val_loss: 1.1470 - val_accuracy: 0.5360\n",
            "Epoch 10/35\n",
            "20/20 [==============================] - 0s 5ms/step - loss: 1.1483 - accuracy: 0.5384 - val_loss: 1.2542 - val_accuracy: 0.5000\n",
            "Epoch 11/35\n",
            "19/20 [===========================>..] - ETA: 0s - loss: 1.1839 - accuracy: 0.5140Restoring model weights from the end of the best epoch.\n",
            "20/20 [==============================] - 0s 5ms/step - loss: 1.1865 - accuracy: 0.5120 - val_loss: 1.1884 - val_accuracy: 0.5120\n",
            "Epoch 00011: early stopping\n"
          ],
          "name": "stdout"
        },
        {
          "output_type": "display_data",
          "data": {
            "image/png": "[encoded data removed]",
            "text/plain": [
              "<Figure size 432x288 with 1 Axes>"
            ]
          },
          "metadata": {
            "tags": [],
            "needs_background": "light"
          }
        }
      ]
    }
  ]
}