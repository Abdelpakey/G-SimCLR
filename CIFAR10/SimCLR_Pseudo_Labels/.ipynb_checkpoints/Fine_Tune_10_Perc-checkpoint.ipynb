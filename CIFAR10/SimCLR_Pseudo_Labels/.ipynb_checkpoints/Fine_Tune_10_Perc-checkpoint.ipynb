{
 "cells": [
  {
   "cell_type": "code",
   "execution_count": 1,
   "metadata": {
    "colab": {
     "base_uri": "https://localhost:8080/",
     "height": 35
    },
    "colab_type": "code",
    "id": "3NL27gWWa6EQ",
    "outputId": "b1cd899f-d5a3-467c-fab0-8261e35e13ed"
   },
   "outputs": [
    {
     "name": "stdout",
     "output_type": "stream",
     "text": [
      "2.3.0\n"
     ]
    }
   ],
   "source": [
    "# TensorFlow Imports\n",
    "import tensorflow as tf\n",
    "print(tf.__version__)"
   ]
  },
  {
   "cell_type": "code",
   "execution_count": 2,
   "metadata": {
    "colab": {
     "base_uri": "https://localhost:8080/",
     "height": 384
    },
    "colab_type": "code",
    "id": "5U7MzkSWe_I6",
    "outputId": "92432ad5-7163-4ca4-988a-4d3fd9248ab5"
   },
   "outputs": [
    {
     "name": "stdout",
     "output_type": "stream",
     "text": [
      "Fri Aug 21 08:28:53 2020       \n",
      "+-----------------------------------------------------------------------------+\n",
      "| NVIDIA-SMI 450.57       Driver Version: 418.67       CUDA Version: 10.1     |\n",
      "|-------------------------------+----------------------+----------------------+\n",
      "| GPU  Name        Persistence-M| Bus-Id        Disp.A | Volatile Uncorr. ECC |\n",
      "| Fan  Temp  Perf  Pwr:Usage/Cap|         Memory-Usage | GPU-Util  Compute M. |\n",
      "|                               |                      |               MIG M. |\n",
      "|===============================+======================+======================|\n",
      "|   0  Tesla K80           Off  | 00000000:00:04.0 Off |                    0 |\n",
      "| N/A   35C    P8    24W / 149W |      0MiB / 11441MiB |      0%      Default |\n",
      "|                               |                      |                 ERR! |\n",
      "+-------------------------------+----------------------+----------------------+\n",
      "                                                                               \n",
      "+-----------------------------------------------------------------------------+\n",
      "| Processes:                                                                  |\n",
      "|  GPU   GI   CI        PID   Type   Process name                  GPU Memory |\n",
      "|        ID   ID                                                   Usage      |\n",
      "|=============================================================================|\n",
      "|  No running processes found                                                 |\n",
      "+-----------------------------------------------------------------------------+\n"
     ]
    }
   ],
   "source": [
    "!nvidia-smi"
   ]
  },
  {
   "cell_type": "code",
   "execution_count": 3,
   "metadata": {
    "colab": {
     "base_uri": "https://localhost:8080/",
     "height": 219
    },
    "colab_type": "code",
    "id": "KXeN9RlZe96P",
    "outputId": "f6a457e1-04e5-4dfd-d5c9-8986e1229513"
   },
   "outputs": [
    {
     "name": "stdout",
     "output_type": "stream",
     "text": [
      "--2020-08-21 08:28:57--  https://raw.githubusercontent.com/GoogleCloudPlatform/keras-idiomatic-programmer/master/zoo/resnet/resnet_cifar10.py\n",
      "Resolving raw.githubusercontent.com (raw.githubusercontent.com)... 151.101.0.133, 151.101.64.133, 151.101.128.133, ...\n",
      "Connecting to raw.githubusercontent.com (raw.githubusercontent.com)|151.101.0.133|:443... connected.\n",
      "HTTP request sent, awaiting response... 200 OK\n",
      "Length: 6064 (5.9K) [text/plain]\n",
      "Saving to: ‘resnet_cifar10.py’\n",
      "\n",
      "\r",
      "resnet_cifar10.py     0%[                    ]       0  --.-KB/s               \r",
      "resnet_cifar10.py   100%[===================>]   5.92K  --.-KB/s    in 0s      \n",
      "\n",
      "2020-08-21 08:28:57 (74.8 MB/s) - ‘resnet_cifar10.py’ saved [6064/6064]\n",
      "\n"
     ]
    }
   ],
   "source": [
    "!wget https://raw.githubusercontent.com/GoogleCloudPlatform/keras-idiomatic-programmer/master/zoo/resnet/resnet_cifar10.py"
   ]
  },
  {
   "cell_type": "code",
   "execution_count": 4,
   "metadata": {
    "colab": {
     "base_uri": "https://localhost:8080/",
     "height": 219
    },
    "colab_type": "code",
    "id": "hleqAy24fSJB",
    "outputId": "41821925-97a2-472b-fac8-2f413b4abf24"
   },
   "outputs": [
    {
     "name": "stdout",
     "output_type": "stream",
     "text": [
      "--2020-08-21 08:29:02--  https://storage.googleapis.com/resnet-simclr-pseudo-labels/autoenc_resnet_simclr_cifar10.h5\n",
      "Resolving storage.googleapis.com (storage.googleapis.com)... 64.233.167.128, 64.233.166.128, 74.125.133.128, ...\n",
      "Connecting to storage.googleapis.com (storage.googleapis.com)|64.233.167.128|:443... connected.\n",
      "HTTP request sent, awaiting response... 200 OK\n",
      "Length: 5085560 (4.8M) [application/octet-stream]\n",
      "Saving to: ‘autoenc_resnet_simclr_cifar10.h5’\n",
      "\n",
      "\r",
      "          autoenc_r   0%[                    ]       0  --.-KB/s               \r",
      "autoenc_resnet_simc 100%[===================>]   4.85M  --.-KB/s    in 0.04s   \n",
      "\n",
      "2020-08-21 08:29:02 (126 MB/s) - ‘autoenc_resnet_simclr_cifar10.h5’ saved [5085560/5085560]\n",
      "\n"
     ]
    }
   ],
   "source": [
    "!wget https://storage.googleapis.com/resnet-simclr-pseudo-labels/autoenc_resnet_simclr_cifar10.h5"
   ]
  },
  {
   "cell_type": "code",
   "execution_count": 5,
   "metadata": {
    "colab": {
     "base_uri": "https://localhost:8080/",
     "height": 74
    },
    "colab_type": "code",
    "id": "ylBHgeE1a6EY",
    "outputId": "e48640c5-f9f2-480e-d2ea-e3d4f2c557c9"
   },
   "outputs": [
    {
     "name": "stderr",
     "output_type": "stream",
     "text": [
      "/usr/local/lib/python3.6/dist-packages/statsmodels/tools/_testing.py:19: FutureWarning: pandas.util.testing is deprecated. Use the functions in the public API at pandas.testing instead.\n",
      "  import pandas.util.testing as tm\n"
     ]
    }
   ],
   "source": [
    "# Other imports\n",
    "from tensorflow.keras.layers import *\n",
    "from tensorflow.keras.models import *\n",
    "import matplotlib.pyplot as plt\n",
    "from imutils import paths\n",
    "import tensorflow as tf\n",
    "import seaborn as sns\n",
    "import numpy as np\n",
    "import resnet_cifar10\n",
    "import cv2\n",
    "\n",
    "# Random seed fixation\n",
    "tf.random.set_seed(666)\n",
    "np.random.seed(666)"
   ]
  },
  {
   "cell_type": "code",
   "execution_count": 6,
   "metadata": {
    "colab": {
     "base_uri": "https://localhost:8080/",
     "height": 54
    },
    "colab_type": "code",
    "id": "nH8YqS3Za6Ec",
    "outputId": "9521a25f-db5b-493b-8f7c-8bcd60fd169f"
   },
   "outputs": [
    {
     "name": "stdout",
     "output_type": "stream",
     "text": [
      "Downloading data from https://www.cs.toronto.edu/~kriz/cifar-10-python.tar.gz\n",
      "170500096/170498071 [==============================] - 6s 0us/step\n"
     ]
    }
   ],
   "source": [
    "# Load the full set of CIFAR10\n",
    "(x_train, y_train), (x_test, y_test) = tf.keras.datasets.cifar10.load_data()\n",
    "\n",
    "# Sample 10% for fine-tuning\n",
    "train_indices = np.random.choice(len(x_train), 5000, replace=False)\n",
    "x_train_frac = x_train[train_indices, :]\n",
    "y_train_frac = y_train[train_indices, :]\n",
    "\n",
    "# Prepare the dataset\n",
    "x_train_frac = x_train_frac.astype(\"float32\") / 255.\n",
    "x_test = x_test.astype(\"float32\") / 255."
   ]
  },
  {
   "cell_type": "code",
   "execution_count": 7,
   "metadata": {
    "colab": {},
    "colab_type": "code",
    "id": "fVfTLI8Ba6FL"
   },
   "outputs": [],
   "source": [
    "# ResNetCIFAR10\n",
    "n = 4\n",
    "depth =  n * 9 + 2\n",
    "n_blocks = ((depth - 2) // 9) - 1\n",
    "\n",
    "# The input tensor\n",
    "inputs = Input(shape=(32, 32, 3))\n",
    "\n",
    "# The Stem Convolution Group\n",
    "x = resnet_cifar10.stem(inputs)\n",
    "   \n",
    "# The learner\n",
    "outputs = resnet_cifar10.learner(x, n_blocks)\n",
    "\n",
    "# Instantiate the Model\n",
    "resnet_headless_model = Model(inputs, outputs)"
   ]
  },
  {
   "cell_type": "code",
   "execution_count": 8,
   "metadata": {
    "colab": {},
    "colab_type": "code",
    "id": "_HkBYKSfa6FS"
   },
   "outputs": [],
   "source": [
    "# Architecture utils\n",
    "def get_resnet_simclr_deeper(hidden_1, hidden_2, hidden_3):\n",
    "    inputs = Input((32, 32, 3))\n",
    "    h = resnet_headless_model(inputs, training=False)\n",
    "    h = GlobalAveragePooling2D()(h)\n",
    "    \n",
    "    projection_1 = Dense(hidden_1)(h)\n",
    "    projection_1 = Activation(\"relu\")(projection_1)\n",
    "    projection_2 = Dense(hidden_2)(projection_1)\n",
    "    projection_2 = Activation(\"relu\")(projection_2)\n",
    "    projection_3 = Dense(hidden_3)(projection_2)\n",
    "\n",
    "    resnet_simclr = Model(inputs, projection_3)\n",
    "\n",
    "    return resnet_simclr"
   ]
  },
  {
   "cell_type": "code",
   "execution_count": 9,
   "metadata": {
    "colab": {
     "base_uri": "https://localhost:8080/",
     "height": 458
    },
    "colab_type": "code",
    "id": "TZ9ZTC_ua6Ff",
    "outputId": "7a63a157-3231-436d-aa75-481120e9ef49"
   },
   "outputs": [
    {
     "name": "stdout",
     "output_type": "stream",
     "text": [
      "Model: \"functional_5\"\n",
      "_________________________________________________________________\n",
      "Layer (type)                 Output Shape              Param #   \n",
      "=================================================================\n",
      "input_3 (InputLayer)         [(None, 32, 32, 3)]       0         \n",
      "_________________________________________________________________\n",
      "functional_3 (Functional)    (None, 8, 8, 256)         1121344   \n",
      "_________________________________________________________________\n",
      "global_average_pooling2d (Gl (None, 256)               0         \n",
      "_________________________________________________________________\n",
      "dense_1 (Dense)              (None, 256)               65792     \n",
      "_________________________________________________________________\n",
      "activation (Activation)      (None, 256)               0         \n",
      "_________________________________________________________________\n",
      "dense_2 (Dense)              (None, 128)               32896     \n",
      "_________________________________________________________________\n",
      "activation_1 (Activation)    (None, 128)               0         \n",
      "_________________________________________________________________\n",
      "dense_3 (Dense)              (None, 50)                6450      \n",
      "=================================================================\n",
      "Total params: 1,226,482\n",
      "Trainable params: 1,219,538\n",
      "Non-trainable params: 6,944\n",
      "_________________________________________________________________\n"
     ]
    }
   ],
   "source": [
    "resnet_simclr = get_resnet_simclr_deeper(256, 128, 50)\n",
    "resnet_simclr.load_weights(\"autoenc_resnet_simclr_cifar10.h5\")\n",
    "resnet_simclr.summary()"
   ]
  },
  {
   "cell_type": "code",
   "execution_count": 10,
   "metadata": {
    "colab": {},
    "colab_type": "code",
    "id": "gBD2549lmqih"
   },
   "outputs": [],
   "source": [
    "def plot_training(H):\n",
    "\twith plt.xkcd():\n",
    "\t\tplt.plot(H.history[\"loss\"], label=\"train_loss\")\n",
    "\t\tplt.plot(H.history[\"val_loss\"], label=\"val_loss\")\n",
    "\t\tplt.plot(H.history[\"accuracy\"], label=\"train_acc\")\n",
    "\t\tplt.plot(H.history[\"val_accuracy\"], label=\"val_acc\")\n",
    "\t\tplt.title(\"Training Loss and Accuracy\")\n",
    "\t\tplt.xlabel(\"Epoch #\")\n",
    "\t\tplt.ylabel(\"Loss/Accuracy\")\n",
    "\t\tplt.legend(loc=\"lower left\")\n",
    "\t\tplt.show()"
   ]
  },
  {
   "cell_type": "code",
   "execution_count": 11,
   "metadata": {
    "colab": {},
    "colab_type": "code",
    "id": "W_rBk48la6Fp"
   },
   "outputs": [],
   "source": [
    "# Encoder model with no projection\n",
    "extractor = Model(resnet_simclr.input, resnet_simclr.layers[-6].output) # weights are already loaded\n",
    "\n",
    "def get_training_model(trainable=False):\n",
    "    inputs = Input(shape=(32, 32, 3))\n",
    "    extractor.trainable = trainable\n",
    "    x = extractor(inputs, training=False)\n",
    "    x = Dense(10, activation=\"softmax\")(x)\n",
    "    classifier = Model(inputs=inputs, outputs=x)\n",
    "    \n",
    "    return classifier"
   ]
  },
  {
   "cell_type": "markdown",
   "metadata": {
    "colab_type": "text",
    "id": "tLVF6gz7npNB"
   },
   "source": [
    "## Warmup"
   ]
  },
  {
   "cell_type": "code",
   "execution_count": 12,
   "metadata": {
    "colab": {},
    "colab_type": "code",
    "id": "gRnrwo8Ta6F1"
   },
   "outputs": [],
   "source": [
    "# Early Stopping to prevent overfitting\n",
    "es = tf.keras.callbacks.EarlyStopping(monitor=\"val_loss\", patience=2, verbose=2, restore_best_weights=True)"
   ]
  },
  {
   "cell_type": "code",
   "execution_count": 13,
   "metadata": {
    "colab": {
     "base_uri": "https://localhost:8080/",
     "height": 854
    },
    "colab_type": "code",
    "id": "rmXV2oAka6Fw",
    "outputId": "5970acc9-dad3-4385-ab45-d76433d2fa90"
   },
   "outputs": [
    {
     "name": "stdout",
     "output_type": "stream",
     "text": [
      "Epoch 1/35\n",
      "79/79 [==============================] - 9s 110ms/step - loss: 2.9347 - accuracy: 0.1798 - val_loss: 2.1421 - val_accuracy: 0.2561\n",
      "Epoch 2/35\n",
      "79/79 [==============================] - 7s 94ms/step - loss: 2.0288 - accuracy: 0.2854 - val_loss: 1.9757 - val_accuracy: 0.2773\n",
      "Epoch 3/35\n",
      "79/79 [==============================] - 7s 94ms/step - loss: 1.9206 - accuracy: 0.3060 - val_loss: 1.9000 - val_accuracy: 0.3049\n",
      "Epoch 4/35\n",
      "79/79 [==============================] - 7s 93ms/step - loss: 1.8824 - accuracy: 0.3152 - val_loss: 1.9250 - val_accuracy: 0.3027\n",
      "Epoch 5/35\n",
      "79/79 [==============================] - 7s 94ms/step - loss: 1.8544 - accuracy: 0.3264 - val_loss: 1.8574 - val_accuracy: 0.3239\n",
      "Epoch 6/35\n",
      "79/79 [==============================] - 7s 94ms/step - loss: 1.8374 - accuracy: 0.3218 - val_loss: 1.8290 - val_accuracy: 0.3311\n",
      "Epoch 7/35\n",
      "79/79 [==============================] - 7s 93ms/step - loss: 1.8202 - accuracy: 0.3378 - val_loss: 1.8681 - val_accuracy: 0.3115\n",
      "Epoch 8/35\n",
      "79/79 [==============================] - 7s 94ms/step - loss: 1.8125 - accuracy: 0.3420 - val_loss: 1.8189 - val_accuracy: 0.3371\n",
      "Epoch 9/35\n",
      "79/79 [==============================] - 7s 93ms/step - loss: 1.7959 - accuracy: 0.3476 - val_loss: 1.8240 - val_accuracy: 0.3350\n",
      "Epoch 10/35\n",
      "79/79 [==============================] - 7s 95ms/step - loss: 1.7748 - accuracy: 0.3600 - val_loss: 1.8048 - val_accuracy: 0.3411\n",
      "Epoch 11/35\n",
      "79/79 [==============================] - 7s 94ms/step - loss: 1.7789 - accuracy: 0.3514 - val_loss: 1.8221 - val_accuracy: 0.3342\n",
      "Epoch 12/35\n",
      "79/79 [==============================] - 7s 94ms/step - loss: 1.7712 - accuracy: 0.3572 - val_loss: 1.8036 - val_accuracy: 0.3426\n",
      "Epoch 13/35\n",
      "79/79 [==============================] - 7s 93ms/step - loss: 1.7674 - accuracy: 0.3570 - val_loss: 1.8376 - val_accuracy: 0.3436\n",
      "Epoch 14/35\n",
      "77/79 [============================>.] - ETA: 0s - loss: 1.7587 - accuracy: 0.3573Restoring model weights from the end of the best epoch.\n",
      "79/79 [==============================] - 7s 94ms/step - loss: 1.7587 - accuracy: 0.3578 - val_loss: 1.8076 - val_accuracy: 0.3403\n",
      "Epoch 00014: early stopping\n"
     ]
    },
    {
     "data": {
      "image/png": "[encoded data removed]",
      "text/plain": [
       "<Figure size 432x288 with 1 Axes>"
      ]
     },
     "metadata": {
      "tags": []
     },
     "output_type": "display_data"
    }
   ],
   "source": [
    "model = get_training_model()\n",
    "\n",
    "model.compile(loss=\"sparse_categorical_crossentropy\", metrics=[\"accuracy\"],\n",
    "                     optimizer='adam')\n",
    "\n",
    "history = model.fit(x_train_frac, y_train_frac,\n",
    "                 validation_data=(x_test, y_test),\n",
    "                 batch_size=64,\n",
    "                 epochs=35,\n",
    "                 callbacks=[es])\n",
    "plot_training(history)"
   ]
  },
  {
   "cell_type": "markdown",
   "metadata": {
    "colab_type": "text",
    "id": "avnKGmzZvZG4"
   },
   "source": [
    "## Fine-tune"
   ]
  },
  {
   "cell_type": "code",
   "execution_count": 14,
   "metadata": {
    "colab": {
     "base_uri": "https://localhost:8080/",
     "height": 274
    },
    "colab_type": "code",
    "id": "rC6T0XTcvK8i",
    "outputId": "3a9a19d4-4b62-46ed-a4d8-46cea69681d5"
   },
   "outputs": [
    {
     "name": "stdout",
     "output_type": "stream",
     "text": [
      "Model: \"functional_9\"\n",
      "_________________________________________________________________\n",
      "Layer (type)                 Output Shape              Param #   \n",
      "=================================================================\n",
      "input_4 (InputLayer)         [(None, 32, 32, 3)]       0         \n",
      "_________________________________________________________________\n",
      "functional_7 (Functional)    (None, 256)               1121344   \n",
      "_________________________________________________________________\n",
      "dense_4 (Dense)              (None, 10)                2570      \n",
      "=================================================================\n",
      "Total params: 1,123,914\n",
      "Trainable params: 1,116,970\n",
      "Non-trainable params: 6,944\n",
      "_________________________________________________________________\n"
     ]
    }
   ],
   "source": [
    "model.layers[1].trainable = True\n",
    "model.summary()"
   ]
  },
  {
   "cell_type": "code",
   "execution_count": 15,
   "metadata": {
    "colab": {
     "base_uri": "https://localhost:8080/",
     "height": 1000
    },
    "colab_type": "code",
    "id": "hsnVHwZ2vRis",
    "outputId": "2cb4ddb7-ace6-4007-b598-a30d2b39bafd"
   },
   "outputs": [
    {
     "name": "stdout",
     "output_type": "stream",
     "text": [
      "Epoch 1/35\n",
      "79/79 [==============================] - 15s 190ms/step - loss: 1.7297 - accuracy: 0.3712 - val_loss: 1.7576 - val_accuracy: 0.3622\n",
      "Epoch 2/35\n",
      "79/79 [==============================] - 14s 175ms/step - loss: 1.7075 - accuracy: 0.3874 - val_loss: 1.7475 - val_accuracy: 0.3660\n",
      "Epoch 3/35\n",
      "79/79 [==============================] - 14s 175ms/step - loss: 1.6896 - accuracy: 0.3890 - val_loss: 1.7380 - val_accuracy: 0.3684\n",
      "Epoch 4/35\n",
      "79/79 [==============================] - 14s 175ms/step - loss: 1.6769 - accuracy: 0.3944 - val_loss: 1.7270 - val_accuracy: 0.3735\n",
      "Epoch 5/35\n",
      "79/79 [==============================] - 14s 174ms/step - loss: 1.6600 - accuracy: 0.4010 - val_loss: 1.7201 - val_accuracy: 0.3729\n",
      "Epoch 6/35\n",
      "79/79 [==============================] - 14s 176ms/step - loss: 1.6475 - accuracy: 0.4018 - val_loss: 1.7153 - val_accuracy: 0.3769\n",
      "Epoch 7/35\n",
      "79/79 [==============================] - 14s 178ms/step - loss: 1.6350 - accuracy: 0.4138 - val_loss: 1.7023 - val_accuracy: 0.3845\n",
      "Epoch 8/35\n",
      "79/79 [==============================] - 14s 177ms/step - loss: 1.6225 - accuracy: 0.4186 - val_loss: 1.6937 - val_accuracy: 0.3862\n",
      "Epoch 9/35\n",
      "79/79 [==============================] - 14s 178ms/step - loss: 1.6086 - accuracy: 0.4198 - val_loss: 1.6865 - val_accuracy: 0.3895\n",
      "Epoch 10/35\n",
      "79/79 [==============================] - 14s 178ms/step - loss: 1.5991 - accuracy: 0.4312 - val_loss: 1.6853 - val_accuracy: 0.3900\n",
      "Epoch 11/35\n",
      "79/79 [==============================] - 14s 178ms/step - loss: 1.5870 - accuracy: 0.4320 - val_loss: 1.6784 - val_accuracy: 0.3921\n",
      "Epoch 12/35\n",
      "79/79 [==============================] - 14s 178ms/step - loss: 1.5753 - accuracy: 0.4396 - val_loss: 1.6695 - val_accuracy: 0.3955\n",
      "Epoch 13/35\n",
      "79/79 [==============================] - 14s 179ms/step - loss: 1.5663 - accuracy: 0.4376 - val_loss: 1.6606 - val_accuracy: 0.4006\n",
      "Epoch 14/35\n",
      "79/79 [==============================] - 14s 178ms/step - loss: 1.5550 - accuracy: 0.4436 - val_loss: 1.6591 - val_accuracy: 0.3991\n",
      "Epoch 15/35\n",
      "79/79 [==============================] - 14s 178ms/step - loss: 1.5468 - accuracy: 0.4434 - val_loss: 1.6560 - val_accuracy: 0.4022\n",
      "Epoch 16/35\n",
      "79/79 [==============================] - 14s 178ms/step - loss: 1.5345 - accuracy: 0.4540 - val_loss: 1.6502 - val_accuracy: 0.4056\n",
      "Epoch 17/35\n",
      "79/79 [==============================] - 14s 178ms/step - loss: 1.5268 - accuracy: 0.4602 - val_loss: 1.6437 - val_accuracy: 0.4076\n",
      "Epoch 18/35\n",
      "79/79 [==============================] - 14s 178ms/step - loss: 1.5187 - accuracy: 0.4570 - val_loss: 1.6403 - val_accuracy: 0.4063\n",
      "Epoch 19/35\n",
      "79/79 [==============================] - 14s 178ms/step - loss: 1.5102 - accuracy: 0.4650 - val_loss: 1.6355 - val_accuracy: 0.4111\n",
      "Epoch 20/35\n",
      "79/79 [==============================] - 14s 177ms/step - loss: 1.4989 - accuracy: 0.4732 - val_loss: 1.6304 - val_accuracy: 0.4118\n",
      "Epoch 21/35\n",
      "79/79 [==============================] - 14s 177ms/step - loss: 1.4905 - accuracy: 0.4750 - val_loss: 1.6261 - val_accuracy: 0.4136\n",
      "Epoch 22/35\n",
      "79/79 [==============================] - 14s 178ms/step - loss: 1.4817 - accuracy: 0.4782 - val_loss: 1.6246 - val_accuracy: 0.4134\n",
      "Epoch 23/35\n",
      "79/79 [==============================] - 14s 177ms/step - loss: 1.4760 - accuracy: 0.4818 - val_loss: 1.6194 - val_accuracy: 0.4114\n",
      "Epoch 24/35\n",
      "79/79 [==============================] - 14s 177ms/step - loss: 1.4656 - accuracy: 0.4836 - val_loss: 1.6176 - val_accuracy: 0.4173\n",
      "Epoch 25/35\n",
      "79/79 [==============================] - 14s 178ms/step - loss: 1.4569 - accuracy: 0.4858 - val_loss: 1.6151 - val_accuracy: 0.4170\n",
      "Epoch 26/35\n",
      "79/79 [==============================] - 14s 177ms/step - loss: 1.4494 - accuracy: 0.4954 - val_loss: 1.6099 - val_accuracy: 0.4200\n",
      "Epoch 27/35\n",
      "79/79 [==============================] - 14s 177ms/step - loss: 1.4422 - accuracy: 0.4944 - val_loss: 1.6031 - val_accuracy: 0.4187\n",
      "Epoch 28/35\n",
      "79/79 [==============================] - 14s 176ms/step - loss: 1.4314 - accuracy: 0.4994 - val_loss: 1.6043 - val_accuracy: 0.4190\n",
      "Epoch 29/35\n",
      "79/79 [==============================] - 14s 177ms/step - loss: 1.4262 - accuracy: 0.4962 - val_loss: 1.6006 - val_accuracy: 0.4239\n",
      "Epoch 30/35\n",
      "79/79 [==============================] - 14s 178ms/step - loss: 1.4175 - accuracy: 0.5064 - val_loss: 1.5994 - val_accuracy: 0.4219\n",
      "Epoch 31/35\n",
      "79/79 [==============================] - 14s 178ms/step - loss: 1.4099 - accuracy: 0.5056 - val_loss: 1.5951 - val_accuracy: 0.4239\n",
      "Epoch 32/35\n",
      "79/79 [==============================] - 14s 178ms/step - loss: 1.4059 - accuracy: 0.5104 - val_loss: 1.5868 - val_accuracy: 0.4314\n",
      "Epoch 33/35\n",
      "79/79 [==============================] - 14s 177ms/step - loss: 1.3962 - accuracy: 0.5154 - val_loss: 1.5835 - val_accuracy: 0.4295\n",
      "Epoch 34/35\n",
      "79/79 [==============================] - 14s 177ms/step - loss: 1.3868 - accuracy: 0.5122 - val_loss: 1.5904 - val_accuracy: 0.4243\n",
      "Epoch 35/35\n",
      "79/79 [==============================] - 14s 178ms/step - loss: 1.3810 - accuracy: 0.5208 - val_loss: 1.5779 - val_accuracy: 0.4310\n"
     ]
    },
    {
     "data": {
      "image/png": "[encoded data removed]",
      "text/plain": [
       "<Figure size 432x288 with 1 Axes>"
      ]
     },
     "metadata": {
      "tags": []
     },
     "output_type": "display_data"
    }
   ],
   "source": [
    "model.compile(loss=\"sparse_categorical_crossentropy\", metrics=[\"accuracy\"],\n",
    "                     optimizer=tf.keras.optimizers.Adam(1e-5)) # Low learning rate\n",
    "\n",
    "history = model.fit(x_train_frac, y_train_frac,\n",
    "                 validation_data=(x_test, y_test),\n",
    "                 batch_size=64,\n",
    "                 epochs=35,\n",
    "                 callbacks=[es])\n",
    "plot_training(history)"
   ]
  }
 ],
 "metadata": {
  "accelerator": "GPU",
  "colab": {
   "collapsed_sections": [],
   "include_colab_link": true,
   "name": "10_Per_Fine-tune_CIFAR10_PseudoLabels_SimCLR.ipynb",
   "provenance": []
  },
  "kernelspec": {
   "display_name": "Python 3",
   "language": "python",
   "name": "python3"
  },
  "language_info": {
   "codemirror_mode": {
    "name": "ipython",
    "version": 3
   },
   "file_extension": ".py",
   "mimetype": "text/x-python",
   "name": "python",
   "nbconvert_exporter": "python",
   "pygments_lexer": "ipython3",
   "version": "3.7.1"
  }
 },
 "nbformat": 4,
 "nbformat_minor": 1
}
