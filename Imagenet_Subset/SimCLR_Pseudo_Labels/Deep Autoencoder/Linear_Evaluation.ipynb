{
  "nbformat": 4,
  "nbformat_minor": 0,
  "metadata": {
    "accelerator": "GPU",
    "colab": {
      "name": "scratchpad",
      "provenance": []
    },
    "kernelspec": {
      "display_name": "Python 3",
      "language": "python",
      "name": "python3"
    },
    "language_info": {
      "codemirror_mode": {
        "name": "ipython",
        "version": 3
      },
      "file_extension": ".py",
      "mimetype": "text/x-python",
      "name": "python",
      "nbconvert_exporter": "python",
      "pygments_lexer": "ipython3",
      "version": "3.7.1"
    }
  },
  "cells": [
    {
      "cell_type": "markdown",
      "metadata": {
        "colab_type": "text",
        "id": "7ck3ljcss8R2"
      },
      "source": [
        "## Initial setup"
      ]
    },
    {
      "cell_type": "code",
      "metadata": {
        "colab_type": "code",
        "id": "lIYdn1woOS1n",
        "colab": {
          "base_uri": "https://localhost:8080/",
          "height": 34
        },
        "outputId": "f986657d-60a2-4561-8f62-a1ad7ab8409d"
      },
      "source": [
        "import tensorflow as tf\n",
        "print(tf.__version__)"
      ],
      "execution_count": null,
      "outputs": [
        {
          "output_type": "stream",
          "text": [
            "2.3.0\n"
          ],
          "name": "stdout"
        }
      ]
    },
    {
      "cell_type": "code",
      "metadata": {
        "colab_type": "code",
        "id": "M3obU9ZXpGR0",
        "colab": {
          "base_uri": "https://localhost:8080/",
          "height": 357
        },
        "outputId": "7f348a38-f245-40af-baae-e9f135602340"
      },
      "source": [
        "!nvidia-smi"
      ],
      "execution_count": null,
      "outputs": [
        {
          "output_type": "stream",
          "text": [
            "Thu Aug 20 13:42:35 2020       \n",
            "+-----------------------------------------------------------------------------+\n",
            "| NVIDIA-SMI 450.57       Driver Version: 418.67       CUDA Version: 10.1     |\n",
            "|-------------------------------+----------------------+----------------------+\n",
            "| GPU  Name        Persistence-M| Bus-Id        Disp.A | Volatile Uncorr. ECC |\n",
            "| Fan  Temp  Perf  Pwr:Usage/Cap|         Memory-Usage | GPU-Util  Compute M. |\n",
            "|                               |                      |               MIG M. |\n",
            "|===============================+======================+======================|\n",
            "|   0  Tesla K80           Off  | 00000000:00:04.0 Off |                    0 |\n",
            "| N/A   32C    P8    28W / 149W |      0MiB / 11441MiB |      0%      Default |\n",
            "|                               |                      |                 ERR! |\n",
            "+-------------------------------+----------------------+----------------------+\n",
            "                                                                               \n",
            "+-----------------------------------------------------------------------------+\n",
            "| Processes:                                                                  |\n",
            "|  GPU   GI   CI        PID   Type   Process name                  GPU Memory |\n",
            "|        ID   ID                                                   Usage      |\n",
            "|=============================================================================|\n",
            "|  No running processes found                                                 |\n",
            "+-----------------------------------------------------------------------------+\n"
          ],
          "name": "stdout"
        }
      ]
    },
    {
      "cell_type": "markdown",
      "metadata": {
        "colab_type": "text",
        "id": "hhE3wbuUtJC3"
      },
      "source": [
        "### Restore model weights"
      ]
    },
    {
      "cell_type": "code",
      "metadata": {
        "colab_type": "code",
        "id": "JoQSrT6gpbNM",
        "scrolled": true,
        "colab": {}
      },
      "source": [
        "!wget https://github.com/ariG23498/G-SimCLR/releases/download/v3.0/ImageNet_Subset_Deep_Autoencoder.zip\n",
        "!unzip -qq ImageNet_Subset_Deep_Autoencoder.zip"
      ],
      "execution_count": null,
      "outputs": []
    },
    {
      "cell_type": "code",
      "metadata": {
        "colab_type": "code",
        "id": "dCsK6zBRpmdo",
        "colab": {
          "base_uri": "https://localhost:8080/",
          "height": 51
        },
        "outputId": "a4e7afb7-9758-4ba2-cc08-fb42ded150fe"
      },
      "source": [
        "# Other imports\n",
        "from sklearn.preprocessing import LabelEncoder\n",
        "from tensorflow.keras.layers import *\n",
        "from tensorflow.keras.models import *\n",
        "import matplotlib.pyplot as plt\n",
        "from imutils import paths\n",
        "from tqdm import tqdm\n",
        "import tensorflow as tf\n",
        "import seaborn as sns\n",
        "import numpy as np\n",
        "import cv2\n",
        "\n",
        "# Random seed fixation\n",
        "tf.random.set_seed(666)\n",
        "np.random.seed(666)"
      ],
      "execution_count": null,
      "outputs": [
        {
          "output_type": "stream",
          "text": [
            "/usr/local/lib/python3.6/dist-packages/statsmodels/tools/_testing.py:19: FutureWarning: pandas.util.testing is deprecated. Use the functions in the public API at pandas.testing instead.\n",
            "  import pandas.util.testing as tm\n"
          ],
          "name": "stderr"
        }
      ]
    },
    {
      "cell_type": "markdown",
      "metadata": {
        "colab_type": "text",
        "id": "yP3vs53rs8SM"
      },
      "source": [
        "## Dataset gathering and preparation"
      ]
    },
    {
      "cell_type": "code",
      "metadata": {
        "colab_type": "code",
        "id": "HJQZoWXYpjeN",
        "colab": {
          "base_uri": "https://localhost:8080/",
          "height": 102
        },
        "outputId": "263dbb82-5399-47a2-e135-791952ae1033"
      },
      "source": [
        "# Gather dataset\n",
        "!git clone https://github.com/thunderInfy/imagenet-5-categories"
      ],
      "execution_count": null,
      "outputs": [
        {
          "output_type": "stream",
          "text": [
            "Cloning into 'imagenet-5-categories'...\n",
            "remote: Enumerating objects: 1532, done.\u001b[K\n",
            "remote: Total 1532 (delta 0), reused 0 (delta 0), pack-reused 1532\u001b[K\n",
            "Receiving objects: 100% (1532/1532), 88.56 MiB | 12.53 MiB/s, done.\n",
            "Resolving deltas: 100% (1/1), done.\n"
          ],
          "name": "stdout"
        }
      ]
    },
    {
      "cell_type": "code",
      "metadata": {
        "colab_type": "code",
        "id": "2PRnOXCdppEg",
        "colab": {
          "base_uri": "https://localhost:8080/",
          "height": 34
        },
        "outputId": "e571e646-3c1d-4130-f4bc-96a39fe681f5"
      },
      "source": [
        "# Train and test image paths\n",
        "train_images = list(paths.list_images(\"imagenet-5-categories/train\"))\n",
        "test_images = list(paths.list_images(\"imagenet-5-categories/test\"))\n",
        "print(len(train_images), len(test_images))"
      ],
      "execution_count": null,
      "outputs": [
        {
          "output_type": "stream",
          "text": [
            "1250 250\n"
          ],
          "name": "stdout"
        }
      ]
    },
    {
      "cell_type": "code",
      "metadata": {
        "colab_type": "code",
        "id": "9giRP85TqizW",
        "colab": {}
      },
      "source": [
        "def prepare_images(image_paths):\n",
        "    images = []\n",
        "    labels = []\n",
        "\n",
        "    for image in tqdm(image_paths):\n",
        "        image_pixels = plt.imread(image)\n",
        "        image_pixels = cv2.resize(image_pixels, (224, 224))\n",
        "        image_pixels = image_pixels/255.\n",
        "\n",
        "        label = image.split(\"/\")[2].split(\"_\")[0]\n",
        "\n",
        "        images.append(image_pixels)\n",
        "        labels.append(label)\n",
        "\n",
        "    images = np.array(images)\n",
        "    labels = np.array(labels)\n",
        "\n",
        "    print(images.shape, labels.shape)\n",
        "\n",
        "    return images, labels"
      ],
      "execution_count": null,
      "outputs": []
    },
    {
      "cell_type": "code",
      "metadata": {
        "colab_type": "code",
        "id": "YJL8IW6UsHkt",
        "colab": {
          "base_uri": "https://localhost:8080/",
          "height": 85
        },
        "outputId": "2a586c8e-070f-4610-f686-b11d8f353e5d"
      },
      "source": [
        "X_train, y_train = prepare_images(train_images)\n",
        "X_test, y_test = prepare_images(test_images)"
      ],
      "execution_count": null,
      "outputs": [
        {
          "output_type": "stream",
          "text": [
            "100%|██████████| 1250/1250 [00:06<00:00, 182.25it/s]\n",
            "  6%|▌         | 15/250 [00:00<00:01, 141.31it/s]"
          ],
          "name": "stderr"
        },
        {
          "output_type": "stream",
          "text": [
            "(1250, 224, 224, 3) (1250,)\n"
          ],
          "name": "stdout"
        },
        {
          "output_type": "stream",
          "text": [
            "100%|██████████| 250/250 [00:01<00:00, 187.50it/s]\n"
          ],
          "name": "stderr"
        },
        {
          "output_type": "stream",
          "text": [
            "(250, 224, 224, 3) (250,)\n"
          ],
          "name": "stdout"
        }
      ]
    },
    {
      "cell_type": "code",
      "metadata": {
        "colab_type": "code",
        "id": "YAv47WlJvse5",
        "colab": {}
      },
      "source": [
        "le = LabelEncoder()\n",
        "y_train_enc = le.fit_transform(y_train)\n",
        "y_test_enc = le.transform(y_test)"
      ],
      "execution_count": null,
      "outputs": []
    },
    {
      "cell_type": "markdown",
      "metadata": {
        "colab_type": "text",
        "id": "vdM74W7Ws8Sl"
      },
      "source": [
        "## Utilities"
      ]
    },
    {
      "cell_type": "code",
      "metadata": {
        "colab_type": "code",
        "id": "G8ha8pK7sSUO",
        "colab": {}
      },
      "source": [
        "# Architecture utils\n",
        "def get_resnet_simclr(hidden_1, hidden_2, hidden_3):\n",
        "    base_model = tf.keras.applications.ResNet50(include_top=False, weights=None, input_shape=(224, 224, 3))\n",
        "    base_model.trainable = True\n",
        "    inputs = Input((224, 224, 3))\n",
        "    h = base_model(inputs, training=False)\n",
        "    h = GlobalAveragePooling2D()(h)\n",
        "\n",
        "    projection_1 = Dense(hidden_1)(h)\n",
        "    projection_1 = Activation(\"relu\")(projection_1)\n",
        "    projection_2 = Dense(hidden_2)(projection_1)\n",
        "    projection_2 = Activation(\"relu\")(projection_2)\n",
        "    projection_3 = Dense(hidden_3)(projection_2)\n",
        "\n",
        "    resnet_simclr = Model(inputs, projection_3)\n",
        "\n",
        "    return resnet_simclr"
      ],
      "execution_count": null,
      "outputs": []
    },
    {
      "cell_type": "code",
      "metadata": {
        "colab_type": "code",
        "id": "X0GklYB-sZYz",
        "colab": {
          "base_uri": "https://localhost:8080/",
          "height": 425
        },
        "outputId": "b77bec41-a4e2-4338-af55-3ac604ade44e"
      },
      "source": [
        "resnet_simclr = get_resnet_simclr(256, 128, 50)\n",
        "resnet_simclr.load_weights('ImageNet_Subset_Deep_Autoencoder/gsimclr_imagenet_subset_deep_ae.h5')\n",
        "resnet_simclr.summary()"
      ],
      "execution_count": null,
      "outputs": [
        {
          "output_type": "stream",
          "text": [
            "Model: \"functional_1\"\n",
            "_________________________________________________________________\n",
            "Layer (type)                 Output Shape              Param #   \n",
            "=================================================================\n",
            "input_2 (InputLayer)         [(None, 224, 224, 3)]     0         \n",
            "_________________________________________________________________\n",
            "resnet50 (Functional)        (None, 7, 7, 2048)        23587712  \n",
            "_________________________________________________________________\n",
            "global_average_pooling2d (Gl (None, 2048)              0         \n",
            "_________________________________________________________________\n",
            "dense (Dense)                (None, 256)               524544    \n",
            "_________________________________________________________________\n",
            "activation (Activation)      (None, 256)               0         \n",
            "_________________________________________________________________\n",
            "dense_1 (Dense)              (None, 128)               32896     \n",
            "_________________________________________________________________\n",
            "activation_1 (Activation)    (None, 128)               0         \n",
            "_________________________________________________________________\n",
            "dense_2 (Dense)              (None, 50)                6450      \n",
            "=================================================================\n",
            "Total params: 24,151,602\n",
            "Trainable params: 24,098,482\n",
            "Non-trainable params: 53,120\n",
            "_________________________________________________________________\n"
          ],
          "name": "stdout"
        }
      ]
    },
    {
      "cell_type": "code",
      "metadata": {
        "colab_type": "code",
        "id": "Z1tFKw-7ziaG",
        "colab": {}
      },
      "source": [
        "def plot_training(H):\n",
        "\twith plt.xkcd():\n",
        "\t\tplt.plot(H.history[\"loss\"], label=\"train_loss\")\n",
        "\t\tplt.plot(H.history[\"val_loss\"], label=\"val_loss\")\n",
        "\t\tplt.plot(H.history[\"accuracy\"], label=\"train_acc\")\n",
        "\t\tplt.plot(H.history[\"val_accuracy\"], label=\"val_acc\")\n",
        "\t\tplt.title(\"Training Loss and Accuracy\")\n",
        "\t\tplt.xlabel(\"Epoch #\")\n",
        "\t\tplt.ylabel(\"Loss/Accuracy\")\n",
        "\t\tplt.legend(loc=\"lower left\")\n",
        "\t\tplt.show()"
      ],
      "execution_count": null,
      "outputs": []
    },
    {
      "cell_type": "code",
      "metadata": {
        "colab_type": "code",
        "id": "7XojYORatX4p",
        "colab": {}
      },
      "source": [
        "def get_linear_model(features):\n",
        "    linear_model = Sequential([Dense(5, input_shape=(features, ), activation=\"softmax\")])\n",
        "    return linear_model"
      ],
      "execution_count": null,
      "outputs": []
    },
    {
      "cell_type": "markdown",
      "metadata": {
        "colab_type": "text",
        "id": "_s0nfTYos8Sy"
      },
      "source": [
        "## Evaluation"
      ]
    },
    {
      "cell_type": "code",
      "metadata": {
        "colab_type": "code",
        "id": "V8ZQDDHXHbxb",
        "colab": {
          "base_uri": "https://localhost:8080/",
          "height": 425
        },
        "outputId": "ec15d923-0136-407b-88c3-279e08f0039e"
      },
      "source": [
        "resnet_simclr.layers[1].trainable = False\n",
        "resnet_simclr.summary()"
      ],
      "execution_count": null,
      "outputs": [
        {
          "output_type": "stream",
          "text": [
            "Model: \"functional_1\"\n",
            "_________________________________________________________________\n",
            "Layer (type)                 Output Shape              Param #   \n",
            "=================================================================\n",
            "input_2 (InputLayer)         [(None, 224, 224, 3)]     0         \n",
            "_________________________________________________________________\n",
            "resnet50 (Functional)        (None, 7, 7, 2048)        23587712  \n",
            "_________________________________________________________________\n",
            "global_average_pooling2d (Gl (None, 2048)              0         \n",
            "_________________________________________________________________\n",
            "dense (Dense)                (None, 256)               524544    \n",
            "_________________________________________________________________\n",
            "activation (Activation)      (None, 256)               0         \n",
            "_________________________________________________________________\n",
            "dense_1 (Dense)              (None, 128)               32896     \n",
            "_________________________________________________________________\n",
            "activation_1 (Activation)    (None, 128)               0         \n",
            "_________________________________________________________________\n",
            "dense_2 (Dense)              (None, 50)                6450      \n",
            "=================================================================\n",
            "Total params: 24,151,602\n",
            "Trainable params: 563,890\n",
            "Non-trainable params: 23,587,712\n",
            "_________________________________________________________________\n"
          ],
          "name": "stdout"
        }
      ]
    },
    {
      "cell_type": "code",
      "metadata": {
        "colab_type": "code",
        "id": "1B9C0a6003-O",
        "colab": {}
      },
      "source": [
        "# Early Stopping to prevent overfitting\n",
        "es = tf.keras.callbacks.EarlyStopping(monitor=\"val_loss\", patience=2, verbose=2, restore_best_weights=True)"
      ],
      "execution_count": null,
      "outputs": []
    },
    {
      "cell_type": "code",
      "metadata": {
        "colab_type": "code",
        "id": "qnNJ5BKPsj4u",
        "colab": {
          "base_uri": "https://localhost:8080/",
          "height": 425
        },
        "outputId": "fdf07a0a-c67e-4dbc-e16a-988fa762d43b"
      },
      "source": [
        "# These layers won't be trained as well\n",
        "resnet_simclr.layers[3].trainable = False\n",
        "resnet_simclr.layers[5].trainable = False\n",
        "\n",
        "# Encoder model with non-linear projections\n",
        "projection = Model(resnet_simclr.input, resnet_simclr.layers[-2].output)\n",
        "print(projection.summary())\n",
        "\n",
        "# Extract train and test features\n",
        "train_features = projection.predict(X_train)\n",
        "test_features = projection.predict(X_test)\n",
        "\n",
        "print(train_features.shape, test_features.shape)"
      ],
      "execution_count": null,
      "outputs": [
        {
          "output_type": "stream",
          "text": [
            "Model: \"functional_3\"\n",
            "_________________________________________________________________\n",
            "Layer (type)                 Output Shape              Param #   \n",
            "=================================================================\n",
            "input_2 (InputLayer)         [(None, 224, 224, 3)]     0         \n",
            "_________________________________________________________________\n",
            "resnet50 (Functional)        (None, 7, 7, 2048)        23587712  \n",
            "_________________________________________________________________\n",
            "global_average_pooling2d (Gl (None, 2048)              0         \n",
            "_________________________________________________________________\n",
            "dense (Dense)                (None, 256)               524544    \n",
            "_________________________________________________________________\n",
            "activation (Activation)      (None, 256)               0         \n",
            "_________________________________________________________________\n",
            "dense_1 (Dense)              (None, 128)               32896     \n",
            "_________________________________________________________________\n",
            "activation_1 (Activation)    (None, 128)               0         \n",
            "=================================================================\n",
            "Total params: 24,145,152\n",
            "Trainable params: 0\n",
            "Non-trainable params: 24,145,152\n",
            "_________________________________________________________________\n",
            "None\n",
            "(1250, 128) (250, 128)\n"
          ],
          "name": "stdout"
        }
      ]
    },
    {
      "cell_type": "code",
      "metadata": {
        "colab_type": "code",
        "id": "-Rb-lf8KvMtR",
        "colab": {
          "base_uri": "https://localhost:8080/",
          "height": 1000
        },
        "outputId": "765d2f52-e96c-458d-cba6-747fd8cd2537"
      },
      "source": [
        "# Linear model\n",
        "linear_model = get_linear_model(128)\n",
        "linear_model.compile(loss=\"sparse_categorical_crossentropy\", metrics=[\"accuracy\"],\n",
        "                     optimizer=\"adam\")\n",
        "history = linear_model.fit(train_features, y_train_enc,\n",
        "                 validation_data=(test_features, y_test_enc),\n",
        "                 batch_size=64,\n",
        "                 epochs=100,\n",
        "                 callbacks=[es])\n",
        "plot_training(history)"
      ],
      "execution_count": null,
      "outputs": [
        {
          "output_type": "stream",
          "text": [
            "Epoch 1/100\n",
            "20/20 [==============================] - 0s 11ms/step - loss: 3.7586 - accuracy: 0.2048 - val_loss: 2.9451 - val_accuracy: 0.2440\n",
            "Epoch 2/100\n",
            "20/20 [==============================] - 0s 4ms/step - loss: 2.6330 - accuracy: 0.2400 - val_loss: 2.0961 - val_accuracy: 0.2920\n",
            "Epoch 3/100\n",
            "20/20 [==============================] - 0s 4ms/step - loss: 1.9140 - accuracy: 0.3304 - val_loss: 1.6034 - val_accuracy: 0.4040\n",
            "Epoch 4/100\n",
            "20/20 [==============================] - 0s 3ms/step - loss: 1.5106 - accuracy: 0.4232 - val_loss: 1.3791 - val_accuracy: 0.4520\n",
            "Epoch 5/100\n",
            "20/20 [==============================] - 0s 3ms/step - loss: 1.3199 - accuracy: 0.4864 - val_loss: 1.2810 - val_accuracy: 0.5080\n",
            "Epoch 6/100\n",
            "20/20 [==============================] - 0s 3ms/step - loss: 1.2352 - accuracy: 0.5088 - val_loss: 1.2354 - val_accuracy: 0.5040\n",
            "Epoch 7/100\n",
            "20/20 [==============================] - 0s 3ms/step - loss: 1.1825 - accuracy: 0.5208 - val_loss: 1.2138 - val_accuracy: 0.5120\n",
            "Epoch 8/100\n",
            "20/20 [==============================] - 0s 4ms/step - loss: 1.1470 - accuracy: 0.5360 - val_loss: 1.1956 - val_accuracy: 0.5080\n",
            "Epoch 9/100\n",
            "20/20 [==============================] - 0s 4ms/step - loss: 1.1231 - accuracy: 0.5480 - val_loss: 1.1776 - val_accuracy: 0.5280\n",
            "Epoch 10/100\n",
            "20/20 [==============================] - 0s 4ms/step - loss: 1.1013 - accuracy: 0.5608 - val_loss: 1.1612 - val_accuracy: 0.5440\n",
            "Epoch 11/100\n",
            "20/20 [==============================] - 0s 4ms/step - loss: 1.0845 - accuracy: 0.5616 - val_loss: 1.1555 - val_accuracy: 0.5520\n",
            "Epoch 12/100\n",
            "20/20 [==============================] - 0s 3ms/step - loss: 1.0700 - accuracy: 0.5728 - val_loss: 1.1413 - val_accuracy: 0.5520\n",
            "Epoch 13/100\n",
            "20/20 [==============================] - 0s 3ms/step - loss: 1.0601 - accuracy: 0.5704 - val_loss: 1.1410 - val_accuracy: 0.5440\n",
            "Epoch 14/100\n",
            "20/20 [==============================] - 0s 4ms/step - loss: 1.0498 - accuracy: 0.5792 - val_loss: 1.1318 - val_accuracy: 0.5520\n",
            "Epoch 15/100\n",
            "20/20 [==============================] - 0s 4ms/step - loss: 1.0409 - accuracy: 0.5736 - val_loss: 1.1251 - val_accuracy: 0.5360\n",
            "Epoch 16/100\n",
            "20/20 [==============================] - 0s 4ms/step - loss: 1.0347 - accuracy: 0.5792 - val_loss: 1.1186 - val_accuracy: 0.5520\n",
            "Epoch 17/100\n",
            "20/20 [==============================] - 0s 3ms/step - loss: 1.0288 - accuracy: 0.5752 - val_loss: 1.1146 - val_accuracy: 0.5680\n",
            "Epoch 18/100\n",
            "20/20 [==============================] - 0s 3ms/step - loss: 1.0260 - accuracy: 0.5808 - val_loss: 1.1120 - val_accuracy: 0.5640\n",
            "Epoch 19/100\n",
            "20/20 [==============================] - 0s 3ms/step - loss: 1.0172 - accuracy: 0.5792 - val_loss: 1.1082 - val_accuracy: 0.5480\n",
            "Epoch 20/100\n",
            "20/20 [==============================] - 0s 4ms/step - loss: 1.0117 - accuracy: 0.5864 - val_loss: 1.1036 - val_accuracy: 0.5640\n",
            "Epoch 21/100\n",
            "20/20 [==============================] - 0s 3ms/step - loss: 1.0041 - accuracy: 0.5920 - val_loss: 1.0974 - val_accuracy: 0.5560\n",
            "Epoch 22/100\n",
            "20/20 [==============================] - 0s 4ms/step - loss: 0.9982 - accuracy: 0.5928 - val_loss: 1.0940 - val_accuracy: 0.5640\n",
            "Epoch 23/100\n",
            "20/20 [==============================] - 0s 4ms/step - loss: 0.9962 - accuracy: 0.5936 - val_loss: 1.0910 - val_accuracy: 0.5680\n",
            "Epoch 24/100\n",
            "20/20 [==============================] - 0s 4ms/step - loss: 0.9925 - accuracy: 0.5912 - val_loss: 1.0853 - val_accuracy: 0.5600\n",
            "Epoch 25/100\n",
            "20/20 [==============================] - 0s 3ms/step - loss: 0.9894 - accuracy: 0.5936 - val_loss: 1.0858 - val_accuracy: 0.5680\n",
            "Epoch 26/100\n",
            "20/20 [==============================] - 0s 3ms/step - loss: 0.9859 - accuracy: 0.5920 - val_loss: 1.0844 - val_accuracy: 0.5600\n",
            "Epoch 27/100\n",
            "20/20 [==============================] - 0s 3ms/step - loss: 0.9799 - accuracy: 0.5920 - val_loss: 1.0809 - val_accuracy: 0.5600\n",
            "Epoch 28/100\n",
            "20/20 [==============================] - 0s 4ms/step - loss: 0.9763 - accuracy: 0.5992 - val_loss: 1.0765 - val_accuracy: 0.5640\n",
            "Epoch 29/100\n",
            "20/20 [==============================] - 0s 3ms/step - loss: 0.9752 - accuracy: 0.5960 - val_loss: 1.0755 - val_accuracy: 0.5920\n",
            "Epoch 30/100\n",
            "20/20 [==============================] - 0s 4ms/step - loss: 0.9732 - accuracy: 0.5936 - val_loss: 1.0738 - val_accuracy: 0.5640\n",
            "Epoch 31/100\n",
            "20/20 [==============================] - 0s 3ms/step - loss: 0.9692 - accuracy: 0.5952 - val_loss: 1.0714 - val_accuracy: 0.5600\n",
            "Epoch 32/100\n",
            "20/20 [==============================] - 0s 3ms/step - loss: 0.9639 - accuracy: 0.5968 - val_loss: 1.0689 - val_accuracy: 0.5840\n",
            "Epoch 33/100\n",
            "20/20 [==============================] - 0s 4ms/step - loss: 0.9621 - accuracy: 0.6016 - val_loss: 1.0646 - val_accuracy: 0.5640\n",
            "Epoch 34/100\n",
            "20/20 [==============================] - 0s 3ms/step - loss: 0.9595 - accuracy: 0.6016 - val_loss: 1.0657 - val_accuracy: 0.5720\n",
            "Epoch 35/100\n",
            " 1/20 [>.............................] - ETA: 0s - loss: 0.9763 - accuracy: 0.6719Restoring model weights from the end of the best epoch.\n",
            "20/20 [==============================] - 0s 4ms/step - loss: 0.9574 - accuracy: 0.6024 - val_loss: 1.0658 - val_accuracy: 0.5640\n",
            "Epoch 00035: early stopping\n"
          ],
          "name": "stdout"
        },
        {
          "output_type": "display_data",
          "data": {
            "image/png": "[encoded data removed]",
            "text/plain": [
              "<Figure size 432x288 with 1 Axes>"
            ]
          },
          "metadata": {
            "tags": []
          }
        }
      ]
    },
    {
      "cell_type": "code",
      "metadata": {
        "colab_type": "code",
        "id": "pNQxjmTsvd_u",
        "colab": {
          "base_uri": "https://localhost:8080/",
          "height": 357
        },
        "outputId": "16daedf1-3013-4940-8b65-32ed2ce8fe05"
      },
      "source": [
        "# Encoder model with lesser non-linearity\n",
        "projection = Model(resnet_simclr.input, resnet_simclr.layers[-4].output)\n",
        "print(projection.summary())\n",
        "\n",
        "# Extract train and test features\n",
        "train_features = projection.predict(X_train)\n",
        "test_features = projection.predict(X_test)\n",
        "\n",
        "print(train_features.shape, test_features.shape)"
      ],
      "execution_count": null,
      "outputs": [
        {
          "output_type": "stream",
          "text": [
            "Model: \"functional_5\"\n",
            "_________________________________________________________________\n",
            "Layer (type)                 Output Shape              Param #   \n",
            "=================================================================\n",
            "input_2 (InputLayer)         [(None, 224, 224, 3)]     0         \n",
            "_________________________________________________________________\n",
            "resnet50 (Functional)        (None, 7, 7, 2048)        23587712  \n",
            "_________________________________________________________________\n",
            "global_average_pooling2d (Gl (None, 2048)              0         \n",
            "_________________________________________________________________\n",
            "dense (Dense)                (None, 256)               524544    \n",
            "_________________________________________________________________\n",
            "activation (Activation)      (None, 256)               0         \n",
            "=================================================================\n",
            "Total params: 24,112,256\n",
            "Trainable params: 0\n",
            "Non-trainable params: 24,112,256\n",
            "_________________________________________________________________\n",
            "None\n",
            "(1250, 256) (250, 256)\n"
          ],
          "name": "stdout"
        }
      ]
    },
    {
      "cell_type": "code",
      "metadata": {
        "colab_type": "code",
        "id": "N4YLxLpw1rWK",
        "colab": {
          "base_uri": "https://localhost:8080/",
          "height": 881
        },
        "outputId": "57b61dec-66ad-4634-94f4-7cef760901ec"
      },
      "source": [
        "linear_model = get_linear_model(256)\n",
        "linear_model.compile(loss=\"sparse_categorical_crossentropy\", metrics=[\"accuracy\"],\n",
        "                     optimizer=\"adam\")\n",
        "history = linear_model.fit(train_features, y_train_enc,\n",
        "                 validation_data=(test_features, y_test_enc),\n",
        "                 batch_size=64,\n",
        "                 epochs=35,\n",
        "                 callbacks=[es])\n",
        "plot_training(history)"
      ],
      "execution_count": null,
      "outputs": [
        {
          "output_type": "stream",
          "text": [
            "Epoch 1/35\n",
            "20/20 [==============================] - 0s 9ms/step - loss: 2.8088 - accuracy: 0.3000 - val_loss: 1.8602 - val_accuracy: 0.3760\n",
            "Epoch 2/35\n",
            "20/20 [==============================] - 0s 4ms/step - loss: 1.6417 - accuracy: 0.3952 - val_loss: 1.3419 - val_accuracy: 0.5520\n",
            "Epoch 3/35\n",
            "20/20 [==============================] - 0s 3ms/step - loss: 1.2997 - accuracy: 0.4872 - val_loss: 1.1965 - val_accuracy: 0.5440\n",
            "Epoch 4/35\n",
            "20/20 [==============================] - 0s 3ms/step - loss: 1.1920 - accuracy: 0.5064 - val_loss: 1.1455 - val_accuracy: 0.5480\n",
            "Epoch 5/35\n",
            "20/20 [==============================] - 0s 3ms/step - loss: 1.1443 - accuracy: 0.5288 - val_loss: 1.1205 - val_accuracy: 0.5440\n",
            "Epoch 6/35\n",
            "20/20 [==============================] - 0s 4ms/step - loss: 1.1179 - accuracy: 0.5344 - val_loss: 1.1037 - val_accuracy: 0.5440\n",
            "Epoch 7/35\n",
            "20/20 [==============================] - 0s 3ms/step - loss: 1.0883 - accuracy: 0.5464 - val_loss: 1.0909 - val_accuracy: 0.5600\n",
            "Epoch 8/35\n",
            "20/20 [==============================] - 0s 3ms/step - loss: 1.0714 - accuracy: 0.5576 - val_loss: 1.0824 - val_accuracy: 0.5600\n",
            "Epoch 9/35\n",
            "20/20 [==============================] - 0s 4ms/step - loss: 1.0572 - accuracy: 0.5640 - val_loss: 1.0784 - val_accuracy: 0.5680\n",
            "Epoch 10/35\n",
            "20/20 [==============================] - 0s 3ms/step - loss: 1.0498 - accuracy: 0.5648 - val_loss: 1.0724 - val_accuracy: 0.5640\n",
            "Epoch 11/35\n",
            "20/20 [==============================] - 0s 4ms/step - loss: 1.0268 - accuracy: 0.5728 - val_loss: 1.0642 - val_accuracy: 0.5560\n",
            "Epoch 12/35\n",
            "20/20 [==============================] - 0s 4ms/step - loss: 1.0223 - accuracy: 0.5720 - val_loss: 1.0599 - val_accuracy: 0.5680\n",
            "Epoch 13/35\n",
            "20/20 [==============================] - 0s 3ms/step - loss: 1.0135 - accuracy: 0.5776 - val_loss: 1.0585 - val_accuracy: 0.5520\n",
            "Epoch 14/35\n",
            "20/20 [==============================] - 0s 5ms/step - loss: 1.0079 - accuracy: 0.5832 - val_loss: 1.0508 - val_accuracy: 0.5680\n",
            "Epoch 15/35\n",
            "20/20 [==============================] - 0s 3ms/step - loss: 1.0008 - accuracy: 0.5880 - val_loss: 1.0623 - val_accuracy: 0.5680\n",
            "Epoch 16/35\n",
            " 1/20 [>.............................] - ETA: 0s - loss: 1.0162 - accuracy: 0.5938Restoring model weights from the end of the best epoch.\n",
            "20/20 [==============================] - 0s 4ms/step - loss: 0.9995 - accuracy: 0.5736 - val_loss: 1.0584 - val_accuracy: 0.5560\n",
            "Epoch 00016: early stopping\n"
          ],
          "name": "stdout"
        },
        {
          "output_type": "display_data",
          "data": {
            "image/png": "[encoded data removed]",
            "text/plain": [
              "<Figure size 432x288 with 1 Axes>"
            ]
          },
          "metadata": {
            "tags": []
          }
        }
      ]
    },
    {
      "cell_type": "code",
      "metadata": {
        "colab_type": "code",
        "id": "AIjHhSofSUWl",
        "colab": {
          "base_uri": "https://localhost:8080/",
          "height": 289
        },
        "outputId": "67b2e12a-ef86-45dd-8ac4-c61bb8c2e7bd"
      },
      "source": [
        "# Encoder model with no projection\n",
        "projection = Model(resnet_simclr.input, resnet_simclr.layers[-6].output)\n",
        "print(projection.summary())\n",
        "\n",
        "# Extract train and test features\n",
        "train_features = projection.predict(X_train)\n",
        "test_features = projection.predict(X_test)\n",
        "\n",
        "print(train_features.shape, test_features.shape)"
      ],
      "execution_count": null,
      "outputs": [
        {
          "output_type": "stream",
          "text": [
            "Model: \"functional_7\"\n",
            "_________________________________________________________________\n",
            "Layer (type)                 Output Shape              Param #   \n",
            "=================================================================\n",
            "input_2 (InputLayer)         [(None, 224, 224, 3)]     0         \n",
            "_________________________________________________________________\n",
            "resnet50 (Functional)        (None, 7, 7, 2048)        23587712  \n",
            "_________________________________________________________________\n",
            "global_average_pooling2d (Gl (None, 2048)              0         \n",
            "=================================================================\n",
            "Total params: 23,587,712\n",
            "Trainable params: 0\n",
            "Non-trainable params: 23,587,712\n",
            "_________________________________________________________________\n",
            "None\n",
            "(1250, 2048) (250, 2048)\n"
          ],
          "name": "stdout"
        }
      ]
    },
    {
      "cell_type": "code",
      "metadata": {
        "colab_type": "code",
        "id": "iDFeqRqVSqzs",
        "colab": {
          "base_uri": "https://localhost:8080/",
          "height": 507
        },
        "outputId": "3b401d65-9322-4cf5-a853-f08d678f936a"
      },
      "source": [
        "linear_model = get_linear_model(2048)\n",
        "linear_model.compile(loss=\"sparse_categorical_crossentropy\", metrics=[\"accuracy\"],\n",
        "                     optimizer=\"adam\")\n",
        "history = linear_model.fit(train_features, y_train_enc,\n",
        "                 validation_data=(test_features, y_test_enc),\n",
        "                 batch_size=64,\n",
        "                 epochs=35,\n",
        "                 callbacks=[es])\n",
        "plot_training(history)"
      ],
      "execution_count": null,
      "outputs": [
        {
          "output_type": "stream",
          "text": [
            "Epoch 1/35\n",
            "20/20 [==============================] - 0s 9ms/step - loss: 1.6149 - accuracy: 0.4104 - val_loss: 1.0721 - val_accuracy: 0.5920\n",
            "Epoch 2/35\n",
            "20/20 [==============================] - 0s 4ms/step - loss: 1.1253 - accuracy: 0.5504 - val_loss: 1.1581 - val_accuracy: 0.5440\n",
            "Epoch 3/35\n",
            "20/20 [==============================] - 0s 4ms/step - loss: 1.0561 - accuracy: 0.5544 - val_loss: 1.0112 - val_accuracy: 0.6040\n",
            "Epoch 4/35\n",
            "20/20 [==============================] - 0s 4ms/step - loss: 1.0136 - accuracy: 0.5808 - val_loss: 1.0193 - val_accuracy: 0.5640\n",
            "Epoch 5/35\n",
            "20/20 [==============================] - ETA: 0s - loss: 0.9950 - accuracy: 0.5936Restoring model weights from the end of the best epoch.\n",
            "20/20 [==============================] - 0s 4ms/step - loss: 0.9950 - accuracy: 0.5936 - val_loss: 1.0229 - val_accuracy: 0.5720\n",
            "Epoch 00005: early stopping\n"
          ],
          "name": "stdout"
        },
        {
          "output_type": "display_data",
          "data": {
            "image/png": "[encoded data removed]",
            "text/plain": [
              "<Figure size 432x288 with 1 Axes>"
            ]
          },
          "metadata": {
            "tags": []
          }
        }
      ]
    }
  ]
}