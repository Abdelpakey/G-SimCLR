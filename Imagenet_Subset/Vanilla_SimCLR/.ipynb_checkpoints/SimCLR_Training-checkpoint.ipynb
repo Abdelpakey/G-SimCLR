{
 "cells": [
  {
   "cell_type": "markdown",
   "metadata": {
    "id": "LMp5lKNjgBXq",
    "papermill": {
     "duration": 0.008604,
     "end_time": "2020-08-20T13:18:25.306773",
     "exception": false,
     "start_time": "2020-08-20T13:18:25.298169",
     "status": "completed"
    },
    "tags": []
   },
   "source": [
    "## Initial setup"
   ]
  },
  {
   "cell_type": "code",
   "execution_count": 1,
   "metadata": {
    "execution": {
     "iopub.execute_input": "2020-08-20T13:18:25.327168Z",
     "iopub.status.busy": "2020-08-20T13:18:25.326398Z",
     "iopub.status.idle": "2020-08-20T13:18:30.784395Z",
     "shell.execute_reply": "2020-08-20T13:18:30.785180Z"
    },
    "id": "lIYdn1woOS1n",
    "papermill": {
     "duration": 5.470812,
     "end_time": "2020-08-20T13:18:30.785440",
     "exception": false,
     "start_time": "2020-08-20T13:18:25.314628",
     "status": "completed"
    },
    "tags": []
   },
   "outputs": [
    {
     "name": "stdout",
     "output_type": "stream",
     "text": [
      "2.3.0\n"
     ]
    }
   ],
   "source": [
    "import tensorflow as tf\n",
    "print(tf.__version__)"
   ]
  },
  {
   "cell_type": "code",
   "execution_count": 2,
   "metadata": {
    "execution": {
     "iopub.execute_input": "2020-08-20T13:18:30.808206Z",
     "iopub.status.busy": "2020-08-20T13:18:30.807375Z",
     "iopub.status.idle": "2020-08-20T13:18:32.075905Z",
     "shell.execute_reply": "2020-08-20T13:18:32.074835Z"
    },
    "id": "dZowsDvOYK37",
    "papermill": {
     "duration": 1.280956,
     "end_time": "2020-08-20T13:18:32.076056",
     "exception": false,
     "start_time": "2020-08-20T13:18:30.795100",
     "status": "completed"
    },
    "tags": []
   },
   "outputs": [
    {
     "name": "stdout",
     "output_type": "stream",
     "text": [
      "Thu Aug 20 13:18:31 2020       \r\n",
      "+-----------------------------------------------------------------------------+\r\n",
      "| NVIDIA-SMI 418.67       Driver Version: 418.67       CUDA Version: 10.1     |\r\n",
      "|-------------------------------+----------------------+----------------------+\r\n",
      "| GPU  Name        Persistence-M| Bus-Id        Disp.A | Volatile Uncorr. ECC |\r\n",
      "| Fan  Temp  Perf  Pwr:Usage/Cap|         Memory-Usage | GPU-Util  Compute M. |\r\n",
      "|===============================+======================+======================|\r\n",
      "|   0  Tesla P100-PCIE...  Off  | 00000000:00:04.0 Off |                    0 |\r\n",
      "| N/A   41C    P0    28W / 250W |      0MiB / 16280MiB |      0%      Default |\r\n",
      "+-------------------------------+----------------------+----------------------+\r\n",
      "                                                                               \r\n",
      "+-----------------------------------------------------------------------------+\r\n",
      "| Processes:                                                       GPU Memory |\r\n",
      "|  GPU       PID   Type   Process name                             Usage      |\r\n",
      "|=============================================================================|\r\n",
      "|  No running processes found                                                 |\r\n",
      "+-----------------------------------------------------------------------------+\r\n"
     ]
    }
   ],
   "source": [
    "!nvidia-smi"
   ]
  },
  {
   "cell_type": "code",
   "execution_count": 6,
   "metadata": {
    "execution": {
     "iopub.execute_input": "2020-08-20T13:18:59.673116Z",
     "iopub.status.busy": "2020-08-20T13:18:59.672167Z",
     "iopub.status.idle": "2020-08-20T13:18:59.945386Z",
     "shell.execute_reply": "2020-08-20T13:18:59.944236Z"
    },
    "id": "421MrJNMYQD7",
    "papermill": {
     "duration": 0.293145,
     "end_time": "2020-08-20T13:18:59.945518",
     "exception": false,
     "start_time": "2020-08-20T13:18:59.652373",
     "status": "completed"
    },
    "tags": []
   },
   "outputs": [],
   "source": [
    "# Other imports\n",
    "from tensorflow.keras.layers import *\n",
    "from tensorflow.keras.models import *\n",
    "import matplotlib.pyplot as plt\n",
    "from imutils import paths\n",
    "from tqdm import tqdm\n",
    "import tensorflow as tf\n",
    "import numpy as np\n",
    "import cv2\n",
    "\n",
    "# Random seed fixation\n",
    "tf.random.set_seed(666)\n",
    "np.random.seed(666)"
   ]
  },
  {
   "cell_type": "markdown",
   "metadata": {
    "id": "UUFlGxuJgBX9",
    "papermill": {
     "duration": 0.013659,
     "end_time": "2020-08-20T13:18:59.973345",
     "exception": false,
     "start_time": "2020-08-20T13:18:59.959686",
     "status": "completed"
    },
    "tags": []
   },
   "source": [
    "## Dataset gathering and preparation"
   ]
  },
  {
   "cell_type": "code",
   "execution_count": 7,
   "metadata": {
    "execution": {
     "iopub.execute_input": "2020-08-20T13:19:00.009639Z",
     "iopub.status.busy": "2020-08-20T13:19:00.004495Z",
     "iopub.status.idle": "2020-08-20T13:19:05.414305Z",
     "shell.execute_reply": "2020-08-20T13:19:05.413703Z"
    },
    "id": "cq8xwssDYNTq",
    "papermill": {
     "duration": 5.428294,
     "end_time": "2020-08-20T13:19:05.414433",
     "exception": false,
     "start_time": "2020-08-20T13:18:59.986139",
     "status": "completed"
    },
    "tags": []
   },
   "outputs": [
    {
     "name": "stdout",
     "output_type": "stream",
     "text": [
      "Cloning into 'imagenet-5-categories'...\r\n",
      "remote: Enumerating objects: 1532, done.\u001b[K\r\n",
      "remote: Total 1532 (delta 0), reused 0 (delta 0), pack-reused 1532\u001b[K\r\n",
      "Receiving objects: 100% (1532/1532), 88.56 MiB | 28.74 MiB/s, done.\r\n",
      "Resolving deltas: 100% (1/1), done.\r\n"
     ]
    }
   ],
   "source": [
    "# Gather dataset\n",
    "!git clone https://github.com/thunderInfy/imagenet-5-categories"
   ]
  },
  {
   "cell_type": "code",
   "execution_count": 8,
   "metadata": {
    "execution": {
     "iopub.execute_input": "2020-08-20T13:19:05.484226Z",
     "iopub.status.busy": "2020-08-20T13:19:05.483326Z",
     "iopub.status.idle": "2020-08-20T13:19:05.496100Z",
     "shell.execute_reply": "2020-08-20T13:19:05.495412Z"
    },
    "id": "Z0atoQ0MYT4b",
    "papermill": {
     "duration": 0.033408,
     "end_time": "2020-08-20T13:19:05.496220",
     "exception": false,
     "start_time": "2020-08-20T13:19:05.462812",
     "status": "completed"
    },
    "tags": []
   },
   "outputs": [
    {
     "name": "stdout",
     "output_type": "stream",
     "text": [
      "1250\n"
     ]
    }
   ],
   "source": [
    "# How many training images for SimCLR?\n",
    "train_images = list(paths.list_images(\"imagenet-5-categories/train\"))\n",
    "print(len(train_images))"
   ]
  },
  {
   "cell_type": "code",
   "execution_count": 9,
   "metadata": {
    "execution": {
     "iopub.execute_input": "2020-08-20T13:19:05.542042Z",
     "iopub.status.busy": "2020-08-20T13:19:05.536700Z",
     "iopub.status.idle": "2020-08-20T13:19:05.547133Z",
     "shell.execute_reply": "2020-08-20T13:19:05.546187Z"
    },
    "id": "Ad9dX7ONYV9Y",
    "papermill": {
     "duration": 0.034488,
     "end_time": "2020-08-20T13:19:05.547231",
     "exception": false,
     "start_time": "2020-08-20T13:19:05.512743",
     "status": "completed"
    },
    "tags": []
   },
   "outputs": [],
   "source": [
    "# Augmentation utilities (differs from the original implementation)\n",
    "# Referred from: https://arxiv.org/pdf/2002.05709.pdf (Appendxi A \n",
    "# corresponding GitHub: https://github.com/google-research/simclr/)\n",
    "\n",
    "class CustomAugment(object):\n",
    "    def __call__(self, sample):        \n",
    "        # Random flips\n",
    "        sample = self._random_apply(tf.image.flip_left_right, sample, p=0.5)\n",
    "        \n",
    "        # Randomly apply transformation (color distortions) with probability p.\n",
    "        sample = self._random_apply(self._color_jitter, sample, p=0.8)\n",
    "        sample = self._random_apply(self._color_drop, sample, p=0.2)\n",
    "\n",
    "        return sample\n",
    "\n",
    "    def _color_jitter(self, x, s=1):\n",
    "        # one can also shuffle the order of following augmentations\n",
    "        # each time they are applied.\n",
    "        x = tf.image.random_brightness(x, max_delta=0.8*s)\n",
    "        x = tf.image.random_contrast(x, lower=1-0.8*s, upper=1+0.8*s)\n",
    "        x = tf.image.random_saturation(x, lower=1-0.8*s, upper=1+0.8*s)\n",
    "        x = tf.image.random_hue(x, max_delta=0.2*s)\n",
    "        x = tf.clip_by_value(x, 0, 1)\n",
    "        return x\n",
    "    \n",
    "    def _color_drop(self, x):\n",
    "        x = tf.image.rgb_to_grayscale(x)\n",
    "        x = tf.tile(x, [1, 1, 1, 3])\n",
    "        return x\n",
    "    \n",
    "    def _random_apply(self, func, x, p):\n",
    "        return tf.cond(\n",
    "          tf.less(tf.random.uniform([], minval=0, maxval=1, dtype=tf.float32),\n",
    "                  tf.cast(p, tf.float32)),\n",
    "          lambda: func(x),\n",
    "          lambda: x)"
   ]
  },
  {
   "cell_type": "code",
   "execution_count": 10,
   "metadata": {
    "execution": {
     "iopub.execute_input": "2020-08-20T13:19:05.585265Z",
     "iopub.status.busy": "2020-08-20T13:19:05.584647Z",
     "iopub.status.idle": "2020-08-20T13:19:08.361649Z",
     "shell.execute_reply": "2020-08-20T13:19:08.360531Z"
    },
    "id": "XKYH6UxnYa7g",
    "papermill": {
     "duration": 2.797217,
     "end_time": "2020-08-20T13:19:08.361806",
     "exception": false,
     "start_time": "2020-08-20T13:19:05.564589",
     "status": "completed"
    },
    "tags": []
   },
   "outputs": [],
   "source": [
    "# Build the augmentation pipeline\n",
    "data_augmentation = Sequential([Lambda(CustomAugment())])"
   ]
  },
  {
   "cell_type": "code",
   "execution_count": 11,
   "metadata": {
    "execution": {
     "iopub.execute_input": "2020-08-20T13:19:08.405145Z",
     "iopub.status.busy": "2020-08-20T13:19:08.404408Z",
     "iopub.status.idle": "2020-08-20T13:19:08.409114Z",
     "shell.execute_reply": "2020-08-20T13:19:08.408587Z"
    },
    "id": "4eDTVhuHYdwi",
    "papermill": {
     "duration": 0.029705,
     "end_time": "2020-08-20T13:19:08.409218",
     "exception": false,
     "start_time": "2020-08-20T13:19:08.379513",
     "status": "completed"
    },
    "tags": []
   },
   "outputs": [],
   "source": [
    "# Image preprocessing utils\n",
    "@tf.function\n",
    "def parse_images(image_path):\n",
    "    image_string = tf.io.read_file(image_path)\n",
    "    image = tf.image.decode_jpeg(image_string, channels=3)\n",
    "    image = tf.image.convert_image_dtype(image, tf.float32)\n",
    "    image = tf.image.resize(image, size=[224, 224])\n",
    "\n",
    "    return image"
   ]
  },
  {
   "cell_type": "code",
   "execution_count": 12,
   "metadata": {
    "execution": {
     "iopub.execute_input": "2020-08-20T13:19:08.456658Z",
     "iopub.status.busy": "2020-08-20T13:19:08.456012Z",
     "iopub.status.idle": "2020-08-20T13:19:08.640426Z",
     "shell.execute_reply": "2020-08-20T13:19:08.639818Z"
    },
    "id": "otqf-I5FZLqd",
    "papermill": {
     "duration": 0.214596,
     "end_time": "2020-08-20T13:19:08.640599",
     "exception": false,
     "start_time": "2020-08-20T13:19:08.426003",
     "status": "completed"
    },
    "tags": []
   },
   "outputs": [],
   "source": [
    "# Create TensorFlow dataset\n",
    "BATCH_SIZE = 64\n",
    "\n",
    "train_ds = tf.data.Dataset.from_tensor_slices(train_images)\n",
    "train_ds = (\n",
    "    train_ds\n",
    "    .map(parse_images, num_parallel_calls=tf.data.experimental.AUTOTUNE)\n",
    "    .shuffle(1024)\n",
    "    .batch(BATCH_SIZE, drop_remainder=True)\n",
    "    .prefetch(tf.data.experimental.AUTOTUNE)\n",
    ")"
   ]
  },
  {
   "cell_type": "markdown",
   "metadata": {
    "id": "2avjHJzRgBYS",
    "papermill": {
     "duration": 0.01597,
     "end_time": "2020-08-20T13:19:08.673947",
     "exception": false,
     "start_time": "2020-08-20T13:19:08.657977",
     "status": "completed"
    },
    "tags": []
   },
   "source": [
    "## Utilities"
   ]
  },
  {
   "cell_type": "code",
   "execution_count": 13,
   "metadata": {
    "execution": {
     "iopub.execute_input": "2020-08-20T13:19:08.716279Z",
     "iopub.status.busy": "2020-08-20T13:19:08.715561Z",
     "iopub.status.idle": "2020-08-20T13:19:08.719677Z",
     "shell.execute_reply": "2020-08-20T13:19:08.719179Z"
    },
    "id": "F1_Wl0DzZQ5F",
    "papermill": {
     "duration": 0.029417,
     "end_time": "2020-08-20T13:19:08.719768",
     "exception": false,
     "start_time": "2020-08-20T13:19:08.690351",
     "status": "completed"
    },
    "tags": []
   },
   "outputs": [],
   "source": [
    "# Architecture utils\n",
    "def get_resnet_simclr(hidden_1, hidden_2, hidden_3):\n",
    "    base_model = tf.keras.applications.ResNet50(include_top=False, weights=None, input_shape=(224, 224, 3))\n",
    "    base_model.trainabe = True\n",
    "    inputs = Input((224, 224, 3))\n",
    "    h = base_model(inputs, training=True)\n",
    "    h = GlobalAveragePooling2D()(h)\n",
    "\n",
    "    projection_1 = Dense(hidden_1)(h)\n",
    "    projection_1 = Activation(\"relu\")(projection_1)\n",
    "    projection_2 = Dense(hidden_2)(projection_1)\n",
    "    projection_2 = Activation(\"relu\")(projection_2)\n",
    "    projection_3 = Dense(hidden_3)(projection_2)\n",
    "\n",
    "    resnet_simclr = Model(inputs, projection_3)\n",
    "\n",
    "    return resnet_simclr"
   ]
  },
  {
   "cell_type": "code",
   "execution_count": 14,
   "metadata": {
    "execution": {
     "iopub.execute_input": "2020-08-20T13:19:08.758292Z",
     "iopub.status.busy": "2020-08-20T13:19:08.757469Z",
     "iopub.status.idle": "2020-08-20T13:19:10.191801Z",
     "shell.execute_reply": "2020-08-20T13:19:10.190867Z"
    },
    "id": "7-hwmH_LZc7K",
    "papermill": {
     "duration": 1.455783,
     "end_time": "2020-08-20T13:19:10.191978",
     "exception": false,
     "start_time": "2020-08-20T13:19:08.736195",
     "status": "completed"
    },
    "tags": []
   },
   "outputs": [
    {
     "name": "stdout",
     "output_type": "stream",
     "text": [
      "--2020-08-20 13:19:09--  https://raw.githubusercontent.com/sthalles/SimCLR-tensorflow/master/utils/losses.py\r\n",
      "Resolving raw.githubusercontent.com (raw.githubusercontent.com)... 151.101.248.133\r\n",
      "Connecting to raw.githubusercontent.com (raw.githubusercontent.com)|151.101.248.133|:443... connected.\r\n",
      "HTTP request sent, awaiting response... 200 OK\r\n",
      "Length: 891 [text/plain]\r\n",
      "Saving to: ‘losses.py’\r\n",
      "\r\n",
      "losses.py           100%[===================>]     891  --.-KB/s    in 0s      \r\n",
      "\r\n",
      "2020-08-20 13:19:10 (38.0 MB/s) - ‘losses.py’ saved [891/891]\r\n",
      "\r\n"
     ]
    }
   ],
   "source": [
    "!wget https://raw.githubusercontent.com/sthalles/SimCLR-tensorflow/master/utils/losses.py"
   ]
  },
  {
   "cell_type": "code",
   "execution_count": 15,
   "metadata": {
    "execution": {
     "iopub.execute_input": "2020-08-20T13:19:10.238727Z",
     "iopub.status.busy": "2020-08-20T13:19:10.237860Z",
     "iopub.status.idle": "2020-08-20T13:19:10.241259Z",
     "shell.execute_reply": "2020-08-20T13:19:10.241733Z"
    },
    "papermill": {
     "duration": 0.031238,
     "end_time": "2020-08-20T13:19:10.241906",
     "exception": false,
     "start_time": "2020-08-20T13:19:10.210668",
     "status": "completed"
    },
    "tags": []
   },
   "outputs": [],
   "source": [
    "# Reference: https://github.com/sthalles/SimCLR\n",
    "\n",
    "def get_negative_mask(batch_size):\n",
    "    # return a mask that removes the similarity score of equal/similar images.\n",
    "    # this function ensures that only distinct pair of images get their similarity scores\n",
    "    # passed as negative examples\n",
    "    negative_mask = np.ones((batch_size, 2 * batch_size), dtype=bool)\n",
    "    for i in range(batch_size):\n",
    "        negative_mask[i, i] = 0\n",
    "        negative_mask[i, i + batch_size] = 0\n",
    "    return tf.constant(negative_mask)\n",
    "\n",
    "\n",
    "def gaussian_filter(v1, v2):\n",
    "    k_size = int(v1.shape[1] * 0.1)  # kernel size is set to be 10% of the image height/width\n",
    "    gaussian_ope = GaussianBlur(kernel_size=k_size, min=0.1, max=2.0)\n",
    "    [v1, ] = tf.py_function(gaussian_ope, [v1], [tf.float32])\n",
    "    [v2, ] = tf.py_function(gaussian_ope, [v2], [tf.float32])\n",
    "    return v1, v2"
   ]
  },
  {
   "cell_type": "code",
   "execution_count": 16,
   "metadata": {
    "execution": {
     "iopub.execute_input": "2020-08-20T13:19:10.314789Z",
     "iopub.status.busy": "2020-08-20T13:19:10.313394Z",
     "iopub.status.idle": "2020-08-20T13:19:10.318098Z",
     "shell.execute_reply": "2020-08-20T13:19:10.317399Z"
    },
    "id": "2OUhSNfTZgY6",
    "papermill": {
     "duration": 0.025538,
     "end_time": "2020-08-20T13:19:10.318211",
     "exception": false,
     "start_time": "2020-08-20T13:19:10.292673",
     "status": "completed"
    },
    "tags": []
   },
   "outputs": [],
   "source": [
    "from losses import _dot_simililarity_dim1 as sim_func_dim1, _dot_simililarity_dim2 as sim_func_dim2"
   ]
  },
  {
   "cell_type": "code",
   "execution_count": 17,
   "metadata": {
    "execution": {
     "iopub.execute_input": "2020-08-20T13:19:10.356732Z",
     "iopub.status.busy": "2020-08-20T13:19:10.355959Z",
     "iopub.status.idle": "2020-08-20T13:19:10.359024Z",
     "shell.execute_reply": "2020-08-20T13:19:10.358358Z"
    },
    "id": "Y0Ae5dMLZney",
    "papermill": {
     "duration": 0.023835,
     "end_time": "2020-08-20T13:19:10.359115",
     "exception": false,
     "start_time": "2020-08-20T13:19:10.335280",
     "status": "completed"
    },
    "tags": []
   },
   "outputs": [],
   "source": [
    "# Mask to remove positive examples from the batch of negative samples\n",
    "negative_mask = get_negative_mask(BATCH_SIZE)"
   ]
  },
  {
   "cell_type": "code",
   "execution_count": 18,
   "metadata": {
    "execution": {
     "iopub.execute_input": "2020-08-20T13:19:10.408313Z",
     "iopub.status.busy": "2020-08-20T13:19:10.407370Z",
     "iopub.status.idle": "2020-08-20T13:19:10.410688Z",
     "shell.execute_reply": "2020-08-20T13:19:10.410146Z"
    },
    "id": "K6qPdhPrZpFA",
    "papermill": {
     "duration": 0.034391,
     "end_time": "2020-08-20T13:19:10.410793",
     "exception": false,
     "start_time": "2020-08-20T13:19:10.376402",
     "status": "completed"
    },
    "tags": []
   },
   "outputs": [],
   "source": [
    "@tf.function\n",
    "def train_step(xis, xjs, model, optimizer, criterion, temperature):\n",
    "    with tf.GradientTape() as tape:\n",
    "        zis = model(xis)\n",
    "        zjs = model(xjs)\n",
    "\n",
    "        # normalize projection feature vectors\n",
    "        zis = tf.math.l2_normalize(zis, axis=1)\n",
    "        zjs = tf.math.l2_normalize(zjs, axis=1)\n",
    "\n",
    "        l_pos = sim_func_dim1(zis, zjs)\n",
    "        l_pos = tf.reshape(l_pos, (BATCH_SIZE, 1))\n",
    "        l_pos /= temperature\n",
    "\n",
    "        negatives = tf.concat([zjs, zis], axis=0)\n",
    "\n",
    "        loss = 0\n",
    "\n",
    "        for positives in [zis, zjs]:\n",
    "            l_neg = sim_func_dim2(positives, negatives)\n",
    "\n",
    "            labels = tf.zeros(BATCH_SIZE, dtype=tf.int32)\n",
    "\n",
    "            l_neg = tf.boolean_mask(l_neg, negative_mask)\n",
    "            l_neg = tf.reshape(l_neg, (BATCH_SIZE, -1))\n",
    "            l_neg /= temperature\n",
    "\n",
    "            logits = tf.concat([l_pos, l_neg], axis=1) \n",
    "            loss += criterion(y_pred=logits, y_true=labels)\n",
    "\n",
    "        loss = loss / (2 * BATCH_SIZE)\n",
    "\n",
    "    gradients = tape.gradient(loss, model.trainable_variables)\n",
    "    optimizer.apply_gradients(zip(gradients, model.trainable_variables))\n",
    "\n",
    "    return loss"
   ]
  },
  {
   "cell_type": "code",
   "execution_count": 20,
   "metadata": {
    "execution": {
     "iopub.execute_input": "2020-08-20T13:19:10.495386Z",
     "iopub.status.busy": "2020-08-20T13:19:10.494475Z",
     "iopub.status.idle": "2020-08-20T13:19:10.498409Z",
     "shell.execute_reply": "2020-08-20T13:19:10.497847Z"
    },
    "id": "zfp8gT4ZZtif",
    "papermill": {
     "duration": 0.029098,
     "end_time": "2020-08-20T13:19:10.498505",
     "exception": false,
     "start_time": "2020-08-20T13:19:10.469407",
     "status": "completed"
    },
    "tags": []
   },
   "outputs": [],
   "source": [
    "def train_simclr(model, dataset, optimizer, criterion,\n",
    "                 temperature=0.1, epochs=200):\n",
    "    step_wise_loss = []\n",
    "    epoch_wise_loss = []\n",
    "\n",
    "    for epoch in tqdm(range(epochs)):\n",
    "        for image_batch in dataset:\n",
    "            a = data_augmentation(image_batch)\n",
    "            b = data_augmentation(image_batch)\n",
    "\n",
    "            loss = train_step(a, b, model, optimizer, criterion, temperature)\n",
    "            step_wise_loss.append(loss)\n",
    "\n",
    "        epoch_wise_loss.append(np.mean(step_wise_loss))\n",
    "        \n",
    "        if epoch % 10 == 0:\n",
    "            print(\"epoch: {} loss: {:.3f}\".format(epoch + 1, np.mean(step_wise_loss)))\n",
    "\n",
    "    return epoch_wise_loss, model"
   ]
  },
  {
   "cell_type": "markdown",
   "metadata": {
    "id": "atu93xMCgBYj",
    "papermill": {
     "duration": 0.016862,
     "end_time": "2020-08-20T13:19:10.532805",
     "exception": false,
     "start_time": "2020-08-20T13:19:10.515943",
     "status": "completed"
    },
    "tags": []
   },
   "source": [
    "## Training"
   ]
  },
  {
   "cell_type": "code",
   "execution_count": 21,
   "metadata": {
    "execution": {
     "iopub.execute_input": "2020-08-20T13:19:10.580147Z",
     "iopub.status.busy": "2020-08-20T13:19:10.579308Z",
     "iopub.status.idle": "2020-08-20T14:06:21.315839Z",
     "shell.execute_reply": "2020-08-20T14:06:21.316493Z"
    },
    "id": "QKAoeXwJZ5S1",
    "papermill": {
     "duration": 2830.766596,
     "end_time": "2020-08-20T14:06:21.316666",
     "exception": false,
     "start_time": "2020-08-20T13:19:10.550070",
     "status": "completed"
    },
    "tags": []
   },
   "outputs": [
    {
     "name": "stderr",
     "output_type": "stream",
     "text": [
      "  0%|          | 1/200 [00:30<1:39:48, 30.09s/it]"
     ]
    },
    {
     "name": "stdout",
     "output_type": "stream",
     "text": [
      "epoch: 1 loss: 4.981\n"
     ]
    },
    {
     "name": "stderr",
     "output_type": "stream",
     "text": [
      "  6%|▌         | 11/200 [02:52<45:31, 14.45s/it]"
     ]
    },
    {
     "name": "stdout",
     "output_type": "stream",
     "text": [
      "epoch: 11 loss: 4.130\n"
     ]
    },
    {
     "name": "stderr",
     "output_type": "stream",
     "text": [
      " 10%|█         | 21/200 [05:12<41:42, 13.98s/it]"
     ]
    },
    {
     "name": "stdout",
     "output_type": "stream",
     "text": [
      "epoch: 21 loss: 3.667\n"
     ]
    },
    {
     "name": "stderr",
     "output_type": "stream",
     "text": [
      " 16%|█▌        | 31/200 [07:35<40:13, 14.28s/it]"
     ]
    },
    {
     "name": "stdout",
     "output_type": "stream",
     "text": [
      "epoch: 31 loss: 3.312\n"
     ]
    },
    {
     "name": "stderr",
     "output_type": "stream",
     "text": [
      " 20%|██        | 41/200 [09:55<37:11, 14.04s/it]"
     ]
    },
    {
     "name": "stdout",
     "output_type": "stream",
     "text": [
      "epoch: 41 loss: 2.977\n"
     ]
    },
    {
     "name": "stderr",
     "output_type": "stream",
     "text": [
      " 26%|██▌       | 51/200 [12:16<34:41, 13.97s/it]"
     ]
    },
    {
     "name": "stdout",
     "output_type": "stream",
     "text": [
      "epoch: 51 loss: 2.714\n"
     ]
    },
    {
     "name": "stderr",
     "output_type": "stream",
     "text": [
      " 30%|███       | 61/200 [14:35<32:16, 13.93s/it]"
     ]
    },
    {
     "name": "stdout",
     "output_type": "stream",
     "text": [
      "epoch: 61 loss: 2.574\n"
     ]
    },
    {
     "name": "stderr",
     "output_type": "stream",
     "text": [
      " 36%|███▌      | 71/200 [16:56<30:10, 14.04s/it]"
     ]
    },
    {
     "name": "stdout",
     "output_type": "stream",
     "text": [
      "epoch: 71 loss: 2.425\n"
     ]
    },
    {
     "name": "stderr",
     "output_type": "stream",
     "text": [
      " 40%|████      | 81/200 [19:17<28:24, 14.32s/it]"
     ]
    },
    {
     "name": "stdout",
     "output_type": "stream",
     "text": [
      "epoch: 81 loss: 2.341\n"
     ]
    },
    {
     "name": "stderr",
     "output_type": "stream",
     "text": [
      " 46%|████▌     | 91/200 [21:37<25:33, 14.07s/it]"
     ]
    },
    {
     "name": "stdout",
     "output_type": "stream",
     "text": [
      "epoch: 91 loss: 2.273\n"
     ]
    },
    {
     "name": "stderr",
     "output_type": "stream",
     "text": [
      " 50%|█████     | 101/200 [23:58<23:05, 14.00s/it]"
     ]
    },
    {
     "name": "stdout",
     "output_type": "stream",
     "text": [
      "epoch: 101 loss: 2.203\n"
     ]
    },
    {
     "name": "stderr",
     "output_type": "stream",
     "text": [
      " 56%|█████▌    | 111/200 [26:18<20:55, 14.10s/it]"
     ]
    },
    {
     "name": "stdout",
     "output_type": "stream",
     "text": [
      "epoch: 111 loss: 2.154\n"
     ]
    },
    {
     "name": "stderr",
     "output_type": "stream",
     "text": [
      " 60%|██████    | 121/200 [28:38<18:26, 14.01s/it]"
     ]
    },
    {
     "name": "stdout",
     "output_type": "stream",
     "text": [
      "epoch: 121 loss: 2.105\n"
     ]
    },
    {
     "name": "stderr",
     "output_type": "stream",
     "text": [
      " 66%|██████▌   | 131/200 [30:57<16:01, 13.93s/it]"
     ]
    },
    {
     "name": "stdout",
     "output_type": "stream",
     "text": [
      "epoch: 131 loss: 2.065\n"
     ]
    },
    {
     "name": "stderr",
     "output_type": "stream",
     "text": [
      " 70%|███████   | 141/200 [33:19<13:58, 14.21s/it]"
     ]
    },
    {
     "name": "stdout",
     "output_type": "stream",
     "text": [
      "epoch: 141 loss: 2.030\n"
     ]
    },
    {
     "name": "stderr",
     "output_type": "stream",
     "text": [
      " 76%|███████▌  | 151/200 [35:40<11:32, 14.13s/it]"
     ]
    },
    {
     "name": "stdout",
     "output_type": "stream",
     "text": [
      "epoch: 151 loss: 1.999\n"
     ]
    },
    {
     "name": "stderr",
     "output_type": "stream",
     "text": [
      " 80%|████████  | 161/200 [38:00<09:05, 13.99s/it]"
     ]
    },
    {
     "name": "stdout",
     "output_type": "stream",
     "text": [
      "epoch: 161 loss: 1.977\n"
     ]
    },
    {
     "name": "stderr",
     "output_type": "stream",
     "text": [
      " 86%|████████▌ | 171/200 [40:21<06:46, 14.02s/it]"
     ]
    },
    {
     "name": "stdout",
     "output_type": "stream",
     "text": [
      "epoch: 171 loss: 1.963\n"
     ]
    },
    {
     "name": "stderr",
     "output_type": "stream",
     "text": [
      " 90%|█████████ | 181/200 [42:41<04:25, 13.96s/it]"
     ]
    },
    {
     "name": "stdout",
     "output_type": "stream",
     "text": [
      "epoch: 181 loss: 1.953\n"
     ]
    },
    {
     "name": "stderr",
     "output_type": "stream",
     "text": [
      " 96%|█████████▌| 191/200 [45:01<02:06, 14.00s/it]"
     ]
    },
    {
     "name": "stdout",
     "output_type": "stream",
     "text": [
      "epoch: 191 loss: 1.941\n"
     ]
    },
    {
     "name": "stderr",
     "output_type": "stream",
     "text": [
      "100%|██████████| 200/200 [47:08<00:00, 14.14s/it]\n"
     ]
    },
    {
     "data": {
      "image/png": "[encoded data removed]",
      "text/plain": [
       "<Figure size 432x288 with 1 Axes>"
      ]
     },
     "metadata": {},
     "output_type": "display_data"
    }
   ],
   "source": [
    "criterion = tf.keras.losses.SparseCategoricalCrossentropy(from_logits=True, \n",
    "                                                          reduction=tf.keras.losses.Reduction.SUM)\n",
    "decay_steps = 1000\n",
    "\n",
    "lr_decayed_fn = tf.keras.experimental.CosineDecay(\n",
    "    initial_learning_rate=0.1, decay_steps=decay_steps)\n",
    "optimizer = tf.keras.optimizers.SGD(lr_decayed_fn)\n",
    "\n",
    "resnet_simclr_2 = get_resnet_simclr(256, 128, 50)\n",
    "\n",
    "epoch_wise_loss, resnet_simclr  = train_simclr(resnet_simclr_2, train_ds, optimizer, criterion,\n",
    "                 temperature=0.1, epochs=200)\n",
    "\n",
    "with plt.xkcd():\n",
    "    plt.plot(epoch_wise_loss)\n",
    "    plt.title(\"tau = 0.1, h1 = 256, h2 = 128, h3 = 50\")\n",
    "    plt.show()"
   ]
  },
  {
   "cell_type": "markdown",
   "metadata": {
    "id": "HXCy84vvgBYo",
    "papermill": {
     "duration": 0.030405,
     "end_time": "2020-08-20T14:06:21.380793",
     "exception": false,
     "start_time": "2020-08-20T14:06:21.350388",
     "status": "completed"
    },
    "tags": []
   },
   "source": [
    "## Store the weights to a safe place :)"
   ]
  },
  {
   "cell_type": "code",
   "execution_count": 22,
   "metadata": {
    "execution": {
     "iopub.execute_input": "2020-08-20T14:06:21.483583Z",
     "iopub.status.busy": "2020-08-20T14:06:21.478271Z",
     "iopub.status.idle": "2020-08-20T14:06:21.914335Z",
     "shell.execute_reply": "2020-08-20T14:06:21.913656Z"
    },
    "id": "_OyIyB-kkHuN",
    "papermill": {
     "duration": 0.502091,
     "end_time": "2020-08-20T14:06:21.914466",
     "exception": false,
     "start_time": "2020-08-20T14:06:21.412375",
     "status": "completed"
    },
    "tags": []
   },
   "outputs": [],
   "source": [
    "resnet_simclr.save('resnet_simclr1.h5')"
   ]
  }
 ],
 "metadata": {
  "kernelspec": {
   "display_name": "Python 3",
   "language": "python",
   "name": "python3"
  },
  "language_info": {
   "codemirror_mode": {
    "name": "ipython",
    "version": 3
   },
   "file_extension": ".py",
   "mimetype": "text/x-python",
   "name": "python",
   "nbconvert_exporter": "python",
   "pygments_lexer": "ipython3",
   "version": "3.7.1"
  },
  "papermill": {
   "duration": 2882.803834,
   "end_time": "2020-08-20T14:06:23.755869",
   "environment_variables": {},
   "exception": null,
   "input_path": "__notebook__.ipynb",
   "output_path": "__notebook__.ipynb",
   "parameters": {},
   "start_time": "2020-08-20T13:18:20.952035",
   "version": "2.1.0"
  }
 },
 "nbformat": 4,
 "nbformat_minor": 4
}
