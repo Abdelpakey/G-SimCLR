{
 "cells": [
  {
   "cell_type": "markdown",
   "metadata": {
    "id": "7ck3ljcss8R2"
   },
   "source": [
    "## Initial setup"
   ]
  },
  {
   "cell_type": "code",
   "execution_count": 1,
   "metadata": {
    "id": "lIYdn1woOS1n",
    "outputId": "8a596fb5-140c-4bef-9e65-dc710df5998a"
   },
   "outputs": [
    {
     "name": "stdout",
     "output_type": "stream",
     "text": [
      "2.3.0\n"
     ]
    }
   ],
   "source": [
    "import tensorflow as tf\n",
    "print(tf.__version__)"
   ]
  },
  {
   "cell_type": "code",
   "execution_count": 2,
   "metadata": {
    "id": "M3obU9ZXpGR0",
    "outputId": "35c542a7-60de-46a4-d71f-0f3f720de44b"
   },
   "outputs": [
    {
     "name": "stdout",
     "output_type": "stream",
     "text": [
      "Thu Aug 20 15:32:27 2020       \r\n",
      "+-----------------------------------------------------------------------------+\r\n",
      "| NVIDIA-SMI 418.67       Driver Version: 418.67       CUDA Version: 10.1     |\r\n",
      "|-------------------------------+----------------------+----------------------+\r\n",
      "| GPU  Name        Persistence-M| Bus-Id        Disp.A | Volatile Uncorr. ECC |\r\n",
      "| Fan  Temp  Perf  Pwr:Usage/Cap|         Memory-Usage | GPU-Util  Compute M. |\r\n",
      "|===============================+======================+======================|\r\n",
      "|   0  Tesla P100-PCIE...  Off  | 00000000:00:04.0 Off |                    0 |\r\n",
      "| N/A   37C    P0    28W / 250W |      0MiB / 16280MiB |      0%      Default |\r\n",
      "+-------------------------------+----------------------+----------------------+\r\n",
      "                                                                               \r\n",
      "+-----------------------------------------------------------------------------+\r\n",
      "| Processes:                                                       GPU Memory |\r\n",
      "|  GPU       PID   Type   Process name                             Usage      |\r\n",
      "|=============================================================================|\r\n",
      "|  No running processes found                                                 |\r\n",
      "+-----------------------------------------------------------------------------+\r\n"
     ]
    }
   ],
   "source": [
    "!nvidia-smi"
   ]
  },
  {
   "cell_type": "code",
   "execution_count": 5,
   "metadata": {
    "id": "dCsK6zBRpmdo",
    "outputId": "3ed39658-cbb8-42c0-8ce0-2a8b81b75033"
   },
   "outputs": [],
   "source": [
    "# Other imports\n",
    "from sklearn.preprocessing import LabelEncoder\n",
    "from tensorflow.keras.layers import *\n",
    "from tensorflow.keras.models import *\n",
    "import matplotlib.pyplot as plt\n",
    "from imutils import paths\n",
    "from tqdm import tqdm\n",
    "import tensorflow as tf\n",
    "import seaborn as sns\n",
    "import numpy as np\n",
    "import cv2\n",
    "\n",
    "# Random seed fixation\n",
    "tf.random.set_seed(666)\n",
    "np.random.seed(666)"
   ]
  },
  {
   "cell_type": "markdown",
   "metadata": {
    "id": "hhE3wbuUtJC3"
   },
   "source": [
    "### Restoring model weights from GCS Bucket"
   ]
  },
  {
   "cell_type": "code",
   "execution_count": 3,
   "metadata": {
    "id": "JoQSrT6gpbNM",
    "outputId": "5bd937f3-7deb-4b76-aaf6-32cffc2c3ec3",
    "scrolled": true
   },
   "outputs": [],
   "source": [
    "!wget https://storage.googleapis.com/resnet-simclr-pseudo-labels/vanilla_resnet_simclr.h5"
   ]
  },
  {
   "cell_type": "markdown",
   "metadata": {
    "id": "yP3vs53rs8SM"
   },
   "source": [
    "## Dataset gathering and preparation"
   ]
  },
  {
   "cell_type": "code",
   "execution_count": 6,
   "metadata": {
    "id": "HJQZoWXYpjeN",
    "outputId": "06c80d4a-0e80-49d0-bcbc-a9e9bc9502af"
   },
   "outputs": [
    {
     "name": "stdout",
     "output_type": "stream",
     "text": [
      "Cloning into 'imagenet-5-categories'...\n",
      "remote: Enumerating objects: 1532, done.\u001b[K\n",
      "remote: Total 1532 (delta 0), reused 0 (delta 0), pack-reused 1532\u001b[K\n",
      "Receiving objects: 100% (1532/1532), 88.56 MiB | 35.58 MiB/s, done.\n",
      "Resolving deltas: 100% (1/1), done.\n"
     ]
    }
   ],
   "source": [
    "# Gather dataset\n",
    "!git clone https://github.com/thunderInfy/imagenet-5-categories"
   ]
  },
  {
   "cell_type": "code",
   "execution_count": 7,
   "metadata": {
    "id": "2PRnOXCdppEg",
    "outputId": "37255c9a-08d6-4450-9f2d-65f4df9dbf93"
   },
   "outputs": [
    {
     "name": "stdout",
     "output_type": "stream",
     "text": [
      "1250 250\n"
     ]
    }
   ],
   "source": [
    "# Train and test image paths\n",
    "train_images = list(paths.list_images(\"imagenet-5-categories/train\"))\n",
    "test_images = list(paths.list_images(\"imagenet-5-categories/test\"))\n",
    "print(len(train_images), len(test_images))"
   ]
  },
  {
   "cell_type": "code",
   "execution_count": 8,
   "metadata": {
    "id": "J1bCPej7O7gq",
    "outputId": "d5c858cb-aef7-49f1-8164-c830435d8f08"
   },
   "outputs": [
    {
     "data": {
      "text/plain": [
       "125"
      ]
     },
     "execution_count": 8,
     "metadata": {},
     "output_type": "execute_result"
    }
   ],
   "source": [
    "# 10% of the dataset\n",
    "train_images_10 = np.random.choice(train_images, len(train_images)//10)\n",
    "len(train_images_10)"
   ]
  },
  {
   "cell_type": "code",
   "execution_count": 9,
   "metadata": {
    "id": "9giRP85TqizW"
   },
   "outputs": [],
   "source": [
    "def prepare_images(image_paths):\n",
    "    images = []\n",
    "    labels = []\n",
    "\n",
    "    for image in tqdm(image_paths):\n",
    "        image_pixels = plt.imread(image)\n",
    "        image_pixels = cv2.resize(image_pixels, (224, 224))\n",
    "        image_pixels = image_pixels/255.\n",
    "\n",
    "        label = image.split(\"/\")[2].split(\"_\")[0]\n",
    "\n",
    "        images.append(image_pixels)\n",
    "        labels.append(label)\n",
    "\n",
    "    images = np.array(images)\n",
    "    labels = np.array(labels)\n",
    "\n",
    "    print(images.shape, labels.shape)\n",
    "\n",
    "    return images, labels"
   ]
  },
  {
   "cell_type": "code",
   "execution_count": 10,
   "metadata": {
    "id": "YJL8IW6UsHkt",
    "outputId": "bd6a9d01-31a3-4364-8110-0499da93ac38"
   },
   "outputs": [
    {
     "name": "stderr",
     "output_type": "stream",
     "text": [
      "100%|██████████| 125/125 [00:00<00:00, 218.32it/s]\n",
      " 10%|█         | 26/250 [00:00<00:00, 259.50it/s]"
     ]
    },
    {
     "name": "stdout",
     "output_type": "stream",
     "text": [
      "(125, 224, 224, 3) (125,)\n"
     ]
    },
    {
     "name": "stderr",
     "output_type": "stream",
     "text": [
      "100%|██████████| 250/250 [00:01<00:00, 226.30it/s]\n"
     ]
    },
    {
     "name": "stdout",
     "output_type": "stream",
     "text": [
      "(250, 224, 224, 3) (250,)\n"
     ]
    }
   ],
   "source": [
    "X_train, y_train = prepare_images(train_images_10)\n",
    "X_test, y_test = prepare_images(test_images)"
   ]
  },
  {
   "cell_type": "code",
   "execution_count": 11,
   "metadata": {
    "id": "YAv47WlJvse5"
   },
   "outputs": [],
   "source": [
    "le = LabelEncoder()\n",
    "y_train_enc = le.fit_transform(y_train)\n",
    "y_test_enc = le.transform(y_test)"
   ]
  },
  {
   "cell_type": "markdown",
   "metadata": {
    "id": "vdM74W7Ws8Sl"
   },
   "source": [
    "## Utilities"
   ]
  },
  {
   "cell_type": "code",
   "execution_count": 12,
   "metadata": {
    "id": "G8ha8pK7sSUO"
   },
   "outputs": [],
   "source": [
    "# Architecture utils\n",
    "def get_resnet_simclr(hidden_1, hidden_2, hidden_3):\n",
    "    base_model = tf.keras.applications.ResNet50(include_top=False, weights=None, input_shape=(224, 224, 3))\n",
    "    base_model.trainable = True\n",
    "    inputs = Input((224, 224, 3))\n",
    "    h = base_model(inputs, training=False)\n",
    "    h = GlobalAveragePooling2D()(h)\n",
    "\n",
    "    projection_1 = Dense(hidden_1)(h)\n",
    "    projection_1 = Activation(\"relu\")(projection_1)\n",
    "    projection_2 = Dense(hidden_2)(projection_1)\n",
    "    projection_2 = Activation(\"relu\")(projection_2)\n",
    "    projection_3 = Dense(hidden_3)(projection_2)\n",
    "\n",
    "    resnet_simclr = Model(inputs, projection_3)\n",
    "\n",
    "    return resnet_simclr"
   ]
  },
  {
   "cell_type": "code",
   "execution_count": 13,
   "metadata": {
    "id": "X0GklYB-sZYz",
    "outputId": "3ffa954c-d931-421b-8798-8249cb74898d"
   },
   "outputs": [
    {
     "name": "stdout",
     "output_type": "stream",
     "text": [
      "Model: \"functional_1\"\n",
      "_________________________________________________________________\n",
      "Layer (type)                 Output Shape              Param #   \n",
      "=================================================================\n",
      "input_2 (InputLayer)         [(None, 224, 224, 3)]     0         \n",
      "_________________________________________________________________\n",
      "resnet50 (Functional)        (None, 7, 7, 2048)        23587712  \n",
      "_________________________________________________________________\n",
      "global_average_pooling2d (Gl (None, 2048)              0         \n",
      "_________________________________________________________________\n",
      "dense (Dense)                (None, 256)               524544    \n",
      "_________________________________________________________________\n",
      "activation (Activation)      (None, 256)               0         \n",
      "_________________________________________________________________\n",
      "dense_1 (Dense)              (None, 128)               32896     \n",
      "_________________________________________________________________\n",
      "activation_1 (Activation)    (None, 128)               0         \n",
      "_________________________________________________________________\n",
      "dense_2 (Dense)              (None, 50)                6450      \n",
      "=================================================================\n",
      "Total params: 24,151,602\n",
      "Trainable params: 24,098,482\n",
      "Non-trainable params: 53,120\n",
      "_________________________________________________________________\n"
     ]
    }
   ],
   "source": [
    "resnet_simclr = tf.keras.models.load_model('vanilla_resnet_simclr.h5')\n",
    "resnet_simclr.summary()"
   ]
  },
  {
   "cell_type": "code",
   "execution_count": 14,
   "metadata": {
    "id": "Z1tFKw-7ziaG"
   },
   "outputs": [],
   "source": [
    "def plot_training(H):\n",
    "\twith plt.xkcd():\n",
    "\t\tplt.plot(H.history[\"loss\"], label=\"train_loss\")\n",
    "\t\tplt.plot(H.history[\"val_loss\"], label=\"val_loss\")\n",
    "\t\tplt.plot(H.history[\"accuracy\"], label=\"train_acc\")\n",
    "\t\tplt.plot(H.history[\"val_accuracy\"], label=\"val_acc\")\n",
    "\t\tplt.title(\"Training Loss and Accuracy\")\n",
    "\t\tplt.xlabel(\"Epoch #\")\n",
    "\t\tplt.ylabel(\"Loss/Accuracy\")\n",
    "\t\tplt.legend(loc=\"lower left\")\n",
    "\t\tplt.show()"
   ]
  },
  {
   "cell_type": "code",
   "execution_count": 15,
   "metadata": {
    "id": "wABibX9QNj3m"
   },
   "outputs": [],
   "source": [
    "# Encoder model with no projection\n",
    "extractor = Model(resnet_simclr.input, resnet_simclr.layers[-6].output) # weights are already loaded\n",
    "\n",
    "def get_training_model(trainable=False):\n",
    "    inputs = Input(shape=(224, 224, 3))\n",
    "    extractor.trainable = trainable\n",
    "    x = extractor(inputs, training=False)\n",
    "    x = Dense(5, activation=\"softmax\")(x)\n",
    "    classifier = Model(inputs=inputs, outputs=x)\n",
    "    \n",
    "    return classifier"
   ]
  },
  {
   "cell_type": "code",
   "execution_count": 16,
   "metadata": {
    "id": "vJGeNjgPPFSx",
    "outputId": "a0778ad3-3f79-4e39-c3f0-c2e4006a6e18"
   },
   "outputs": [
    {
     "name": "stdout",
     "output_type": "stream",
     "text": [
      "Model: \"functional_3\"\n",
      "_________________________________________________________________\n",
      "Layer (type)                 Output Shape              Param #   \n",
      "=================================================================\n",
      "input_1 (InputLayer)         [(None, 224, 224, 3)]     0         \n",
      "_________________________________________________________________\n",
      "functional_1 (Functional)    (None, 2048)              23587712  \n",
      "_________________________________________________________________\n",
      "dense (Dense)                (None, 5)                 10245     \n",
      "=================================================================\n",
      "Total params: 23,597,957\n",
      "Trainable params: 10,245\n",
      "Non-trainable params: 23,587,712\n",
      "_________________________________________________________________\n"
     ]
    }
   ],
   "source": [
    "model = get_training_model()\n",
    "model.summary()"
   ]
  },
  {
   "cell_type": "markdown",
   "metadata": {
    "id": "_s0nfTYos8Sy"
   },
   "source": [
    "## Warmup"
   ]
  },
  {
   "cell_type": "code",
   "execution_count": 17,
   "metadata": {
    "id": "xW5d2wFwN_pd"
   },
   "outputs": [],
   "source": [
    "# Early Stopping to prevent overfitting\n",
    "es = tf.keras.callbacks.EarlyStopping(monitor=\"val_loss\", patience=2, verbose=2, restore_best_weights=True)"
   ]
  },
  {
   "cell_type": "code",
   "execution_count": 18,
   "metadata": {
    "id": "qnNJ5BKPsj4u",
    "outputId": "d7465663-14a4-4b46-ee35-489d94909be8"
   },
   "outputs": [
    {
     "name": "stdout",
     "output_type": "stream",
     "text": [
      "Epoch 1/35\n",
      "2/2 [==============================] - 3s 1s/step - loss: 2.4582 - accuracy: 0.1760 - val_loss: 2.4109 - val_accuracy: 0.2080\n",
      "Epoch 2/35\n",
      "2/2 [==============================] - 1s 363ms/step - loss: 2.2209 - accuracy: 0.2400 - val_loss: 1.5483 - val_accuracy: 0.2880\n",
      "Epoch 3/35\n",
      "2/2 [==============================] - 1s 283ms/step - loss: 1.5955 - accuracy: 0.3280 - val_loss: 1.7675 - val_accuracy: 0.2760\n",
      "Epoch 4/35\n",
      "2/2 [==============================] - 1s 350ms/step - loss: 1.6548 - accuracy: 0.3520 - val_loss: 1.4657 - val_accuracy: 0.4120\n",
      "Epoch 5/35\n",
      "2/2 [==============================] - 1s 344ms/step - loss: 1.4320 - accuracy: 0.4160 - val_loss: 1.4315 - val_accuracy: 0.4600\n",
      "Epoch 6/35\n",
      "2/2 [==============================] - 1s 290ms/step - loss: 1.3169 - accuracy: 0.4560 - val_loss: 1.4464 - val_accuracy: 0.4080\n",
      "Epoch 7/35\n",
      "2/2 [==============================] - 1s 350ms/step - loss: 1.2756 - accuracy: 0.4480 - val_loss: 1.3647 - val_accuracy: 0.4480\n",
      "Epoch 8/35\n",
      "2/2 [==============================] - 1s 290ms/step - loss: 1.1916 - accuracy: 0.5360 - val_loss: 1.4010 - val_accuracy: 0.4120\n",
      "Epoch 9/35\n",
      "2/2 [==============================] - ETA: 0s - loss: 1.1781 - accuracy: 0.5360Restoring model weights from the end of the best epoch.\n",
      "2/2 [==============================] - 1s 352ms/step - loss: 1.1781 - accuracy: 0.5360 - val_loss: 1.4234 - val_accuracy: 0.4200\n",
      "Epoch 00009: early stopping\n"
     ]
    },
    {
     "data": {
      "image/png": "[encoded data removed]",
      "text/plain": [
       "<Figure size 432x288 with 1 Axes>"
      ]
     },
     "metadata": {},
     "output_type": "display_data"
    }
   ],
   "source": [
    "model = get_training_model()\n",
    "\n",
    "model.compile(loss=\"sparse_categorical_crossentropy\", metrics=[\"accuracy\"],\n",
    "                     optimizer='adam')\n",
    "\n",
    "history = model.fit(X_train, y_train_enc,\n",
    "                 validation_data=(X_test, y_test_enc),\n",
    "                 batch_size=64,\n",
    "                 epochs=35,\n",
    "                 callbacks=[es])\n",
    "plot_training(history)"
   ]
  },
  {
   "cell_type": "markdown",
   "metadata": {
    "id": "lxijydbDOuW4"
   },
   "source": [
    "## Fine-tune"
   ]
  },
  {
   "cell_type": "code",
   "execution_count": 19,
   "metadata": {
    "id": "cfR4lAk_J5c7",
    "outputId": "69b49b63-4532-4768-ad1a-798f56f690d5"
   },
   "outputs": [
    {
     "name": "stdout",
     "output_type": "stream",
     "text": [
      "Model: \"functional_5\"\n",
      "_________________________________________________________________\n",
      "Layer (type)                 Output Shape              Param #   \n",
      "=================================================================\n",
      "input_2 (InputLayer)         [(None, 224, 224, 3)]     0         \n",
      "_________________________________________________________________\n",
      "functional_1 (Functional)    (None, 2048)              23587712  \n",
      "_________________________________________________________________\n",
      "dense_1 (Dense)              (None, 5)                 10245     \n",
      "=================================================================\n",
      "Total params: 23,597,957\n",
      "Trainable params: 23,544,837\n",
      "Non-trainable params: 53,120\n",
      "_________________________________________________________________\n"
     ]
    }
   ],
   "source": [
    "model.layers[1].trainable = True\n",
    "model.summary()"
   ]
  },
  {
   "cell_type": "code",
   "execution_count": 20,
   "metadata": {
    "id": "1B9C0a6003-O",
    "outputId": "e9f3e519-fb01-4e9f-e6c8-dcddce1b8327"
   },
   "outputs": [
    {
     "name": "stdout",
     "output_type": "stream",
     "text": [
      "Epoch 1/35\n",
      "2/2 [==============================] - 3s 1s/step - loss: 1.2127 - accuracy: 0.5280 - val_loss: 1.2867 - val_accuracy: 0.4800\n",
      "Epoch 2/35\n",
      "2/2 [==============================] - 1s 500ms/step - loss: 1.0389 - accuracy: 0.6640 - val_loss: 1.2587 - val_accuracy: 0.5040\n",
      "Epoch 3/35\n",
      "2/2 [==============================] - 1s 481ms/step - loss: 0.9421 - accuracy: 0.6640 - val_loss: 1.2431 - val_accuracy: 0.5000\n",
      "Epoch 4/35\n",
      "2/2 [==============================] - 1s 491ms/step - loss: 0.8473 - accuracy: 0.7200 - val_loss: 1.2330 - val_accuracy: 0.5040\n",
      "Epoch 5/35\n",
      "2/2 [==============================] - 1s 490ms/step - loss: 0.7931 - accuracy: 0.7680 - val_loss: 1.2299 - val_accuracy: 0.5000\n",
      "Epoch 6/35\n",
      "2/2 [==============================] - 1s 508ms/step - loss: 0.7280 - accuracy: 0.7920 - val_loss: 1.2288 - val_accuracy: 0.5040\n",
      "Epoch 7/35\n",
      "2/2 [==============================] - 1s 473ms/step - loss: 0.6297 - accuracy: 0.8480 - val_loss: 1.2272 - val_accuracy: 0.4880\n",
      "Epoch 8/35\n",
      "2/2 [==============================] - 1s 487ms/step - loss: 0.5700 - accuracy: 0.8560 - val_loss: 1.2264 - val_accuracy: 0.4920\n",
      "Epoch 9/35\n",
      "2/2 [==============================] - 1s 412ms/step - loss: 0.5287 - accuracy: 0.8800 - val_loss: 1.2269 - val_accuracy: 0.4920\n",
      "Epoch 10/35\n",
      "2/2 [==============================] - ETA: 0s - loss: 0.4736 - accuracy: 0.9200Restoring model weights from the end of the best epoch.\n",
      "2/2 [==============================] - 1s 480ms/step - loss: 0.4736 - accuracy: 0.9200 - val_loss: 1.2286 - val_accuracy: 0.4920\n",
      "Epoch 00010: early stopping\n"
     ]
    },
    {
     "data": {
      "image/png": "[encoded data removed]",
      "text/plain": [
       "<Figure size 432x288 with 1 Axes>"
      ]
     },
     "metadata": {},
     "output_type": "display_data"
    }
   ],
   "source": [
    "model.compile(loss=\"sparse_categorical_crossentropy\", metrics=[\"accuracy\"],\n",
    "                     optimizer=tf.keras.optimizers.Adam(1e-5)) # Low learning rate\n",
    "\n",
    "history = model.fit(X_train, y_train_enc,\n",
    "                 validation_data=(X_test, y_test_enc),\n",
    "                 batch_size=64,\n",
    "                 epochs=35,\n",
    "                 callbacks=[es])\n",
    "plot_training(history)"
   ]
  }
 ],
 "metadata": {
  "kernelspec": {
   "display_name": "Python 3",
   "language": "python",
   "name": "python3"
  },
  "language_info": {
   "codemirror_mode": {
    "name": "ipython",
    "version": 3
   },
   "file_extension": ".py",
   "mimetype": "text/x-python",
   "name": "python",
   "nbconvert_exporter": "python",
   "pygments_lexer": "ipython3",
   "version": "3.7.1"
  }
 },
 "nbformat": 4,
 "nbformat_minor": 4
}
