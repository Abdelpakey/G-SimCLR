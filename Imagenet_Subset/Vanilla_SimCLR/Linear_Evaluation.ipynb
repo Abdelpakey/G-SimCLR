{
  "nbformat": 4,
  "nbformat_minor": 0,
  "metadata": {
    "kernelspec": {
      "name": "python3",
      "display_name": "Python 3",
      "language": "python"
    },
    "language_info": {
      "name": "python",
      "version": "3.7.6",
      "mimetype": "text/x-python",
      "codemirror_mode": {
        "name": "ipython",
        "version": 3
      },
      "pygments_lexer": "ipython3",
      "nbconvert_exporter": "python",
      "file_extension": ".py"
    },
    "colab": {
      "name": "Full-linear-evaluation-imagenet-subset-vanilla-sim.ipynb",
      "provenance": [],
      "include_colab_link": true
    },
    "accelerator": "GPU"
  },
  "cells": [
    {
      "cell_type": "markdown",
      "metadata": {
        "id": "view-in-github",
        "colab_type": "text"
      },
      "source": [
        "<a href=\"https://colab.research.google.com/github/ariG23498/SimCLR_PseudoLabel/blob/master/Full-linear-evaluation-imagenet-subset-vanilla-sim.ipynb\" target=\"_parent\"><img src=\"https://colab.research.google.com/assets/colab-badge.svg\" alt=\"Open In Colab\"/></a>"
      ]
    },
    {
      "cell_type": "code",
      "metadata": {
        "id": "lIYdn1woOS1n",
        "trusted": true,
        "colab_type": "code",
        "colab": {
          "base_uri": "https://localhost:8080/",
          "height": 34
        },
        "outputId": "6af6ada7-e2c6-4927-e3dd-2168d771e2ee"
      },
      "source": [
        "import tensorflow as tf\n",
        "print(tf.__version__)"
      ],
      "execution_count": 1,
      "outputs": [
        {
          "output_type": "stream",
          "text": [
            "2.3.0\n"
          ],
          "name": "stdout"
        }
      ]
    },
    {
      "cell_type": "code",
      "metadata": {
        "id": "M3obU9ZXpGR0",
        "trusted": true,
        "colab_type": "code",
        "colab": {
          "base_uri": "https://localhost:8080/",
          "height": 357
        },
        "outputId": "9d172b45-4434-450b-9111-9c49de0e1501"
      },
      "source": [
        "!nvidia-smi"
      ],
      "execution_count": 2,
      "outputs": [
        {
          "output_type": "stream",
          "text": [
            "Fri Aug 21 06:48:20 2020       \n",
            "+-----------------------------------------------------------------------------+\n",
            "| NVIDIA-SMI 450.57       Driver Version: 418.67       CUDA Version: 10.1     |\n",
            "|-------------------------------+----------------------+----------------------+\n",
            "| GPU  Name        Persistence-M| Bus-Id        Disp.A | Volatile Uncorr. ECC |\n",
            "| Fan  Temp  Perf  Pwr:Usage/Cap|         Memory-Usage | GPU-Util  Compute M. |\n",
            "|                               |                      |               MIG M. |\n",
            "|===============================+======================+======================|\n",
            "|   0  Tesla K80           Off  | 00000000:00:04.0 Off |                    0 |\n",
            "| N/A   46C    P8    31W / 149W |      0MiB / 11441MiB |      0%      Default |\n",
            "|                               |                      |                 ERR! |\n",
            "+-------------------------------+----------------------+----------------------+\n",
            "                                                                               \n",
            "+-----------------------------------------------------------------------------+\n",
            "| Processes:                                                                  |\n",
            "|  GPU   GI   CI        PID   Type   Process name                  GPU Memory |\n",
            "|        ID   ID                                                   Usage      |\n",
            "|=============================================================================|\n",
            "|  No running processes found                                                 |\n",
            "+-----------------------------------------------------------------------------+\n"
          ],
          "name": "stdout"
        }
      ]
    },
    {
      "cell_type": "code",
      "metadata": {
        "id": "dCsK6zBRpmdo",
        "trusted": true,
        "colab_type": "code",
        "colab": {
          "base_uri": "https://localhost:8080/",
          "height": 51
        },
        "outputId": "3deaf5ae-f889-41ee-ea10-cfba8c89853d"
      },
      "source": [
        "# Other imports\n",
        "from sklearn.preprocessing import LabelEncoder\n",
        "from tensorflow.keras.layers import *\n",
        "from tensorflow.keras.models import *\n",
        "import matplotlib.pyplot as plt\n",
        "from imutils import paths\n",
        "from tqdm import tqdm\n",
        "import tensorflow as tf\n",
        "import seaborn as sns\n",
        "import numpy as np\n",
        "import cv2\n",
        "\n",
        "# Random seed fixation\n",
        "tf.random.set_seed(666)\n",
        "np.random.seed(666)"
      ],
      "execution_count": 3,
      "outputs": [
        {
          "output_type": "stream",
          "text": [
            "/usr/local/lib/python3.6/dist-packages/statsmodels/tools/_testing.py:19: FutureWarning: pandas.util.testing is deprecated. Use the functions in the public API at pandas.testing instead.\n",
            "  import pandas.util.testing as tm\n"
          ],
          "name": "stderr"
        }
      ]
    },
    {
      "cell_type": "markdown",
      "metadata": {
        "id": "yP3vs53rs8SM",
        "colab_type": "text"
      },
      "source": [
        "## Dataset gathering and preparation"
      ]
    },
    {
      "cell_type": "code",
      "metadata": {
        "id": "HJQZoWXYpjeN",
        "trusted": true,
        "colab_type": "code",
        "colab": {
          "base_uri": "https://localhost:8080/",
          "height": 102
        },
        "outputId": "72db3a17-4c86-486f-ec83-30a2125bf678"
      },
      "source": [
        "# Gather dataset\n",
        "!git clone https://github.com/thunderInfy/imagenet-5-categories"
      ],
      "execution_count": 4,
      "outputs": [
        {
          "output_type": "stream",
          "text": [
            "Cloning into 'imagenet-5-categories'...\n",
            "remote: Enumerating objects: 1532, done.\u001b[K\n",
            "remote: Total 1532 (delta 0), reused 0 (delta 0), pack-reused 1532\u001b[K\n",
            "Receiving objects: 100% (1532/1532), 88.56 MiB | 11.85 MiB/s, done.\n",
            "Resolving deltas: 100% (1/1), done.\n"
          ],
          "name": "stdout"
        }
      ]
    },
    {
      "cell_type": "code",
      "metadata": {
        "id": "2PRnOXCdppEg",
        "trusted": true,
        "colab_type": "code",
        "colab": {
          "base_uri": "https://localhost:8080/",
          "height": 34
        },
        "outputId": "5b4e704e-6fe9-4b91-e16d-379fd33d29aa"
      },
      "source": [
        "# Train and test image paths\n",
        "train_images = list(paths.list_images(\"imagenet-5-categories/train\"))\n",
        "test_images = list(paths.list_images(\"imagenet-5-categories/test\"))\n",
        "print(len(train_images), len(test_images))"
      ],
      "execution_count": 5,
      "outputs": [
        {
          "output_type": "stream",
          "text": [
            "1250 250\n"
          ],
          "name": "stdout"
        }
      ]
    },
    {
      "cell_type": "code",
      "metadata": {
        "id": "9giRP85TqizW",
        "trusted": true,
        "colab_type": "code",
        "colab": {}
      },
      "source": [
        "def prepare_images(image_paths):\n",
        "    images = []\n",
        "    labels = []\n",
        "\n",
        "    for image in tqdm(image_paths):\n",
        "        image_pixels = plt.imread(image)\n",
        "        image_pixels = cv2.resize(image_pixels, (224, 224))\n",
        "        image_pixels = image_pixels/255.\n",
        "\n",
        "        label = image.split(\"/\")[2].split(\"_\")[0]\n",
        "\n",
        "        images.append(image_pixels)\n",
        "        labels.append(label)\n",
        "\n",
        "    images = np.array(images)\n",
        "    labels = np.array(labels)\n",
        "\n",
        "    print(images.shape, labels.shape)\n",
        "\n",
        "    return images, labels"
      ],
      "execution_count": 6,
      "outputs": []
    },
    {
      "cell_type": "code",
      "metadata": {
        "id": "YJL8IW6UsHkt",
        "trusted": true,
        "colab_type": "code",
        "colab": {
          "base_uri": "https://localhost:8080/",
          "height": 85
        },
        "outputId": "040af0c9-823c-466a-ffa9-91843d0e0fa6"
      },
      "source": [
        "X_train, y_train = prepare_images(train_images)\n",
        "X_test, y_test = prepare_images(test_images)"
      ],
      "execution_count": 7,
      "outputs": [
        {
          "output_type": "stream",
          "text": [
            "100%|██████████| 1250/1250 [00:06<00:00, 179.75it/s]\n",
            "  7%|▋         | 18/250 [00:00<00:01, 124.10it/s]"
          ],
          "name": "stderr"
        },
        {
          "output_type": "stream",
          "text": [
            "(1250, 224, 224, 3) (1250,)\n"
          ],
          "name": "stdout"
        },
        {
          "output_type": "stream",
          "text": [
            "100%|██████████| 250/250 [00:01<00:00, 189.15it/s]\n"
          ],
          "name": "stderr"
        },
        {
          "output_type": "stream",
          "text": [
            "(250, 224, 224, 3) (250,)\n"
          ],
          "name": "stdout"
        }
      ]
    },
    {
      "cell_type": "code",
      "metadata": {
        "id": "YAv47WlJvse5",
        "trusted": true,
        "colab_type": "code",
        "colab": {}
      },
      "source": [
        "le = LabelEncoder()\n",
        "y_train_enc = le.fit_transform(y_train)\n",
        "y_test_enc = le.transform(y_test)"
      ],
      "execution_count": 8,
      "outputs": []
    },
    {
      "cell_type": "markdown",
      "metadata": {
        "id": "vdM74W7Ws8Sl",
        "colab_type": "text"
      },
      "source": [
        "## Utilities"
      ]
    },
    {
      "cell_type": "code",
      "metadata": {
        "id": "G8ha8pK7sSUO",
        "trusted": true,
        "colab_type": "code",
        "colab": {}
      },
      "source": [
        "# Architecture utils\n",
        "def get_resnet_simclr(hidden_1, hidden_2, hidden_3):\n",
        "    base_model = tf.keras.applications.ResNet50(include_top=False, weights=None, input_shape=(224, 224, 3))\n",
        "    base_model.trainable = True\n",
        "    inputs = Input((224, 224, 3))\n",
        "    h = base_model(inputs, training=False)\n",
        "    h = GlobalAveragePooling2D()(h)\n",
        "\n",
        "    projection_1 = Dense(hidden_1)(h)\n",
        "    projection_1 = Activation(\"relu\")(projection_1)\n",
        "    projection_2 = Dense(hidden_2)(projection_1)\n",
        "    projection_2 = Activation(\"relu\")(projection_2)\n",
        "    projection_3 = Dense(hidden_3)(projection_2)\n",
        "\n",
        "    resnet_simclr = Model(inputs, projection_3)\n",
        "\n",
        "    return resnet_simclr"
      ],
      "execution_count": 9,
      "outputs": []
    },
    {
      "cell_type": "code",
      "metadata": {
        "id": "GbM8jSiawNHI",
        "colab_type": "code",
        "colab": {
          "base_uri": "https://localhost:8080/",
          "height": 204
        },
        "outputId": "0d40270c-3e67-4b1b-f0d2-7d9c05fffa94"
      },
      "source": [
        "!wget https://storage.googleapis.com/resnet-simclr-pseudo-labels/vanilla_resnet_simclr.h5"
      ],
      "execution_count": 10,
      "outputs": [
        {
          "output_type": "stream",
          "text": [
            "--2020-08-21 06:48:54--  https://storage.googleapis.com/resnet-simclr-pseudo-labels/vanilla_resnet_simclr.h5\n",
            "Resolving storage.googleapis.com (storage.googleapis.com)... 108.177.97.128, 108.177.125.128, 74.125.23.128, ...\n",
            "Connecting to storage.googleapis.com (storage.googleapis.com)|108.177.97.128|:443... connected.\n",
            "HTTP request sent, awaiting response... 200 OK\n",
            "Length: 96936336 (92M) [application/octet-stream]\n",
            "Saving to: ‘vanilla_resnet_simclr.h5’\n",
            "\n",
            "vanilla_resnet_simc 100%[===================>]  92.45M  89.0MB/s    in 1.0s    \n",
            "\n",
            "2020-08-21 06:48:55 (89.0 MB/s) - ‘vanilla_resnet_simclr.h5’ saved [96936336/96936336]\n",
            "\n"
          ],
          "name": "stdout"
        }
      ]
    },
    {
      "cell_type": "code",
      "metadata": {
        "id": "X0GklYB-sZYz",
        "trusted": true,
        "colab_type": "code",
        "colab": {
          "base_uri": "https://localhost:8080/",
          "height": 442
        },
        "outputId": "6bda3b8f-aa76-4ebc-dbf7-2ac3a664e3c4"
      },
      "source": [
        "resnet_simclr = tf.keras.models.load_model('vanilla_resnet_simclr.h5')\n",
        "resnet_simclr.summary()"
      ],
      "execution_count": 11,
      "outputs": [
        {
          "output_type": "stream",
          "text": [
            "WARNING:tensorflow:No training configuration found in the save file, so the model was *not* compiled. Compile it manually.\n",
            "Model: \"functional_1\"\n",
            "_________________________________________________________________\n",
            "Layer (type)                 Output Shape              Param #   \n",
            "=================================================================\n",
            "input_2 (InputLayer)         [(None, 224, 224, 3)]     0         \n",
            "_________________________________________________________________\n",
            "resnet50 (Functional)        (None, 7, 7, 2048)        23587712  \n",
            "_________________________________________________________________\n",
            "global_average_pooling2d (Gl (None, 2048)              0         \n",
            "_________________________________________________________________\n",
            "dense (Dense)                (None, 256)               524544    \n",
            "_________________________________________________________________\n",
            "activation (Activation)      (None, 256)               0         \n",
            "_________________________________________________________________\n",
            "dense_1 (Dense)              (None, 128)               32896     \n",
            "_________________________________________________________________\n",
            "activation_1 (Activation)    (None, 128)               0         \n",
            "_________________________________________________________________\n",
            "dense_2 (Dense)              (None, 50)                6450      \n",
            "=================================================================\n",
            "Total params: 24,151,602\n",
            "Trainable params: 24,098,482\n",
            "Non-trainable params: 53,120\n",
            "_________________________________________________________________\n"
          ],
          "name": "stdout"
        }
      ]
    },
    {
      "cell_type": "code",
      "metadata": {
        "id": "Z1tFKw-7ziaG",
        "trusted": true,
        "colab_type": "code",
        "colab": {}
      },
      "source": [
        "def plot_training(H):\n",
        "\twith plt.xkcd():\n",
        "\t\tplt.plot(H.history[\"loss\"], label=\"train_loss\")\n",
        "\t\tplt.plot(H.history[\"val_loss\"], label=\"val_loss\")\n",
        "\t\tplt.plot(H.history[\"accuracy\"], label=\"train_acc\")\n",
        "\t\tplt.plot(H.history[\"val_accuracy\"], label=\"val_acc\")\n",
        "\t\tplt.title(\"Training Loss and Accuracy\")\n",
        "\t\tplt.xlabel(\"Epoch #\")\n",
        "\t\tplt.ylabel(\"Loss/Accuracy\")\n",
        "\t\tplt.legend(loc=\"lower left\")\n",
        "\t\tplt.show()"
      ],
      "execution_count": 12,
      "outputs": []
    },
    {
      "cell_type": "code",
      "metadata": {
        "id": "7XojYORatX4p",
        "trusted": true,
        "colab_type": "code",
        "colab": {}
      },
      "source": [
        "def get_linear_model(features):\n",
        "    linear_model = Sequential([Dense(5, input_shape=(features, ), activation=\"softmax\")])\n",
        "    return linear_model"
      ],
      "execution_count": 13,
      "outputs": []
    },
    {
      "cell_type": "markdown",
      "metadata": {
        "id": "_s0nfTYos8Sy",
        "colab_type": "text"
      },
      "source": [
        "## Evaluation"
      ]
    },
    {
      "cell_type": "code",
      "metadata": {
        "id": "V8ZQDDHXHbxb",
        "trusted": true,
        "colab_type": "code",
        "colab": {
          "base_uri": "https://localhost:8080/",
          "height": 425
        },
        "outputId": "0ada8e46-f4d2-4f5f-c893-ced18835fe70"
      },
      "source": [
        "resnet_simclr.layers[1].trainable = False\n",
        "resnet_simclr.summary()"
      ],
      "execution_count": 14,
      "outputs": [
        {
          "output_type": "stream",
          "text": [
            "Model: \"functional_1\"\n",
            "_________________________________________________________________\n",
            "Layer (type)                 Output Shape              Param #   \n",
            "=================================================================\n",
            "input_2 (InputLayer)         [(None, 224, 224, 3)]     0         \n",
            "_________________________________________________________________\n",
            "resnet50 (Functional)        (None, 7, 7, 2048)        23587712  \n",
            "_________________________________________________________________\n",
            "global_average_pooling2d (Gl (None, 2048)              0         \n",
            "_________________________________________________________________\n",
            "dense (Dense)                (None, 256)               524544    \n",
            "_________________________________________________________________\n",
            "activation (Activation)      (None, 256)               0         \n",
            "_________________________________________________________________\n",
            "dense_1 (Dense)              (None, 128)               32896     \n",
            "_________________________________________________________________\n",
            "activation_1 (Activation)    (None, 128)               0         \n",
            "_________________________________________________________________\n",
            "dense_2 (Dense)              (None, 50)                6450      \n",
            "=================================================================\n",
            "Total params: 24,151,602\n",
            "Trainable params: 563,890\n",
            "Non-trainable params: 23,587,712\n",
            "_________________________________________________________________\n"
          ],
          "name": "stdout"
        }
      ]
    },
    {
      "cell_type": "code",
      "metadata": {
        "id": "1B9C0a6003-O",
        "trusted": true,
        "colab_type": "code",
        "colab": {}
      },
      "source": [
        "# Early Stopping to prevent overfitting\n",
        "es = tf.keras.callbacks.EarlyStopping(monitor=\"val_loss\", patience=2, verbose=2, restore_best_weights=True)"
      ],
      "execution_count": 15,
      "outputs": []
    },
    {
      "cell_type": "code",
      "metadata": {
        "id": "qnNJ5BKPsj4u",
        "trusted": true,
        "colab_type": "code",
        "colab": {
          "base_uri": "https://localhost:8080/",
          "height": 425
        },
        "outputId": "cb4a7b72-604d-4557-8325-de3a1e6b80f8"
      },
      "source": [
        "# These layers will not be trained during linear evaluation\n",
        "resnet_simclr.layers[3].trainable = False\n",
        "resnet_simclr.layers[5].trainable = False\n",
        "\n",
        "# Encoder model with non-linear projections\n",
        "projection = Model(resnet_simclr.input, resnet_simclr.layers[-2].output)\n",
        "print(projection.summary())\n",
        "\n",
        "# Extract train and test features\n",
        "train_features = projection.predict(X_train)\n",
        "test_features = projection.predict(X_test)\n",
        "\n",
        "print(train_features.shape, test_features.shape)"
      ],
      "execution_count": 16,
      "outputs": [
        {
          "output_type": "stream",
          "text": [
            "Model: \"functional_1\"\n",
            "_________________________________________________________________\n",
            "Layer (type)                 Output Shape              Param #   \n",
            "=================================================================\n",
            "input_2 (InputLayer)         [(None, 224, 224, 3)]     0         \n",
            "_________________________________________________________________\n",
            "resnet50 (Functional)        (None, 7, 7, 2048)        23587712  \n",
            "_________________________________________________________________\n",
            "global_average_pooling2d (Gl (None, 2048)              0         \n",
            "_________________________________________________________________\n",
            "dense (Dense)                (None, 256)               524544    \n",
            "_________________________________________________________________\n",
            "activation (Activation)      (None, 256)               0         \n",
            "_________________________________________________________________\n",
            "dense_1 (Dense)              (None, 128)               32896     \n",
            "_________________________________________________________________\n",
            "activation_1 (Activation)    (None, 128)               0         \n",
            "=================================================================\n",
            "Total params: 24,145,152\n",
            "Trainable params: 0\n",
            "Non-trainable params: 24,145,152\n",
            "_________________________________________________________________\n",
            "None\n",
            "(1250, 128) (250, 128)\n"
          ],
          "name": "stdout"
        }
      ]
    },
    {
      "cell_type": "code",
      "metadata": {
        "id": "-Rb-lf8KvMtR",
        "trusted": true,
        "colab_type": "code",
        "colab": {
          "base_uri": "https://localhost:8080/",
          "height": 983
        },
        "outputId": "89439f5c-0f13-44a4-dfce-d7088ba4cdaf"
      },
      "source": [
        "# Linear model\n",
        "linear_model = get_linear_model(128)\n",
        "linear_model.compile(loss=\"sparse_categorical_crossentropy\", metrics=[\"accuracy\"],\n",
        "                     optimizer=\"adam\")\n",
        "history = linear_model.fit(train_features, y_train_enc,\n",
        "                 validation_data=(test_features, y_test_enc),\n",
        "                 batch_size=64,\n",
        "                 epochs=100,\n",
        "                 callbacks=[es])\n",
        "plot_training(history)"
      ],
      "execution_count": 17,
      "outputs": [
        {
          "output_type": "stream",
          "text": [
            "Epoch 1/100\n",
            "20/20 [==============================] - 0s 10ms/step - loss: 4.0333 - accuracy: 0.2200 - val_loss: 2.9563 - val_accuracy: 0.2360\n",
            "Epoch 2/100\n",
            "20/20 [==============================] - 0s 3ms/step - loss: 2.3972 - accuracy: 0.2752 - val_loss: 1.9758 - val_accuracy: 0.3320\n",
            "Epoch 3/100\n",
            "20/20 [==============================] - 0s 4ms/step - loss: 1.8601 - accuracy: 0.3424 - val_loss: 1.6465 - val_accuracy: 0.3880\n",
            "Epoch 4/100\n",
            "20/20 [==============================] - 0s 4ms/step - loss: 1.6172 - accuracy: 0.3808 - val_loss: 1.4868 - val_accuracy: 0.4240\n",
            "Epoch 5/100\n",
            "20/20 [==============================] - 0s 3ms/step - loss: 1.5122 - accuracy: 0.4200 - val_loss: 1.4163 - val_accuracy: 0.4120\n",
            "Epoch 6/100\n",
            "20/20 [==============================] - 0s 3ms/step - loss: 1.4535 - accuracy: 0.4224 - val_loss: 1.3757 - val_accuracy: 0.4440\n",
            "Epoch 7/100\n",
            "20/20 [==============================] - 0s 3ms/step - loss: 1.4133 - accuracy: 0.4376 - val_loss: 1.3526 - val_accuracy: 0.4480\n",
            "Epoch 8/100\n",
            "20/20 [==============================] - 0s 3ms/step - loss: 1.3862 - accuracy: 0.4352 - val_loss: 1.3275 - val_accuracy: 0.4680\n",
            "Epoch 9/100\n",
            "20/20 [==============================] - 0s 3ms/step - loss: 1.3602 - accuracy: 0.4440 - val_loss: 1.3062 - val_accuracy: 0.4720\n",
            "Epoch 10/100\n",
            "20/20 [==============================] - 0s 4ms/step - loss: 1.3400 - accuracy: 0.4440 - val_loss: 1.2914 - val_accuracy: 0.4800\n",
            "Epoch 11/100\n",
            "20/20 [==============================] - 0s 5ms/step - loss: 1.3203 - accuracy: 0.4568 - val_loss: 1.2860 - val_accuracy: 0.4880\n",
            "Epoch 12/100\n",
            "20/20 [==============================] - 0s 3ms/step - loss: 1.3052 - accuracy: 0.4464 - val_loss: 1.2725 - val_accuracy: 0.4920\n",
            "Epoch 13/100\n",
            "20/20 [==============================] - 0s 4ms/step - loss: 1.2969 - accuracy: 0.4552 - val_loss: 1.2570 - val_accuracy: 0.5000\n",
            "Epoch 14/100\n",
            "20/20 [==============================] - 0s 4ms/step - loss: 1.2847 - accuracy: 0.4608 - val_loss: 1.2550 - val_accuracy: 0.5080\n",
            "Epoch 15/100\n",
            "20/20 [==============================] - 0s 3ms/step - loss: 1.2789 - accuracy: 0.4584 - val_loss: 1.2440 - val_accuracy: 0.5040\n",
            "Epoch 16/100\n",
            "20/20 [==============================] - 0s 4ms/step - loss: 1.2709 - accuracy: 0.4640 - val_loss: 1.2398 - val_accuracy: 0.5120\n",
            "Epoch 17/100\n",
            "20/20 [==============================] - 0s 3ms/step - loss: 1.2614 - accuracy: 0.4680 - val_loss: 1.2324 - val_accuracy: 0.5280\n",
            "Epoch 18/100\n",
            "20/20 [==============================] - 0s 3ms/step - loss: 1.2578 - accuracy: 0.4656 - val_loss: 1.2532 - val_accuracy: 0.5040\n",
            "Epoch 19/100\n",
            " 1/20 [>.............................] - ETA: 0s - loss: 1.4686 - accuracy: 0.3438Restoring model weights from the end of the best epoch.\n",
            "20/20 [==============================] - 0s 3ms/step - loss: 1.2541 - accuracy: 0.4752 - val_loss: 1.2408 - val_accuracy: 0.5080\n",
            "Epoch 00019: early stopping\n"
          ],
          "name": "stdout"
        },
        {
          "output_type": "display_data",
          "data": {
            "image/png": "[encoded data removed]",
            "text/plain": [
              "<Figure size 432x288 with 1 Axes>"
            ]
          },
          "metadata": {
            "tags": []
          }
        }
      ]
    },
    {
      "cell_type": "code",
      "metadata": {
        "id": "pNQxjmTsvd_u",
        "trusted": true,
        "colab_type": "code",
        "colab": {
          "base_uri": "https://localhost:8080/",
          "height": 357
        },
        "outputId": "edde8c64-3332-48dc-d847-01059fdb763d"
      },
      "source": [
        "# Encoder model with lesser non-linearity\n",
        "projection = Model(resnet_simclr.input, resnet_simclr.layers[-4].output)\n",
        "print(projection.summary())\n",
        "\n",
        "# Extract train and test features\n",
        "train_features = projection.predict(X_train)\n",
        "test_features = projection.predict(X_test)\n",
        "\n",
        "print(train_features.shape, test_features.shape)"
      ],
      "execution_count": 18,
      "outputs": [
        {
          "output_type": "stream",
          "text": [
            "Model: \"functional_3\"\n",
            "_________________________________________________________________\n",
            "Layer (type)                 Output Shape              Param #   \n",
            "=================================================================\n",
            "input_2 (InputLayer)         [(None, 224, 224, 3)]     0         \n",
            "_________________________________________________________________\n",
            "resnet50 (Functional)        (None, 7, 7, 2048)        23587712  \n",
            "_________________________________________________________________\n",
            "global_average_pooling2d (Gl (None, 2048)              0         \n",
            "_________________________________________________________________\n",
            "dense (Dense)                (None, 256)               524544    \n",
            "_________________________________________________________________\n",
            "activation (Activation)      (None, 256)               0         \n",
            "=================================================================\n",
            "Total params: 24,112,256\n",
            "Trainable params: 0\n",
            "Non-trainable params: 24,112,256\n",
            "_________________________________________________________________\n",
            "None\n",
            "(1250, 256) (250, 256)\n"
          ],
          "name": "stdout"
        }
      ]
    },
    {
      "cell_type": "code",
      "metadata": {
        "id": "N4YLxLpw1rWK",
        "trusted": true,
        "colab_type": "code",
        "colab": {
          "base_uri": "https://localhost:8080/",
          "height": 881
        },
        "outputId": "024323b0-5ce3-48e1-88c9-590de2c65489"
      },
      "source": [
        "linear_model = get_linear_model(256)\n",
        "linear_model.compile(loss=\"sparse_categorical_crossentropy\", metrics=[\"accuracy\"],\n",
        "                     optimizer=\"adam\")\n",
        "history = linear_model.fit(train_features, y_train_enc,\n",
        "                 validation_data=(test_features, y_test_enc),\n",
        "                 batch_size=64,\n",
        "                 epochs=35,\n",
        "                 callbacks=[es])\n",
        "plot_training(history)"
      ],
      "execution_count": 19,
      "outputs": [
        {
          "output_type": "stream",
          "text": [
            "Epoch 1/35\n",
            "20/20 [==============================] - 0s 9ms/step - loss: 2.8341 - accuracy: 0.2800 - val_loss: 2.1131 - val_accuracy: 0.3160\n",
            "Epoch 2/35\n",
            "20/20 [==============================] - 0s 3ms/step - loss: 1.8458 - accuracy: 0.3768 - val_loss: 1.5923 - val_accuracy: 0.4280\n",
            "Epoch 3/35\n",
            "20/20 [==============================] - 0s 4ms/step - loss: 1.5552 - accuracy: 0.4232 - val_loss: 1.4319 - val_accuracy: 0.4400\n",
            "Epoch 4/35\n",
            "20/20 [==============================] - 0s 3ms/step - loss: 1.4329 - accuracy: 0.4568 - val_loss: 1.3592 - val_accuracy: 0.4440\n",
            "Epoch 5/35\n",
            "20/20 [==============================] - 0s 3ms/step - loss: 1.3743 - accuracy: 0.4656 - val_loss: 1.2978 - val_accuracy: 0.4720\n",
            "Epoch 6/35\n",
            "20/20 [==============================] - 0s 3ms/step - loss: 1.3439 - accuracy: 0.4640 - val_loss: 1.2736 - val_accuracy: 0.4480\n",
            "Epoch 7/35\n",
            "20/20 [==============================] - 0s 3ms/step - loss: 1.3206 - accuracy: 0.4640 - val_loss: 1.2554 - val_accuracy: 0.4640\n",
            "Epoch 8/35\n",
            "20/20 [==============================] - 0s 3ms/step - loss: 1.2996 - accuracy: 0.4592 - val_loss: 1.2326 - val_accuracy: 0.4800\n",
            "Epoch 9/35\n",
            "20/20 [==============================] - 0s 3ms/step - loss: 1.2845 - accuracy: 0.4720 - val_loss: 1.2306 - val_accuracy: 0.4920\n",
            "Epoch 10/35\n",
            "20/20 [==============================] - 0s 3ms/step - loss: 1.2787 - accuracy: 0.4776 - val_loss: 1.2269 - val_accuracy: 0.4880\n",
            "Epoch 11/35\n",
            "20/20 [==============================] - 0s 3ms/step - loss: 1.2610 - accuracy: 0.4872 - val_loss: 1.2250 - val_accuracy: 0.4720\n",
            "Epoch 12/35\n",
            "20/20 [==============================] - 0s 4ms/step - loss: 1.2565 - accuracy: 0.4824 - val_loss: 1.2212 - val_accuracy: 0.4680\n",
            "Epoch 13/35\n",
            "20/20 [==============================] - 0s 4ms/step - loss: 1.2462 - accuracy: 0.4960 - val_loss: 1.2227 - val_accuracy: 0.4720\n",
            "Epoch 14/35\n",
            "20/20 [==============================] - 0s 4ms/step - loss: 1.2482 - accuracy: 0.4864 - val_loss: 1.2152 - val_accuracy: 0.4840\n",
            "Epoch 15/35\n",
            "20/20 [==============================] - 0s 3ms/step - loss: 1.2477 - accuracy: 0.4936 - val_loss: 1.2230 - val_accuracy: 0.4800\n",
            "Epoch 16/35\n",
            "18/20 [==========================>...] - ETA: 0s - loss: 1.2534 - accuracy: 0.4913Restoring model weights from the end of the best epoch.\n",
            "20/20 [==============================] - 0s 4ms/step - loss: 1.2441 - accuracy: 0.4912 - val_loss: 1.2198 - val_accuracy: 0.4920\n",
            "Epoch 00016: early stopping\n"
          ],
          "name": "stdout"
        },
        {
          "output_type": "display_data",
          "data": {
            "image/png": "[encoded data removed]",
            "text/plain": [
              "<Figure size 432x288 with 1 Axes>"
            ]
          },
          "metadata": {
            "tags": []
          }
        }
      ]
    },
    {
      "cell_type": "code",
      "metadata": {
        "id": "AIjHhSofSUWl",
        "trusted": true,
        "colab_type": "code",
        "colab": {
          "base_uri": "https://localhost:8080/",
          "height": 289
        },
        "outputId": "a5bd40e1-e018-42af-86e3-67c7f0b84e9e"
      },
      "source": [
        "# Encoder model with no projection\n",
        "projection = Model(resnet_simclr.input, resnet_simclr.layers[-6].output)\n",
        "print(projection.summary())\n",
        "\n",
        "# Extract train and test features\n",
        "train_features = projection.predict(X_train)\n",
        "test_features = projection.predict(X_test)\n",
        "\n",
        "print(train_features.shape, test_features.shape)"
      ],
      "execution_count": 20,
      "outputs": [
        {
          "output_type": "stream",
          "text": [
            "Model: \"functional_5\"\n",
            "_________________________________________________________________\n",
            "Layer (type)                 Output Shape              Param #   \n",
            "=================================================================\n",
            "input_2 (InputLayer)         [(None, 224, 224, 3)]     0         \n",
            "_________________________________________________________________\n",
            "resnet50 (Functional)        (None, 7, 7, 2048)        23587712  \n",
            "_________________________________________________________________\n",
            "global_average_pooling2d (Gl (None, 2048)              0         \n",
            "=================================================================\n",
            "Total params: 23,587,712\n",
            "Trainable params: 0\n",
            "Non-trainable params: 23,587,712\n",
            "_________________________________________________________________\n",
            "None\n",
            "(1250, 2048) (250, 2048)\n"
          ],
          "name": "stdout"
        }
      ]
    },
    {
      "cell_type": "code",
      "metadata": {
        "id": "iDFeqRqVSqzs",
        "trusted": true,
        "colab_type": "code",
        "colab": {
          "base_uri": "https://localhost:8080/",
          "height": 609
        },
        "outputId": "78d6677a-2e8b-4adc-8fee-5a5dc6bbf1f5"
      },
      "source": [
        "linear_model = get_linear_model(2048)\n",
        "linear_model.compile(loss=\"sparse_categorical_crossentropy\", metrics=[\"accuracy\"],\n",
        "                     optimizer=\"adam\")\n",
        "history = linear_model.fit(train_features, y_train_enc,\n",
        "                 validation_data=(test_features, y_test_enc),\n",
        "                 batch_size=64,\n",
        "                 epochs=35,\n",
        "                 callbacks=[es])\n",
        "plot_training(history)"
      ],
      "execution_count": 22,
      "outputs": [
        {
          "output_type": "stream",
          "text": [
            "Epoch 1/35\n",
            "20/20 [==============================] - 0s 9ms/step - loss: 1.7611 - accuracy: 0.3368 - val_loss: 1.3435 - val_accuracy: 0.3800\n",
            "Epoch 2/35\n",
            "20/20 [==============================] - 0s 4ms/step - loss: 1.3364 - accuracy: 0.4520 - val_loss: 1.2356 - val_accuracy: 0.4760\n",
            "Epoch 3/35\n",
            "20/20 [==============================] - 0s 4ms/step - loss: 1.2742 - accuracy: 0.4704 - val_loss: 1.2475 - val_accuracy: 0.4800\n",
            "Epoch 4/35\n",
            "20/20 [==============================] - 0s 4ms/step - loss: 1.2575 - accuracy: 0.4720 - val_loss: 1.2313 - val_accuracy: 0.5160\n",
            "Epoch 5/35\n",
            "20/20 [==============================] - 0s 4ms/step - loss: 1.2086 - accuracy: 0.5128 - val_loss: 1.2028 - val_accuracy: 0.4800\n",
            "Epoch 6/35\n",
            "20/20 [==============================] - 0s 4ms/step - loss: 1.2145 - accuracy: 0.4976 - val_loss: 1.1965 - val_accuracy: 0.5240\n",
            "Epoch 7/35\n",
            "20/20 [==============================] - 0s 4ms/step - loss: 1.2121 - accuracy: 0.5088 - val_loss: 1.1973 - val_accuracy: 0.4880\n",
            "Epoch 8/35\n",
            " 1/20 [>.............................] - ETA: 0s - loss: 1.1173 - accuracy: 0.5625Restoring model weights from the end of the best epoch.\n",
            "20/20 [==============================] - 0s 4ms/step - loss: 1.2179 - accuracy: 0.5048 - val_loss: 1.2288 - val_accuracy: 0.4920\n",
            "Epoch 00008: early stopping\n"
          ],
          "name": "stdout"
        },
        {
          "output_type": "display_data",
          "data": {
            "image/png": "[encoded data removed]",
            "text/plain": [
              "<Figure size 432x288 with 1 Axes>"
            ]
          },
          "metadata": {
            "tags": []
          }
        }
      ]
    }
  ]
}