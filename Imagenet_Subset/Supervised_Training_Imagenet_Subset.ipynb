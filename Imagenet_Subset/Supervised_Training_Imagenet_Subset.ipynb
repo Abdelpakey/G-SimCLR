{
 "cells": [
  {
   "cell_type": "markdown",
   "metadata": {
    "colab_type": "text",
    "id": "OJy-Q5dmd85v"
   },
   "source": [
    "## Initial setup"
   ]
  },
  {
   "cell_type": "code",
   "execution_count": 1,
   "metadata": {
    "colab": {
     "base_uri": "https://localhost:8080/",
     "height": 34
    },
    "colab_type": "code",
    "id": "lIYdn1woOS1n",
    "outputId": "a2401189-c9dc-4344-cb99-725581753479"
   },
   "outputs": [
    {
     "name": "stdout",
     "output_type": "stream",
     "text": [
      "2.3.0\n"
     ]
    }
   ],
   "source": [
    "import tensorflow as tf\n",
    "print(tf.__version__)"
   ]
  },
  {
   "cell_type": "code",
   "execution_count": 2,
   "metadata": {
    "colab": {
     "base_uri": "https://localhost:8080/",
     "height": 357
    },
    "colab_type": "code",
    "id": "uckwlGeh4UxH",
    "outputId": "560e4e70-77a4-4396-f3e2-9a11a285fa86"
   },
   "outputs": [
    {
     "name": "stdout",
     "output_type": "stream",
     "text": [
      "Fri Aug 21 05:50:40 2020       \n",
      "+-----------------------------------------------------------------------------+\n",
      "| NVIDIA-SMI 450.57       Driver Version: 418.67       CUDA Version: 10.1     |\n",
      "|-------------------------------+----------------------+----------------------+\n",
      "| GPU  Name        Persistence-M| Bus-Id        Disp.A | Volatile Uncorr. ECC |\n",
      "| Fan  Temp  Perf  Pwr:Usage/Cap|         Memory-Usage | GPU-Util  Compute M. |\n",
      "|                               |                      |               MIG M. |\n",
      "|===============================+======================+======================|\n",
      "|   0  Tesla P100-PCIE...  Off  | 00000000:00:04.0 Off |                    0 |\n",
      "| N/A   38C    P0    26W / 250W |      0MiB / 16280MiB |      0%      Default |\n",
      "|                               |                      |                 ERR! |\n",
      "+-------------------------------+----------------------+----------------------+\n",
      "                                                                               \n",
      "+-----------------------------------------------------------------------------+\n",
      "| Processes:                                                                  |\n",
      "|  GPU   GI   CI        PID   Type   Process name                  GPU Memory |\n",
      "|        ID   ID                                                   Usage      |\n",
      "|=============================================================================|\n",
      "|  No running processes found                                                 |\n",
      "+-----------------------------------------------------------------------------+\n"
     ]
    }
   ],
   "source": [
    "!nvidia-smi"
   ]
  },
  {
   "cell_type": "code",
   "execution_count": 3,
   "metadata": {
    "colab": {},
    "colab_type": "code",
    "id": "dtBEZR3b4Zo7"
   },
   "outputs": [],
   "source": [
    "# Other imports\n",
    "from sklearn.preprocessing import LabelEncoder\n",
    "from tensorflow.keras.layers import *\n",
    "from tensorflow.keras.models import *\n",
    "import matplotlib.pyplot as plt\n",
    "from imutils import paths\n",
    "from tqdm import tqdm\n",
    "import tensorflow as tf\n",
    "import numpy as np\n",
    "import cv2\n",
    "\n",
    "# Random seed fixation\n",
    "tf.random.set_seed(666)\n",
    "np.random.seed(666)"
   ]
  },
  {
   "cell_type": "markdown",
   "metadata": {
    "colab_type": "text",
    "id": "Umc5UxD6eCln"
   },
   "source": [
    "## Dataset gathering and preparation"
   ]
  },
  {
   "cell_type": "code",
   "execution_count": 4,
   "metadata": {
    "colab": {
     "base_uri": "https://localhost:8080/",
     "height": 102
    },
    "colab_type": "code",
    "id": "9mG6EaYR4XTN",
    "outputId": "cf5b5113-adc6-4279-d137-6d201a0d8586"
   },
   "outputs": [
    {
     "name": "stdout",
     "output_type": "stream",
     "text": [
      "Cloning into 'imagenet-5-categories'...\n",
      "remote: Enumerating objects: 1532, done.\u001b[K\n",
      "Receiving objects:   0% (1/1532)   \r",
      "Receiving objects:   1% (16/1532)   \r",
      "Receiving objects:   2% (31/1532)   \r",
      "Receiving objects:   3% (46/1532)   \r",
      "Receiving objects:   4% (62/1532)   \r",
      "Receiving objects:   5% (77/1532)   \r",
      "Receiving objects:   6% (92/1532)   \r",
      "Receiving objects:   7% (108/1532)   \r",
      "Receiving objects:   8% (123/1532)   \r",
      "Receiving objects:   9% (138/1532)   \r",
      "Receiving objects:  10% (154/1532)   \r",
      "Receiving objects:  11% (169/1532)   \r",
      "Receiving objects:  12% (184/1532)   \r",
      "Receiving objects:  13% (200/1532)   \r",
      "Receiving objects:  14% (215/1532)   \r",
      "Receiving objects:  15% (230/1532)   \r",
      "Receiving objects:  16% (246/1532)   \r",
      "Receiving objects:  17% (261/1532)   \r",
      "Receiving objects:  18% (276/1532)   \r",
      "Receiving objects:  19% (292/1532)   \r",
      "Receiving objects:  20% (307/1532)   \r",
      "Receiving objects:  21% (322/1532)   \r",
      "Receiving objects:  22% (338/1532)   \r",
      "Receiving objects:  23% (353/1532)   \r",
      "Receiving objects:  24% (368/1532)   \r",
      "Receiving objects:  25% (383/1532)   \r",
      "Receiving objects:  26% (399/1532)   \r",
      "Receiving objects:  27% (414/1532)   \r",
      "Receiving objects:  28% (429/1532)   \r",
      "Receiving objects:  29% (445/1532), 22.30 MiB | 44.59 MiB/s   \r",
      "Receiving objects:  30% (460/1532), 22.30 MiB | 44.59 MiB/s   \r",
      "Receiving objects:  31% (475/1532), 22.30 MiB | 44.59 MiB/s   \r",
      "Receiving objects:  32% (491/1532), 22.30 MiB | 44.59 MiB/s   \r",
      "Receiving objects:  33% (506/1532), 22.30 MiB | 44.59 MiB/s   \r",
      "Receiving objects:  34% (521/1532), 22.30 MiB | 44.59 MiB/s   \r",
      "Receiving objects:  35% (537/1532), 22.30 MiB | 44.59 MiB/s   \r",
      "Receiving objects:  36% (552/1532), 22.30 MiB | 44.59 MiB/s   \r",
      "Receiving objects:  37% (567/1532), 22.30 MiB | 44.59 MiB/s   \r",
      "Receiving objects:  38% (583/1532), 22.30 MiB | 44.59 MiB/s   \r",
      "Receiving objects:  39% (598/1532), 22.30 MiB | 44.59 MiB/s   \r",
      "Receiving objects:  40% (613/1532), 22.30 MiB | 44.59 MiB/s   \r",
      "Receiving objects:  41% (629/1532), 22.30 MiB | 44.59 MiB/s   \r",
      "Receiving objects:  42% (644/1532), 22.30 MiB | 44.59 MiB/s   \r",
      "Receiving objects:  43% (659/1532), 22.30 MiB | 44.59 MiB/s   \r",
      "Receiving objects:  44% (675/1532), 22.30 MiB | 44.59 MiB/s   \r",
      "Receiving objects:  45% (690/1532), 22.30 MiB | 44.59 MiB/s   \r",
      "Receiving objects:  46% (705/1532), 22.30 MiB | 44.59 MiB/s   \r",
      "Receiving objects:  47% (721/1532), 22.30 MiB | 44.59 MiB/s   \r",
      "Receiving objects:  48% (736/1532), 22.30 MiB | 44.59 MiB/s   \r",
      "Receiving objects:  49% (751/1532), 22.30 MiB | 44.59 MiB/s   \r",
      "Receiving objects:  50% (766/1532), 22.30 MiB | 44.59 MiB/s   \r",
      "Receiving objects:  51% (782/1532), 22.30 MiB | 44.59 MiB/s   \r",
      "Receiving objects:  52% (797/1532), 22.30 MiB | 44.59 MiB/s   \r",
      "Receiving objects:  53% (812/1532), 22.30 MiB | 44.59 MiB/s   \r",
      "Receiving objects:  54% (828/1532), 22.30 MiB | 44.59 MiB/s   \r",
      "Receiving objects:  55% (843/1532), 22.30 MiB | 44.59 MiB/s   \r",
      "Receiving objects:  56% (858/1532), 22.30 MiB | 44.59 MiB/s   \r",
      "Receiving objects:  56% (873/1532), 46.86 MiB | 46.85 MiB/s   \r",
      "Receiving objects:  57% (874/1532), 46.86 MiB | 46.85 MiB/s   \r",
      "Receiving objects:  58% (889/1532), 46.86 MiB | 46.85 MiB/s   \r",
      "Receiving objects:  59% (904/1532), 46.86 MiB | 46.85 MiB/s   \r",
      "Receiving objects:  60% (920/1532), 46.86 MiB | 46.85 MiB/s   \r",
      "Receiving objects:  61% (935/1532), 46.86 MiB | 46.85 MiB/s   \r",
      "Receiving objects:  62% (950/1532), 46.86 MiB | 46.85 MiB/s   \r",
      "Receiving objects:  63% (966/1532), 46.86 MiB | 46.85 MiB/s   \r",
      "Receiving objects:  64% (981/1532), 46.86 MiB | 46.85 MiB/s   \r",
      "Receiving objects:  65% (996/1532), 46.86 MiB | 46.85 MiB/s   \r",
      "Receiving objects:  66% (1012/1532), 46.86 MiB | 46.85 MiB/s   \r",
      "Receiving objects:  67% (1027/1532), 46.86 MiB | 46.85 MiB/s   \r",
      "Receiving objects:  68% (1042/1532), 46.86 MiB | 46.85 MiB/s   \r",
      "Receiving objects:  69% (1058/1532), 46.86 MiB | 46.85 MiB/s   \r",
      "Receiving objects:  70% (1073/1532), 46.86 MiB | 46.85 MiB/s   \r",
      "Receiving objects:  71% (1088/1532), 46.86 MiB | 46.85 MiB/s   \r",
      "Receiving objects:  72% (1104/1532), 46.86 MiB | 46.85 MiB/s   \r",
      "Receiving objects:  73% (1119/1532), 46.86 MiB | 46.85 MiB/s   \r",
      "Receiving objects:  74% (1134/1532), 46.86 MiB | 46.85 MiB/s   \r",
      "Receiving objects:  75% (1149/1532), 46.86 MiB | 46.85 MiB/s   \r",
      "Receiving objects:  76% (1165/1532), 46.86 MiB | 46.85 MiB/s   \r",
      "Receiving objects:  77% (1180/1532), 46.86 MiB | 46.85 MiB/s   \r",
      "Receiving objects:  78% (1195/1532), 46.86 MiB | 46.85 MiB/s   \r",
      "Receiving objects:  79% (1211/1532), 46.86 MiB | 46.85 MiB/s   \r",
      "Receiving objects:  80% (1226/1532), 46.86 MiB | 46.85 MiB/s   \r",
      "Receiving objects:  81% (1241/1532), 46.86 MiB | 46.85 MiB/s   \r",
      "Receiving objects:  82% (1257/1532), 46.86 MiB | 46.85 MiB/s   \r",
      "Receiving objects:  83% (1272/1532), 46.86 MiB | 46.85 MiB/s   \r",
      "Receiving objects:  84% (1287/1532), 71.39 MiB | 47.59 MiB/s   \r",
      "Receiving objects:  85% (1303/1532), 71.39 MiB | 47.59 MiB/s   \r",
      "Receiving objects:  86% (1318/1532), 71.39 MiB | 47.59 MiB/s   \r",
      "Receiving objects:  87% (1333/1532), 71.39 MiB | 47.59 MiB/s   \r",
      "Receiving objects:  88% (1349/1532), 71.39 MiB | 47.59 MiB/s   \r",
      "Receiving objects:  89% (1364/1532), 71.39 MiB | 47.59 MiB/s   \r",
      "Receiving objects:  90% (1379/1532), 71.39 MiB | 47.59 MiB/s   \r",
      "Receiving objects:  91% (1395/1532), 71.39 MiB | 47.59 MiB/s   \r",
      "Receiving objects:  92% (1410/1532), 71.39 MiB | 47.59 MiB/s   \r",
      "Receiving objects:  93% (1425/1532), 71.39 MiB | 47.59 MiB/s   \r",
      "Receiving objects:  94% (1441/1532), 71.39 MiB | 47.59 MiB/s   \r",
      "Receiving objects:  95% (1456/1532), 71.39 MiB | 47.59 MiB/s   \r",
      "Receiving objects:  96% (1471/1532), 71.39 MiB | 47.59 MiB/s   \r",
      "Receiving objects:  97% (1487/1532), 71.39 MiB | 47.59 MiB/s   \r",
      "Receiving objects:  98% (1502/1532), 71.39 MiB | 47.59 MiB/s   \r",
      "Receiving objects:  99% (1517/1532), 71.39 MiB | 47.59 MiB/s   \r",
      "remote: Total 1532 (delta 0), reused 0 (delta 0), pack-reused 1532\u001b[K\n",
      "Receiving objects: 100% (1532/1532), 71.39 MiB | 47.59 MiB/s   \r",
      "Receiving objects: 100% (1532/1532), 88.56 MiB | 47.65 MiB/s, done.\n",
      "Resolving deltas:   0% (0/1)   \r",
      "Resolving deltas: 100% (1/1)   \r",
      "Resolving deltas: 100% (1/1), done.\n"
     ]
    }
   ],
   "source": [
    "# Gather dataset\n",
    "!git clone https://github.com/thunderInfy/imagenet-5-categories"
   ]
  },
  {
   "cell_type": "code",
   "execution_count": 5,
   "metadata": {
    "colab": {
     "base_uri": "https://localhost:8080/",
     "height": 34
    },
    "colab_type": "code",
    "id": "XPs164bL4loQ",
    "outputId": "1d1ab9e4-11c7-4b07-c102-828723504a36"
   },
   "outputs": [
    {
     "name": "stdout",
     "output_type": "stream",
     "text": [
      "1250 250\n"
     ]
    }
   ],
   "source": [
    "# Train and test image paths\n",
    "train_images = list(paths.list_images(\"imagenet-5-categories/train\"))\n",
    "test_images = list(paths.list_images(\"imagenet-5-categories/test\"))\n",
    "print(len(train_images), len(test_images))"
   ]
  },
  {
   "cell_type": "code",
   "execution_count": 6,
   "metadata": {
    "colab": {},
    "colab_type": "code",
    "id": "eOLU3Y224oXl"
   },
   "outputs": [],
   "source": [
    "def prepare_images(image_paths):\n",
    "    images = []\n",
    "    labels = []\n",
    "\n",
    "    for image in tqdm(image_paths):\n",
    "        image_pixels = plt.imread(image)\n",
    "        image_pixels = cv2.resize(image_pixels, (224, 224))\n",
    "        image_pixels = image_pixels/255.\n",
    "\n",
    "        label = image.split(\"/\")[2].split(\"_\")[0]\n",
    "\n",
    "        images.append(image_pixels)\n",
    "        labels.append(label)\n",
    "\n",
    "    images = np.array(images)\n",
    "    labels = np.array(labels)\n",
    "\n",
    "    print(images.shape, labels.shape)\n",
    "\n",
    "    return images, labels"
   ]
  },
  {
   "cell_type": "code",
   "execution_count": 7,
   "metadata": {
    "colab": {
     "base_uri": "https://localhost:8080/",
     "height": 85
    },
    "colab_type": "code",
    "id": "cWMYKwiW40f6",
    "outputId": "0cb0cc0c-6c12-4a1e-a5c5-b08af3eb3d3d"
   },
   "outputs": [
    {
     "name": "stderr",
     "output_type": "stream",
     "text": [
      "100%|██████████| 1250/1250 [00:06<00:00, 195.36it/s]\n",
      "  6%|▋         | 16/250 [00:00<00:01, 158.56it/s]"
     ]
    },
    {
     "name": "stdout",
     "output_type": "stream",
     "text": [
      "(1250, 224, 224, 3) (1250,)\n"
     ]
    },
    {
     "name": "stderr",
     "output_type": "stream",
     "text": [
      "100%|██████████| 250/250 [00:01<00:00, 210.13it/s]\n"
     ]
    },
    {
     "name": "stdout",
     "output_type": "stream",
     "text": [
      "(250, 224, 224, 3) (250,)\n"
     ]
    }
   ],
   "source": [
    "X_train, y_train = prepare_images(train_images)\n",
    "X_test, y_test = prepare_images(test_images)"
   ]
  },
  {
   "cell_type": "code",
   "execution_count": 8,
   "metadata": {
    "colab": {},
    "colab_type": "code",
    "id": "0hbCPZRP45aJ"
   },
   "outputs": [],
   "source": [
    "le = LabelEncoder()\n",
    "y_train_enc = le.fit_transform(y_train)\n",
    "y_test_enc = le.transform(y_test)"
   ]
  },
  {
   "cell_type": "code",
   "execution_count": 9,
   "metadata": {
    "colab": {},
    "colab_type": "code",
    "id": "KPT9-NWT6Q5p"
   },
   "outputs": [],
   "source": [
    "# Set up TensorFlow dataset for performance optimization\n",
    "\n",
    "AUTO = tf.data.experimental.AUTOTUNE\n",
    "BATCH_SIZE = 64\n",
    "\n",
    "train_ds = (\n",
    "    tf.data.Dataset.from_tensor_slices((X_train, y_train_enc))\n",
    "    .shuffle(1024)\n",
    "    .batch(BATCH_SIZE)\n",
    "    .prefetch(AUTO)\n",
    ")\n",
    "\n",
    "test_ds = (\n",
    "    tf.data.Dataset.from_tensor_slices((X_test, y_test_enc))\n",
    "    .shuffle(1024)\n",
    "    .batch(BATCH_SIZE)\n",
    "    .prefetch(AUTO)\n",
    ")"
   ]
  },
  {
   "cell_type": "markdown",
   "metadata": {
    "colab_type": "text",
    "id": "p-bth_5SeUcC"
   },
   "source": [
    "## Utilities"
   ]
  },
  {
   "cell_type": "code",
   "execution_count": 10,
   "metadata": {
    "colab": {},
    "colab_type": "code",
    "id": "r3mCu1yI49fT"
   },
   "outputs": [],
   "source": [
    "# Architecture utils\n",
    "def get_resnet(trainable=True):\n",
    "    base_model = tf.keras.applications.ResNet50(include_top=False, weights=None, input_shape=(224, 224, 3))\n",
    "    base_model.trainable = trainable\n",
    "    \n",
    "    inputs = Input((224, 224, 3))\n",
    "    features = base_model(inputs, training=True)\n",
    "    pooled_features = GlobalAveragePooling2D()(features)\n",
    "\n",
    "    outputs = Dense(5, activation=\"softmax\")(pooled_features)\n",
    "\n",
    "    resnet_simclr = Model(inputs, outputs)\n",
    "\n",
    "    return resnet_simclr"
   ]
  },
  {
   "cell_type": "code",
   "execution_count": 11,
   "metadata": {
    "colab": {},
    "colab_type": "code",
    "id": "NBrNUWWp6F5Q"
   },
   "outputs": [],
   "source": [
    "def plot_training(H):\n",
    "\twith plt.xkcd():\n",
    "\t\tplt.plot(H.history[\"loss\"], label=\"train_loss\")\n",
    "\t\tplt.plot(H.history[\"val_loss\"], label=\"val_loss\")\n",
    "\t\tplt.plot(H.history[\"accuracy\"], label=\"train_acc\")\n",
    "\t\tplt.plot(H.history[\"val_accuracy\"], label=\"val_acc\")\n",
    "\t\tplt.title(\"Training Loss and Accuracy\")\n",
    "\t\tplt.xlabel(\"Epoch #\")\n",
    "\t\tplt.ylabel(\"Loss/Accuracy\")\n",
    "\t\tplt.legend(loc=\"lower left\")\n",
    "\t\tplt.show()"
   ]
  },
  {
   "cell_type": "markdown",
   "metadata": {
    "colab_type": "text",
    "id": "p1WyaOnoeY2R"
   },
   "source": [
    "## Training"
   ]
  },
  {
   "cell_type": "code",
   "execution_count": 12,
   "metadata": {
    "colab": {},
    "colab_type": "code",
    "id": "Df8sYNoq6LoS"
   },
   "outputs": [],
   "source": [
    "# Early Stopping to prevent overfitting\n",
    "es = tf.keras.callbacks.EarlyStopping(monitor=\"val_loss\", patience=2, verbose=2, restore_best_weights=True)"
   ]
  },
  {
   "cell_type": "code",
   "execution_count": 13,
   "metadata": {
    "colab": {
     "base_uri": "https://localhost:8080/",
     "height": 289
    },
    "colab_type": "code",
    "id": "fG_OQZ1j55iG",
    "outputId": "7a1a282e-782b-42af-8a99-218c29e45355"
   },
   "outputs": [
    {
     "name": "stdout",
     "output_type": "stream",
     "text": [
      "Model: \"functional_1\"\n",
      "_________________________________________________________________\n",
      "Layer (type)                 Output Shape              Param #   \n",
      "=================================================================\n",
      "input_2 (InputLayer)         [(None, 224, 224, 3)]     0         \n",
      "_________________________________________________________________\n",
      "resnet50 (Functional)        (None, 7, 7, 2048)        23587712  \n",
      "_________________________________________________________________\n",
      "global_average_pooling2d (Gl (None, 2048)              0         \n",
      "_________________________________________________________________\n",
      "dense (Dense)                (None, 5)                 10245     \n",
      "=================================================================\n",
      "Total params: 23,597,957\n",
      "Trainable params: 23,544,837\n",
      "Non-trainable params: 53,120\n",
      "_________________________________________________________________\n"
     ]
    }
   ],
   "source": [
    "get_resnet(trainable=True).summary()"
   ]
  },
  {
   "cell_type": "code",
   "execution_count": 14,
   "metadata": {
    "colab": {
     "base_uri": "https://localhost:8080/",
     "height": 677
    },
    "colab_type": "code",
    "id": "vHVEJ6Li6Eo8",
    "outputId": "86a5601d-b1b7-4db2-8d28-44fe8fed7563"
   },
   "outputs": [
    {
     "name": "stdout",
     "output_type": "stream",
     "text": [
      "Epoch 1/200\n",
      "20/20 [==============================] - 9s 457ms/step - loss: 2.4271 - accuracy: 0.3824 - val_loss: 1.4984 - val_accuracy: 0.4520\n",
      "Epoch 2/200\n",
      "20/20 [==============================] - 7s 362ms/step - loss: 1.2276 - accuracy: 0.5680 - val_loss: 1.3089 - val_accuracy: 0.5240\n",
      "Epoch 3/200\n",
      "20/20 [==============================] - 7s 364ms/step - loss: 1.0662 - accuracy: 0.6240 - val_loss: 1.2114 - val_accuracy: 0.5880\n",
      "Epoch 4/200\n",
      "20/20 [==============================] - 7s 362ms/step - loss: 0.9359 - accuracy: 0.6368 - val_loss: 1.1134 - val_accuracy: 0.6160\n",
      "Epoch 5/200\n",
      "20/20 [==============================] - 7s 354ms/step - loss: 0.9262 - accuracy: 0.6416 - val_loss: 1.1718 - val_accuracy: 0.6080\n",
      "Epoch 6/200\n",
      "20/20 [==============================] - 7s 361ms/step - loss: 0.7560 - accuracy: 0.7208 - val_loss: 1.0796 - val_accuracy: 0.6480\n",
      "Epoch 7/200\n",
      "20/20 [==============================] - 7s 361ms/step - loss: 0.7061 - accuracy: 0.7456 - val_loss: 1.0475 - val_accuracy: 0.6520\n",
      "Epoch 8/200\n",
      "20/20 [==============================] - 7s 362ms/step - loss: 0.6750 - accuracy: 0.7544 - val_loss: 0.8808 - val_accuracy: 0.6760\n",
      "Epoch 9/200\n",
      "20/20 [==============================] - 7s 355ms/step - loss: 0.5898 - accuracy: 0.7752 - val_loss: 0.9413 - val_accuracy: 0.6800\n",
      "Epoch 10/200\n",
      "20/20 [==============================] - ETA: 0s - loss: 0.5510 - accuracy: 0.8072Restoring model weights from the end of the best epoch.\n",
      "20/20 [==============================] - 7s 359ms/step - loss: 0.5510 - accuracy: 0.8072 - val_loss: 1.0426 - val_accuracy: 0.6440\n",
      "Epoch 00010: early stopping\n"
     ]
    },
    {
     "data": {
      "image/png": "[encoded data removed]",
      "text/plain": [
       "<Figure size 432x288 with 1 Axes>"
      ]
     },
     "metadata": {
      "tags": []
     },
     "output_type": "display_data"
    }
   ],
   "source": [
    "# Train the supervised model with full data\n",
    "model = get_resnet()\n",
    "model.compile(loss=\"sparse_categorical_crossentropy\", metrics=[\"accuracy\"],\n",
    "              optimizer=tf.keras.optimizers.Adam())\n",
    "history = model.fit(train_ds,\n",
    "                    validation_data=test_ds,\n",
    "                    epochs=200,\n",
    "                    callbacks=[es])\n",
    "plot_training(history)"
   ]
  }
 ],
 "metadata": {
  "accelerator": "GPU",
  "colab": {
   "include_colab_link": true,
   "name": "scratchpad",
   "provenance": []
  },
  "kernelspec": {
   "display_name": "Python 3",
   "language": "python",
   "name": "python3"
  },
  "language_info": {
   "codemirror_mode": {
    "name": "ipython",
    "version": 3
   },
   "file_extension": ".py",
   "mimetype": "text/x-python",
   "name": "python",
   "nbconvert_exporter": "python",
   "pygments_lexer": "ipython3",
   "version": "3.7.1"
  }
 },
 "nbformat": 4,
 "nbformat_minor": 1
}
