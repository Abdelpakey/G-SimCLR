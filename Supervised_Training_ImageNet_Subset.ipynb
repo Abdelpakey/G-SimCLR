{
  "nbformat": 4,
  "nbformat_minor": 0,
  "metadata": {
    "colab": {
      "name": "scratchpad",
      "provenance": [],
      "include_colab_link": true
    },
    "kernelspec": {
      "display_name": "Python 3",
      "name": "python3"
    },
    "accelerator": "GPU"
  },
  "cells": [
    {
      "cell_type": "markdown",
      "metadata": {
        "id": "view-in-github",
        "colab_type": "text"
      },
      "source": [
        "<a href=\"https://colab.research.google.com/github/ariG23498/SimCLR_PseudoLabel/blob/master/Supervised_Training_ImageNet_Subset.ipynb\" target=\"_parent\"><img src=\"https://colab.research.google.com/assets/colab-badge.svg\" alt=\"Open In Colab\"/></a>"
      ]
    },
    {
      "cell_type": "markdown",
      "metadata": {
        "id": "OJy-Q5dmd85v",
        "colab_type": "text"
      },
      "source": [
        "## Initial setup"
      ]
    },
    {
      "cell_type": "code",
      "metadata": {
        "colab_type": "code",
        "id": "lIYdn1woOS1n",
        "colab": {
          "base_uri": "https://localhost:8080/",
          "height": 34
        },
        "outputId": "98ee242e-f3ad-46cd-b1ad-5b411312795e"
      },
      "source": [
        "import tensorflow as tf\n",
        "print(tf.__version__)"
      ],
      "execution_count": 1,
      "outputs": [
        {
          "output_type": "stream",
          "text": [
            "2.3.0\n"
          ],
          "name": "stdout"
        }
      ]
    },
    {
      "cell_type": "code",
      "metadata": {
        "id": "uckwlGeh4UxH",
        "colab_type": "code",
        "colab": {
          "base_uri": "https://localhost:8080/",
          "height": 357
        },
        "outputId": "ca0a4254-3ef9-4892-88e6-d790efba6554"
      },
      "source": [
        "!nvidia-smi"
      ],
      "execution_count": 2,
      "outputs": [
        {
          "output_type": "stream",
          "text": [
            "Thu Aug 20 14:17:16 2020       \n",
            "+-----------------------------------------------------------------------------+\n",
            "| NVIDIA-SMI 450.57       Driver Version: 418.67       CUDA Version: 10.1     |\n",
            "|-------------------------------+----------------------+----------------------+\n",
            "| GPU  Name        Persistence-M| Bus-Id        Disp.A | Volatile Uncorr. ECC |\n",
            "| Fan  Temp  Perf  Pwr:Usage/Cap|         Memory-Usage | GPU-Util  Compute M. |\n",
            "|                               |                      |               MIG M. |\n",
            "|===============================+======================+======================|\n",
            "|   0  Tesla K80           Off  | 00000000:00:04.0 Off |                    0 |\n",
            "| N/A   46C    P8    28W / 149W |      0MiB / 11441MiB |      0%      Default |\n",
            "|                               |                      |                 ERR! |\n",
            "+-------------------------------+----------------------+----------------------+\n",
            "                                                                               \n",
            "+-----------------------------------------------------------------------------+\n",
            "| Processes:                                                                  |\n",
            "|  GPU   GI   CI        PID   Type   Process name                  GPU Memory |\n",
            "|        ID   ID                                                   Usage      |\n",
            "|=============================================================================|\n",
            "|  No running processes found                                                 |\n",
            "+-----------------------------------------------------------------------------+\n"
          ],
          "name": "stdout"
        }
      ]
    },
    {
      "cell_type": "code",
      "metadata": {
        "id": "dtBEZR3b4Zo7",
        "colab_type": "code",
        "colab": {}
      },
      "source": [
        "# Other imports\n",
        "from sklearn.preprocessing import LabelEncoder\n",
        "from tensorflow.keras.layers import *\n",
        "from tensorflow.keras.models import *\n",
        "import matplotlib.pyplot as plt\n",
        "from imutils import paths\n",
        "from tqdm import tqdm\n",
        "import tensorflow as tf\n",
        "import numpy as np\n",
        "import cv2\n",
        "\n",
        "# Random seed fixation\n",
        "tf.random.set_seed(666)\n",
        "np.random.seed(666)"
      ],
      "execution_count": 3,
      "outputs": []
    },
    {
      "cell_type": "markdown",
      "metadata": {
        "id": "Umc5UxD6eCln",
        "colab_type": "text"
      },
      "source": [
        "## Dataset gathering and preparation"
      ]
    },
    {
      "cell_type": "code",
      "metadata": {
        "id": "9mG6EaYR4XTN",
        "colab_type": "code",
        "colab": {
          "base_uri": "https://localhost:8080/",
          "height": 34
        },
        "outputId": "3c5ce4f7-e2ef-437d-910c-6b76b9c4d25c"
      },
      "source": [
        "# Gather dataset\n",
        "!git clone https://github.com/thunderInfy/imagenet-5-categories"
      ],
      "execution_count": 4,
      "outputs": [
        {
          "output_type": "stream",
          "text": [
            "fatal: destination path 'imagenet-5-categories' already exists and is not an empty directory.\n"
          ],
          "name": "stdout"
        }
      ]
    },
    {
      "cell_type": "code",
      "metadata": {
        "id": "XPs164bL4loQ",
        "colab_type": "code",
        "colab": {
          "base_uri": "https://localhost:8080/",
          "height": 34
        },
        "outputId": "7e9cf8d3-058b-4406-bbe2-9f7c01f69f7d"
      },
      "source": [
        "# Train and test image paths\n",
        "train_images = list(paths.list_images(\"imagenet-5-categories/train\"))\n",
        "test_images = list(paths.list_images(\"imagenet-5-categories/test\"))\n",
        "print(len(train_images), len(test_images))"
      ],
      "execution_count": 5,
      "outputs": [
        {
          "output_type": "stream",
          "text": [
            "1250 250\n"
          ],
          "name": "stdout"
        }
      ]
    },
    {
      "cell_type": "code",
      "metadata": {
        "id": "eOLU3Y224oXl",
        "colab_type": "code",
        "colab": {}
      },
      "source": [
        "def prepare_images(image_paths):\n",
        "    images = []\n",
        "    labels = []\n",
        "\n",
        "    for image in tqdm(image_paths):\n",
        "        image_pixels = plt.imread(image)\n",
        "        image_pixels = cv2.resize(image_pixels, (224, 224))\n",
        "        image_pixels = image_pixels/255.\n",
        "\n",
        "        label = image.split(\"/\")[2].split(\"_\")[0]\n",
        "\n",
        "        images.append(image_pixels)\n",
        "        labels.append(label)\n",
        "\n",
        "    images = np.array(images)\n",
        "    labels = np.array(labels)\n",
        "\n",
        "    print(images.shape, labels.shape)\n",
        "\n",
        "    return images, labels"
      ],
      "execution_count": 6,
      "outputs": []
    },
    {
      "cell_type": "code",
      "metadata": {
        "id": "cWMYKwiW40f6",
        "colab_type": "code",
        "colab": {
          "base_uri": "https://localhost:8080/",
          "height": 85
        },
        "outputId": "adb0c8f8-4036-44b9-9951-f1d3f4cad617"
      },
      "source": [
        "X_train, y_train = prepare_images(train_images)\n",
        "X_test, y_test = prepare_images(test_images)"
      ],
      "execution_count": 7,
      "outputs": [
        {
          "output_type": "stream",
          "text": [
            "100%|██████████| 1250/1250 [00:07<00:00, 168.97it/s]\n",
            "  4%|▎         | 9/250 [00:00<00:02, 81.34it/s]"
          ],
          "name": "stderr"
        },
        {
          "output_type": "stream",
          "text": [
            "(1250, 224, 224, 3) (1250,)\n"
          ],
          "name": "stdout"
        },
        {
          "output_type": "stream",
          "text": [
            "100%|██████████| 250/250 [00:01<00:00, 168.89it/s]\n"
          ],
          "name": "stderr"
        },
        {
          "output_type": "stream",
          "text": [
            "(250, 224, 224, 3) (250,)\n"
          ],
          "name": "stdout"
        }
      ]
    },
    {
      "cell_type": "code",
      "metadata": {
        "id": "0hbCPZRP45aJ",
        "colab_type": "code",
        "colab": {}
      },
      "source": [
        "le = LabelEncoder()\n",
        "y_train_enc = le.fit_transform(y_train)\n",
        "y_test_enc = le.transform(y_test)"
      ],
      "execution_count": 8,
      "outputs": []
    },
    {
      "cell_type": "code",
      "metadata": {
        "id": "KPT9-NWT6Q5p",
        "colab_type": "code",
        "colab": {}
      },
      "source": [
        "# Set up TensorFlow dataset for performance optimization\n",
        "\n",
        "AUTO = tf.data.experimental.AUTOTUNE\n",
        "BATCH_SIZE = 64\n",
        "\n",
        "train_ds = (\n",
        "    tf.data.Dataset.from_tensor_slices((X_train, y_train_enc))\n",
        "    .shuffle(1024)\n",
        "    .batch(BATCH_SIZE)\n",
        "    .prefetch(AUTO)\n",
        ")\n",
        "\n",
        "test_ds = (\n",
        "    tf.data.Dataset.from_tensor_slices((X_test, y_test_enc))\n",
        "    .shuffle(1024)\n",
        "    .batch(BATCH_SIZE)\n",
        "    .prefetch(AUTO)\n",
        ")"
      ],
      "execution_count": 9,
      "outputs": []
    },
    {
      "cell_type": "markdown",
      "metadata": {
        "id": "p-bth_5SeUcC",
        "colab_type": "text"
      },
      "source": [
        "## Utilities"
      ]
    },
    {
      "cell_type": "code",
      "metadata": {
        "id": "r3mCu1yI49fT",
        "colab_type": "code",
        "colab": {}
      },
      "source": [
        "# Architecture utils\n",
        "def get_resnet(trainable=True):\n",
        "    base_model = tf.keras.applications.ResNet50(include_top=False, weights=None, input_shape=(224, 224, 3))\n",
        "    base_model.trainable = trainable\n",
        "    \n",
        "    inputs = Input((224, 224, 3))\n",
        "    features = base_model(inputs, training=False)\n",
        "    pooled_features = GlobalAveragePooling2D()(features)\n",
        "\n",
        "    outputs = Dense(5, activation=\"softmax\")(pooled_features)\n",
        "\n",
        "    resnet_simclr = Model(inputs, outputs)\n",
        "\n",
        "    return resnet_simclr"
      ],
      "execution_count": 15,
      "outputs": []
    },
    {
      "cell_type": "code",
      "metadata": {
        "id": "NBrNUWWp6F5Q",
        "colab_type": "code",
        "colab": {}
      },
      "source": [
        "def plot_training(H):\n",
        "\twith plt.xkcd():\n",
        "\t\tplt.plot(H.history[\"loss\"], label=\"train_loss\")\n",
        "\t\tplt.plot(H.history[\"val_loss\"], label=\"val_loss\")\n",
        "\t\tplt.plot(H.history[\"accuracy\"], label=\"train_acc\")\n",
        "\t\tplt.plot(H.history[\"val_accuracy\"], label=\"val_acc\")\n",
        "\t\tplt.title(\"Training Loss and Accuracy\")\n",
        "\t\tplt.xlabel(\"Epoch #\")\n",
        "\t\tplt.ylabel(\"Loss/Accuracy\")\n",
        "\t\tplt.legend(loc=\"lower left\")\n",
        "\t\tplt.show()"
      ],
      "execution_count": 16,
      "outputs": []
    },
    {
      "cell_type": "markdown",
      "metadata": {
        "id": "p1WyaOnoeY2R",
        "colab_type": "text"
      },
      "source": [
        "## Training"
      ]
    },
    {
      "cell_type": "code",
      "metadata": {
        "id": "Df8sYNoq6LoS",
        "colab_type": "code",
        "colab": {}
      },
      "source": [
        "# Early Stopping to prevent overfitting\n",
        "es = tf.keras.callbacks.EarlyStopping(monitor=\"val_loss\", patience=2, verbose=2, restore_best_weights=True)"
      ],
      "execution_count": 17,
      "outputs": []
    },
    {
      "cell_type": "code",
      "metadata": {
        "id": "fG_OQZ1j55iG",
        "colab_type": "code",
        "colab": {
          "base_uri": "https://localhost:8080/",
          "height": 289
        },
        "outputId": "4fc69de4-c4d9-4a5c-92c3-b18a2a47ad9c"
      },
      "source": [
        "get_resnet(trainable=True).summary()"
      ],
      "execution_count": 18,
      "outputs": [
        {
          "output_type": "stream",
          "text": [
            "Model: \"functional_5\"\n",
            "_________________________________________________________________\n",
            "Layer (type)                 Output Shape              Param #   \n",
            "=================================================================\n",
            "input_6 (InputLayer)         [(None, 224, 224, 3)]     0         \n",
            "_________________________________________________________________\n",
            "resnet50 (Functional)        (None, 7, 7, 2048)        23587712  \n",
            "_________________________________________________________________\n",
            "global_average_pooling2d_2 ( (None, 2048)              0         \n",
            "_________________________________________________________________\n",
            "dense_2 (Dense)              (None, 5)                 10245     \n",
            "=================================================================\n",
            "Total params: 23,597,957\n",
            "Trainable params: 23,544,837\n",
            "Non-trainable params: 53,120\n",
            "_________________________________________________________________\n"
          ],
          "name": "stdout"
        }
      ]
    },
    {
      "cell_type": "code",
      "metadata": {
        "id": "vHVEJ6Li6Eo8",
        "colab_type": "code",
        "colab": {
          "base_uri": "https://localhost:8080/",
          "height": 748
        },
        "outputId": "35cae880-14c5-4b5a-f7b9-286de96af207"
      },
      "source": [
        "# Train the supervised model with full data\n",
        "model = get_resnet()\n",
        "model.compile(loss=\"sparse_categorical_crossentropy\", metrics=[\"accuracy\"],\n",
        "              optimizer=tf.keras.optimizers.Adam())\n",
        "history = model.fit(train_ds,\n",
        "                    validation_data=test_ds,\n",
        "                    epochs=200,\n",
        "                    callbacks=[es])\n",
        "plot_training(history)"
      ],
      "execution_count": 20,
      "outputs": [
        {
          "output_type": "stream",
          "text": [
            "Epoch 1/200\n",
            " 2/20 [==>...........................] - ETA: 11s - loss: 7.6557 - accuracy: 0.2188WARNING:tensorflow:Callbacks method `on_train_batch_end` is slow compared to the batch time (batch time: 0.4449s vs `on_train_batch_end` time: 0.8316s). Check your callbacks.\n",
            "20/20 [==============================] - 28s 1s/step - loss: 2.2227 - accuracy: 0.2184 - val_loss: 1.6200 - val_accuracy: 0.2000\n",
            "Epoch 2/200\n",
            "20/20 [==============================] - 26s 1s/step - loss: 1.6126 - accuracy: 0.2224 - val_loss: 1.5997 - val_accuracy: 0.3400\n",
            "Epoch 3/200\n",
            "20/20 [==============================] - 25s 1s/step - loss: 1.6088 - accuracy: 0.2080 - val_loss: 1.6002 - val_accuracy: 0.1960\n",
            "Epoch 4/200\n",
            "20/20 [==============================] - 25s 1s/step - loss: 1.5901 - accuracy: 0.2632 - val_loss: 1.5988 - val_accuracy: 0.2240\n",
            "Epoch 5/200\n",
            "20/20 [==============================] - 26s 1s/step - loss: 1.5490 - accuracy: 0.2688 - val_loss: 1.5326 - val_accuracy: 0.2760\n",
            "Epoch 6/200\n",
            "20/20 [==============================] - 25s 1s/step - loss: 1.4604 - accuracy: 0.3400 - val_loss: 1.3808 - val_accuracy: 0.3440\n",
            "Epoch 7/200\n",
            "20/20 [==============================] - 26s 1s/step - loss: 1.4578 - accuracy: 0.3432 - val_loss: 1.3162 - val_accuracy: 0.4160\n",
            "Epoch 8/200\n",
            "20/20 [==============================] - 25s 1s/step - loss: 1.4149 - accuracy: 0.4064 - val_loss: 1.3049 - val_accuracy: 0.4600\n",
            "Epoch 9/200\n",
            "20/20 [==============================] - 25s 1s/step - loss: 1.3402 - accuracy: 0.4320 - val_loss: 1.2629 - val_accuracy: 0.4760\n",
            "Epoch 10/200\n",
            "20/20 [==============================] - 25s 1s/step - loss: 1.3088 - accuracy: 0.4352 - val_loss: 1.2674 - val_accuracy: 0.4640\n",
            "Epoch 11/200\n",
            "20/20 [==============================] - ETA: 0s - loss: 1.2390 - accuracy: 0.4856Restoring model weights from the end of the best epoch.\n",
            "20/20 [==============================] - 25s 1s/step - loss: 1.2390 - accuracy: 0.4856 - val_loss: 1.2789 - val_accuracy: 0.4120\n",
            "Epoch 00011: early stopping\n"
          ],
          "name": "stdout"
        },
        {
          "output_type": "display_data",
          "data": {
            "image/png": "[encoded data removed]",
            "text/plain": [
              "<Figure size 432x288 with 1 Axes>"
            ]
          },
          "metadata": {
            "tags": []
          }
        }
      ]
    }
  ]
}