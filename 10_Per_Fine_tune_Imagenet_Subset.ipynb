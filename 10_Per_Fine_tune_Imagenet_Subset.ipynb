{
  "nbformat": 4,
  "nbformat_minor": 0,
  "metadata": {
    "accelerator": "GPU",
    "colab": {
      "name": "scratchpad",
      "provenance": [],
      "include_colab_link": true
    },
    "kernelspec": {
      "display_name": "Python 3",
      "language": "python",
      "name": "python3"
    },
    "language_info": {
      "codemirror_mode": {
        "name": "ipython",
        "version": 3
      },
      "file_extension": ".py",
      "mimetype": "text/x-python",
      "name": "python",
      "nbconvert_exporter": "python",
      "pygments_lexer": "ipython3",
      "version": "3.7.1"
    }
  },
  "cells": [
    {
      "cell_type": "markdown",
      "metadata": {
        "id": "view-in-github",
        "colab_type": "text"
      },
      "source": [
        "<a href=\"https://colab.research.google.com/github/ariG23498/SimCLR_PseudoLabel/blob/master/10_Per_Fine_tune_Imagenet_Subset.ipynb\" target=\"_parent\"><img src=\"https://colab.research.google.com/assets/colab-badge.svg\" alt=\"Open In Colab\"/></a>"
      ]
    },
    {
      "cell_type": "markdown",
      "metadata": {
        "id": "7ck3ljcss8R2",
        "colab_type": "text"
      },
      "source": [
        "## Initial setup"
      ]
    },
    {
      "cell_type": "code",
      "metadata": {
        "colab_type": "code",
        "id": "lIYdn1woOS1n",
        "colab": {
          "base_uri": "https://localhost:8080/",
          "height": 34
        },
        "outputId": "8a596fb5-140c-4bef-9e65-dc710df5998a"
      },
      "source": [
        "import tensorflow as tf\n",
        "print(tf.__version__)"
      ],
      "execution_count": 1,
      "outputs": [
        {
          "output_type": "stream",
          "text": [
            "2.3.0\n"
          ],
          "name": "stdout"
        }
      ]
    },
    {
      "cell_type": "code",
      "metadata": {
        "colab_type": "code",
        "id": "M3obU9ZXpGR0",
        "colab": {
          "base_uri": "https://localhost:8080/",
          "height": 357
        },
        "outputId": "35c542a7-60de-46a4-d71f-0f3f720de44b"
      },
      "source": [
        "!nvidia-smi"
      ],
      "execution_count": 2,
      "outputs": [
        {
          "output_type": "stream",
          "text": [
            "Thu Aug 20 13:53:18 2020       \n",
            "+-----------------------------------------------------------------------------+\n",
            "| NVIDIA-SMI 450.57       Driver Version: 418.67       CUDA Version: 10.1     |\n",
            "|-------------------------------+----------------------+----------------------+\n",
            "| GPU  Name        Persistence-M| Bus-Id        Disp.A | Volatile Uncorr. ECC |\n",
            "| Fan  Temp  Perf  Pwr:Usage/Cap|         Memory-Usage | GPU-Util  Compute M. |\n",
            "|                               |                      |               MIG M. |\n",
            "|===============================+======================+======================|\n",
            "|   0  Tesla T4            Off  | 00000000:00:04.0 Off |                    0 |\n",
            "| N/A   63C    P8    11W /  70W |      0MiB / 15079MiB |      0%      Default |\n",
            "|                               |                      |                 ERR! |\n",
            "+-------------------------------+----------------------+----------------------+\n",
            "                                                                               \n",
            "+-----------------------------------------------------------------------------+\n",
            "| Processes:                                                                  |\n",
            "|  GPU   GI   CI        PID   Type   Process name                  GPU Memory |\n",
            "|        ID   ID                                                   Usage      |\n",
            "|=============================================================================|\n",
            "|  No running processes found                                                 |\n",
            "+-----------------------------------------------------------------------------+\n"
          ],
          "name": "stdout"
        }
      ]
    },
    {
      "cell_type": "markdown",
      "metadata": {
        "id": "hhE3wbuUtJC3",
        "colab_type": "text"
      },
      "source": [
        "### Restoring model weights from GCS Bucket"
      ]
    },
    {
      "cell_type": "code",
      "metadata": {
        "colab_type": "code",
        "id": "JoQSrT6gpbNM",
        "scrolled": true,
        "colab": {
          "base_uri": "https://localhost:8080/",
          "height": 204
        },
        "outputId": "5bd937f3-7deb-4b76-aaf6-32cffc2c3ec3"
      },
      "source": [
        "!wget https://storage.googleapis.com/resnet-simclr-pseudo-labels/resnet_simclr_modified_ae.h5"
      ],
      "execution_count": 3,
      "outputs": [
        {
          "output_type": "stream",
          "text": [
            "--2020-08-20 13:53:21--  https://storage.googleapis.com/resnet-simclr-pseudo-labels/resnet_simclr_modified_ae.h5\n",
            "Resolving storage.googleapis.com (storage.googleapis.com)... 74.125.20.128, 108.177.98.128, 74.125.142.128, ...\n",
            "Connecting to storage.googleapis.com (storage.googleapis.com)|74.125.20.128|:443... connected.\n",
            "HTTP request sent, awaiting response... 200 OK\n",
            "Length: 96848264 (92M) [application/octet-stream]\n",
            "Saving to: ‘resnet_simclr_modified_ae.h5’\n",
            "\n",
            "\r          resnet_si   0%[                    ]       0  --.-KB/s               \r         resnet_sim  59%[==========>         ]  55.35M   277MB/s               \rresnet_simclr_modif 100%[===================>]  92.36M   312MB/s    in 0.3s    \n",
            "\n",
            "2020-08-20 13:53:21 (312 MB/s) - ‘resnet_simclr_modified_ae.h5’ saved [96848264/96848264]\n",
            "\n"
          ],
          "name": "stdout"
        }
      ]
    },
    {
      "cell_type": "code",
      "metadata": {
        "colab_type": "code",
        "id": "dCsK6zBRpmdo",
        "colab": {
          "base_uri": "https://localhost:8080/",
          "height": 51
        },
        "outputId": "3ed39658-cbb8-42c0-8ce0-2a8b81b75033"
      },
      "source": [
        "# Other imports\n",
        "from sklearn.preprocessing import LabelEncoder\n",
        "from tensorflow.keras.layers import *\n",
        "from tensorflow.keras.models import *\n",
        "import matplotlib.pyplot as plt\n",
        "from imutils import paths\n",
        "from tqdm import tqdm\n",
        "import tensorflow as tf\n",
        "import seaborn as sns\n",
        "import numpy as np\n",
        "import cv2\n",
        "\n",
        "# Random seed fixation\n",
        "tf.random.set_seed(666)\n",
        "np.random.seed(666)"
      ],
      "execution_count": 4,
      "outputs": [
        {
          "output_type": "stream",
          "text": [
            "/usr/local/lib/python3.6/dist-packages/statsmodels/tools/_testing.py:19: FutureWarning: pandas.util.testing is deprecated. Use the functions in the public API at pandas.testing instead.\n",
            "  import pandas.util.testing as tm\n"
          ],
          "name": "stderr"
        }
      ]
    },
    {
      "cell_type": "markdown",
      "metadata": {
        "id": "yP3vs53rs8SM",
        "colab_type": "text"
      },
      "source": [
        "## Dataset gathering and preparation"
      ]
    },
    {
      "cell_type": "code",
      "metadata": {
        "colab_type": "code",
        "id": "HJQZoWXYpjeN",
        "colab": {
          "base_uri": "https://localhost:8080/",
          "height": 102
        },
        "outputId": "06c80d4a-0e80-49d0-bcbc-a9e9bc9502af"
      },
      "source": [
        "# Gather dataset\n",
        "!git clone https://github.com/thunderInfy/imagenet-5-categories"
      ],
      "execution_count": 5,
      "outputs": [
        {
          "output_type": "stream",
          "text": [
            "Cloning into 'imagenet-5-categories'...\n",
            "remote: Enumerating objects: 1532, done.\u001b[K\n",
            "remote: Total 1532 (delta 0), reused 0 (delta 0), pack-reused 1532\u001b[K\n",
            "Receiving objects: 100% (1532/1532), 88.56 MiB | 34.80 MiB/s, done.\n",
            "Resolving deltas: 100% (1/1), done.\n"
          ],
          "name": "stdout"
        }
      ]
    },
    {
      "cell_type": "code",
      "metadata": {
        "colab_type": "code",
        "id": "2PRnOXCdppEg",
        "colab": {
          "base_uri": "https://localhost:8080/",
          "height": 34
        },
        "outputId": "37255c9a-08d6-4450-9f2d-65f4df9dbf93"
      },
      "source": [
        "# Train and test image paths\n",
        "train_images = list(paths.list_images(\"imagenet-5-categories/train\"))\n",
        "test_images = list(paths.list_images(\"imagenet-5-categories/test\"))\n",
        "print(len(train_images), len(test_images))"
      ],
      "execution_count": 6,
      "outputs": [
        {
          "output_type": "stream",
          "text": [
            "1250 250\n"
          ],
          "name": "stdout"
        }
      ]
    },
    {
      "cell_type": "code",
      "metadata": {
        "id": "J1bCPej7O7gq",
        "colab_type": "code",
        "colab": {
          "base_uri": "https://localhost:8080/",
          "height": 34
        },
        "outputId": "d5c858cb-aef7-49f1-8164-c830435d8f08"
      },
      "source": [
        "# 10% of the dataset\n",
        "train_images_10 = np.random.choice(train_images, len(train_images)//10)\n",
        "len(train_images_10)"
      ],
      "execution_count": 7,
      "outputs": [
        {
          "output_type": "execute_result",
          "data": {
            "text/plain": [
              "125"
            ]
          },
          "metadata": {
            "tags": []
          },
          "execution_count": 7
        }
      ]
    },
    {
      "cell_type": "code",
      "metadata": {
        "colab_type": "code",
        "id": "9giRP85TqizW",
        "colab": {}
      },
      "source": [
        "def prepare_images(image_paths):\n",
        "    images = []\n",
        "    labels = []\n",
        "\n",
        "    for image in tqdm(image_paths):\n",
        "        image_pixels = plt.imread(image)\n",
        "        image_pixels = cv2.resize(image_pixels, (224, 224))\n",
        "        image_pixels = image_pixels/255.\n",
        "\n",
        "        label = image.split(\"/\")[2].split(\"_\")[0]\n",
        "\n",
        "        images.append(image_pixels)\n",
        "        labels.append(label)\n",
        "\n",
        "    images = np.array(images)\n",
        "    labels = np.array(labels)\n",
        "\n",
        "    print(images.shape, labels.shape)\n",
        "\n",
        "    return images, labels"
      ],
      "execution_count": 8,
      "outputs": []
    },
    {
      "cell_type": "code",
      "metadata": {
        "colab_type": "code",
        "id": "YJL8IW6UsHkt",
        "colab": {
          "base_uri": "https://localhost:8080/",
          "height": 85
        },
        "outputId": "bd6a9d01-31a3-4364-8110-0499da93ac38"
      },
      "source": [
        "X_train, y_train = prepare_images(train_images_10)\n",
        "X_test, y_test = prepare_images(test_images)"
      ],
      "execution_count": 9,
      "outputs": [
        {
          "output_type": "stream",
          "text": [
            "100%|██████████| 125/125 [00:00<00:00, 197.57it/s]\n",
            "  6%|▌         | 14/250 [00:00<00:01, 136.31it/s]"
          ],
          "name": "stderr"
        },
        {
          "output_type": "stream",
          "text": [
            "(125, 224, 224, 3) (125,)\n"
          ],
          "name": "stdout"
        },
        {
          "output_type": "stream",
          "text": [
            "100%|██████████| 250/250 [00:01<00:00, 203.49it/s]\n"
          ],
          "name": "stderr"
        },
        {
          "output_type": "stream",
          "text": [
            "(250, 224, 224, 3) (250,)\n"
          ],
          "name": "stdout"
        }
      ]
    },
    {
      "cell_type": "code",
      "metadata": {
        "colab_type": "code",
        "id": "YAv47WlJvse5",
        "colab": {}
      },
      "source": [
        "le = LabelEncoder()\n",
        "y_train_enc = le.fit_transform(y_train)\n",
        "y_test_enc = le.transform(y_test)"
      ],
      "execution_count": 10,
      "outputs": []
    },
    {
      "cell_type": "markdown",
      "metadata": {
        "id": "vdM74W7Ws8Sl",
        "colab_type": "text"
      },
      "source": [
        "## Utilities"
      ]
    },
    {
      "cell_type": "code",
      "metadata": {
        "colab_type": "code",
        "id": "G8ha8pK7sSUO",
        "colab": {}
      },
      "source": [
        "# Architecture utils\n",
        "def get_resnet_simclr(hidden_1, hidden_2, hidden_3):\n",
        "    base_model = tf.keras.applications.ResNet50(include_top=False, weights=None, input_shape=(224, 224, 3))\n",
        "    base_model.trainable = True\n",
        "    inputs = Input((224, 224, 3))\n",
        "    h = base_model(inputs, training=False)\n",
        "    h = GlobalAveragePooling2D()(h)\n",
        "\n",
        "    projection_1 = Dense(hidden_1)(h)\n",
        "    projection_1 = Activation(\"relu\")(projection_1)\n",
        "    projection_2 = Dense(hidden_2)(projection_1)\n",
        "    projection_2 = Activation(\"relu\")(projection_2)\n",
        "    projection_3 = Dense(hidden_3)(projection_2)\n",
        "\n",
        "    resnet_simclr = Model(inputs, projection_3)\n",
        "\n",
        "    return resnet_simclr"
      ],
      "execution_count": 11,
      "outputs": []
    },
    {
      "cell_type": "code",
      "metadata": {
        "colab_type": "code",
        "id": "X0GklYB-sZYz",
        "colab": {
          "base_uri": "https://localhost:8080/",
          "height": 425
        },
        "outputId": "3ffa954c-d931-421b-8798-8249cb74898d"
      },
      "source": [
        "resnet_simclr = get_resnet_simclr(256, 128, 50)\n",
        "resnet_simclr.load_weights('resnet_simclr_modified_ae.h5')\n",
        "resnet_simclr.summary()"
      ],
      "execution_count": 12,
      "outputs": [
        {
          "output_type": "stream",
          "text": [
            "Model: \"functional_1\"\n",
            "_________________________________________________________________\n",
            "Layer (type)                 Output Shape              Param #   \n",
            "=================================================================\n",
            "input_2 (InputLayer)         [(None, 224, 224, 3)]     0         \n",
            "_________________________________________________________________\n",
            "resnet50 (Functional)        (None, 7, 7, 2048)        23587712  \n",
            "_________________________________________________________________\n",
            "global_average_pooling2d (Gl (None, 2048)              0         \n",
            "_________________________________________________________________\n",
            "dense (Dense)                (None, 256)               524544    \n",
            "_________________________________________________________________\n",
            "activation (Activation)      (None, 256)               0         \n",
            "_________________________________________________________________\n",
            "dense_1 (Dense)              (None, 128)               32896     \n",
            "_________________________________________________________________\n",
            "activation_1 (Activation)    (None, 128)               0         \n",
            "_________________________________________________________________\n",
            "dense_2 (Dense)              (None, 50)                6450      \n",
            "=================================================================\n",
            "Total params: 24,151,602\n",
            "Trainable params: 24,098,482\n",
            "Non-trainable params: 53,120\n",
            "_________________________________________________________________\n"
          ],
          "name": "stdout"
        }
      ]
    },
    {
      "cell_type": "code",
      "metadata": {
        "colab_type": "code",
        "id": "Z1tFKw-7ziaG",
        "colab": {}
      },
      "source": [
        "def plot_training(H):\n",
        "\twith plt.xkcd():\n",
        "\t\tplt.plot(H.history[\"loss\"], label=\"train_loss\")\n",
        "\t\tplt.plot(H.history[\"val_loss\"], label=\"val_loss\")\n",
        "\t\tplt.plot(H.history[\"accuracy\"], label=\"train_acc\")\n",
        "\t\tplt.plot(H.history[\"val_accuracy\"], label=\"val_acc\")\n",
        "\t\tplt.title(\"Training Loss and Accuracy\")\n",
        "\t\tplt.xlabel(\"Epoch #\")\n",
        "\t\tplt.ylabel(\"Loss/Accuracy\")\n",
        "\t\tplt.legend(loc=\"lower left\")\n",
        "\t\tplt.show()"
      ],
      "execution_count": 13,
      "outputs": []
    },
    {
      "cell_type": "code",
      "metadata": {
        "id": "wABibX9QNj3m",
        "colab_type": "code",
        "colab": {}
      },
      "source": [
        "# Encoder model with no projection\n",
        "extractor = Model(resnet_simclr.input, resnet_simclr.layers[-6].output) # weights are already loaded\n",
        "\n",
        "def get_training_model(trainable=False):\n",
        "    inputs = Input(shape=(224, 224, 3))\n",
        "    extractor.trainable = trainable\n",
        "    x = extractor(inputs, training=False)\n",
        "    x = Dense(5, activation=\"softmax\")(x)\n",
        "    classifier = Model(inputs=inputs, outputs=x)\n",
        "    \n",
        "    return classifier"
      ],
      "execution_count": 14,
      "outputs": []
    },
    {
      "cell_type": "code",
      "metadata": {
        "id": "vJGeNjgPPFSx",
        "colab_type": "code",
        "colab": {
          "base_uri": "https://localhost:8080/",
          "height": 255
        },
        "outputId": "a0778ad3-3f79-4e39-c3f0-c2e4006a6e18"
      },
      "source": [
        "model = get_training_model()\n",
        "model.summary()"
      ],
      "execution_count": 15,
      "outputs": [
        {
          "output_type": "stream",
          "text": [
            "Model: \"functional_5\"\n",
            "_________________________________________________________________\n",
            "Layer (type)                 Output Shape              Param #   \n",
            "=================================================================\n",
            "input_3 (InputLayer)         [(None, 224, 224, 3)]     0         \n",
            "_________________________________________________________________\n",
            "functional_3 (Functional)    (None, 2048)              23587712  \n",
            "_________________________________________________________________\n",
            "dense_3 (Dense)              (None, 5)                 10245     \n",
            "=================================================================\n",
            "Total params: 23,597,957\n",
            "Trainable params: 10,245\n",
            "Non-trainable params: 23,587,712\n",
            "_________________________________________________________________\n"
          ],
          "name": "stdout"
        }
      ]
    },
    {
      "cell_type": "markdown",
      "metadata": {
        "id": "_s0nfTYos8Sy",
        "colab_type": "text"
      },
      "source": [
        "## Warmup"
      ]
    },
    {
      "cell_type": "code",
      "metadata": {
        "id": "xW5d2wFwN_pd",
        "colab_type": "code",
        "colab": {}
      },
      "source": [
        "# Early Stopping to prevent overfitting\n",
        "es = tf.keras.callbacks.EarlyStopping(monitor=\"val_loss\", patience=2, verbose=2, restore_best_weights=True)"
      ],
      "execution_count": 16,
      "outputs": []
    },
    {
      "cell_type": "code",
      "metadata": {
        "colab_type": "code",
        "id": "qnNJ5BKPsj4u",
        "colab": {
          "base_uri": "https://localhost:8080/",
          "height": 609
        },
        "outputId": "d7465663-14a4-4b46-ee35-489d94909be8"
      },
      "source": [
        "model = get_training_model()\n",
        "\n",
        "model.compile(loss=\"sparse_categorical_crossentropy\", metrics=[\"accuracy\"],\n",
        "                     optimizer='adam')\n",
        "\n",
        "history = model.fit(X_train, y_train_enc,\n",
        "                 validation_data=(X_test, y_test_enc),\n",
        "                 batch_size=64,\n",
        "                 epochs=35,\n",
        "                 callbacks=[es])\n",
        "plot_training(history)"
      ],
      "execution_count": 17,
      "outputs": [
        {
          "output_type": "stream",
          "text": [
            "Epoch 1/35\n",
            "2/2 [==============================] - 3s 2s/step - loss: 2.5672 - accuracy: 0.2640 - val_loss: 2.3398 - val_accuracy: 0.1920\n",
            "Epoch 2/35\n",
            "2/2 [==============================] - 1s 548ms/step - loss: 2.0137 - accuracy: 0.2160 - val_loss: 1.7585 - val_accuracy: 0.3440\n",
            "Epoch 3/35\n",
            "2/2 [==============================] - 1s 551ms/step - loss: 1.5264 - accuracy: 0.4320 - val_loss: 1.5540 - val_accuracy: 0.3920\n",
            "Epoch 4/35\n",
            "2/2 [==============================] - 1s 552ms/step - loss: 1.2776 - accuracy: 0.4960 - val_loss: 1.2895 - val_accuracy: 0.4320\n",
            "Epoch 5/35\n",
            "2/2 [==============================] - 1s 479ms/step - loss: 1.1866 - accuracy: 0.5120 - val_loss: 1.3206 - val_accuracy: 0.4680\n",
            "Epoch 6/35\n",
            "2/2 [==============================] - 1s 538ms/step - loss: 1.1853 - accuracy: 0.5040 - val_loss: 1.2780 - val_accuracy: 0.4880\n",
            "Epoch 7/35\n",
            "2/2 [==============================] - 1s 486ms/step - loss: 1.0593 - accuracy: 0.6000 - val_loss: 1.3031 - val_accuracy: 0.4840\n",
            "Epoch 8/35\n",
            "2/2 [==============================] - ETA: 0s - loss: 1.0782 - accuracy: 0.5840Restoring model weights from the end of the best epoch.\n",
            "2/2 [==============================] - 1s 528ms/step - loss: 1.0782 - accuracy: 0.5840 - val_loss: 1.3056 - val_accuracy: 0.5000\n",
            "Epoch 00008: early stopping\n"
          ],
          "name": "stdout"
        },
        {
          "output_type": "display_data",
          "data": {
            "image/png": "[encoded data removed]",
            "text/plain": [
              "<Figure size 432x288 with 1 Axes>"
            ]
          },
          "metadata": {
            "tags": []
          }
        }
      ]
    },
    {
      "cell_type": "markdown",
      "metadata": {
        "id": "lxijydbDOuW4",
        "colab_type": "text"
      },
      "source": [
        "## Fine-tune"
      ]
    },
    {
      "cell_type": "code",
      "metadata": {
        "id": "cfR4lAk_J5c7",
        "colab_type": "code",
        "colab": {
          "base_uri": "https://localhost:8080/",
          "height": 255
        },
        "outputId": "69b49b63-4532-4768-ad1a-798f56f690d5"
      },
      "source": [
        "model.layers[1].trainable = True\n",
        "model.summary()"
      ],
      "execution_count": 18,
      "outputs": [
        {
          "output_type": "stream",
          "text": [
            "Model: \"functional_7\"\n",
            "_________________________________________________________________\n",
            "Layer (type)                 Output Shape              Param #   \n",
            "=================================================================\n",
            "input_4 (InputLayer)         [(None, 224, 224, 3)]     0         \n",
            "_________________________________________________________________\n",
            "functional_3 (Functional)    (None, 2048)              23587712  \n",
            "_________________________________________________________________\n",
            "dense_4 (Dense)              (None, 5)                 10245     \n",
            "=================================================================\n",
            "Total params: 23,597,957\n",
            "Trainable params: 23,544,837\n",
            "Non-trainable params: 53,120\n",
            "_________________________________________________________________\n"
          ],
          "name": "stdout"
        }
      ]
    },
    {
      "cell_type": "code",
      "metadata": {
        "colab_type": "code",
        "id": "1B9C0a6003-O",
        "colab": {
          "base_uri": "https://localhost:8080/",
          "height": 643
        },
        "outputId": "e9f3e519-fb01-4e9f-e6c8-dcddce1b8327"
      },
      "source": [
        "model.compile(loss=\"sparse_categorical_crossentropy\", metrics=[\"accuracy\"],\n",
        "                     optimizer=tf.keras.optimizers.Adam(1e-5)) # Low learning rate\n",
        "\n",
        "history = model.fit(X_train, y_train_enc,\n",
        "                 validation_data=(X_test, y_test_enc),\n",
        "                 batch_size=64,\n",
        "                 epochs=35,\n",
        "                 callbacks=[es])\n",
        "plot_training(history)"
      ],
      "execution_count": 19,
      "outputs": [
        {
          "output_type": "stream",
          "text": [
            "Epoch 1/35\n",
            "2/2 [==============================] - 3s 2s/step - loss: 1.0752 - accuracy: 0.6240 - val_loss: 1.2184 - val_accuracy: 0.4840\n",
            "Epoch 2/35\n",
            "2/2 [==============================] - 2s 789ms/step - loss: 0.9101 - accuracy: 0.7040 - val_loss: 1.1388 - val_accuracy: 0.5040\n",
            "Epoch 3/35\n",
            "2/2 [==============================] - 1s 736ms/step - loss: 0.8097 - accuracy: 0.6800 - val_loss: 1.1493 - val_accuracy: 0.4840\n",
            "Epoch 4/35\n",
            "2/2 [==============================] - 2s 789ms/step - loss: 0.7394 - accuracy: 0.7040 - val_loss: 1.1159 - val_accuracy: 0.5000\n",
            "Epoch 5/35\n",
            "2/2 [==============================] - 2s 805ms/step - loss: 0.6521 - accuracy: 0.7680 - val_loss: 1.0995 - val_accuracy: 0.5440\n",
            "Epoch 6/35\n",
            "2/2 [==============================] - 2s 811ms/step - loss: 0.5993 - accuracy: 0.8400 - val_loss: 1.0911 - val_accuracy: 0.5520\n",
            "Epoch 7/35\n",
            "2/2 [==============================] - 2s 826ms/step - loss: 0.5557 - accuracy: 0.8320 - val_loss: 1.0821 - val_accuracy: 0.5600\n",
            "Epoch 8/35\n",
            "2/2 [==============================] - 2s 752ms/step - loss: 0.4972 - accuracy: 0.8720 - val_loss: 1.1105 - val_accuracy: 0.5160\n",
            "Epoch 9/35\n",
            "2/2 [==============================] - ETA: 0s - loss: 0.4737 - accuracy: 0.8560Restoring model weights from the end of the best epoch.\n",
            "2/2 [==============================] - 2s 817ms/step - loss: 0.4737 - accuracy: 0.8560 - val_loss: 1.1675 - val_accuracy: 0.5000\n",
            "Epoch 00009: early stopping\n"
          ],
          "name": "stdout"
        },
        {
          "output_type": "display_data",
          "data": {
            "image/png": "[encoded data removed]",
            "text/plain": [
              "<Figure size 432x288 with 1 Axes>"
            ]
          },
          "metadata": {
            "tags": []
          }
        }
      ]
    }
  ]
}